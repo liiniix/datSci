{
 "cells": [
  {
   "cell_type": "markdown",
   "metadata": {},
   "source": [
    "# Regular Expressions"
   ]
  },
  {
   "cell_type": "markdown",
   "metadata": {},
   "source": [
    "Regular Expression helps us efficiently manipulate big text with simple syntext. Python has `re` library to do regular expression functionalities."
   ]
  },
  {
   "cell_type": "markdown",
   "metadata": {},
   "source": [
    "## Maching Characters\n",
    "Most characters match with themselves. But there are some characters who don't match with themselves rather the signal some special things in `re`. They are called methacharacters. This is the complete list:\n",
    "``` python\n",
    ". ^ $ * + ? { } [ ] \\ | ( )\n",
    "```\n",
    "- `[]` used to specify character class. `[abc]`  means `a`, `b` or `c`. This class is specifiable by `[a-b]`\n",
    "- `^` is used for complementing a set. For example `[^a]` means all characters except `a`\n",
    "- `\\` is used to signals various special sequences. It is also used to escape all the metacharacters. To match `\\`, `\\\\` is used.\n",
    "    - `\\d` matches any decimal digit: equivalent to `[0-9]`\n",
    "    - `\\D` matches any non-decimal digit: equivalent to `[^0-9]`\n",
    "    - `\\s` matches any whitespace characters: equivalent to `[ \\t\\n\\r\\f\\v]`\n",
    "    - `\\S` matches any non-whitespace characters: equivalent to `[^ \\t\\n\\r\\f\\v]`\n",
    "    - `\\w` matches any alphaneumeric characters: equivalent to `[a-zA-Z0-9_]`\n",
    "    - `\\W` matches any non-alphaneumeric characters: equivalent to `[^a-zA-Z0-9_]`"
   ]
  },
  {
   "cell_type": "markdown",
   "metadata": {},
   "source": [
    "## Repeating Things\n",
    "Several metacharacters for repeating things are\n",
    "``` python\n",
    "* + ? {m,n}\n",
    "```\n",
    "- `*` specifies that previous character can be matched zero or more times.\n",
    "- `+` specifies that previous character can be matched one or more times.\n",
    "- `?` specifies that previous character can be matched zero or one time.\n",
    "- `{m,n}` specifies that previous character can be matched zero or one time."
   ]
  },
  {
   "cell_type": "markdown",
   "metadata": {},
   "source": [
    "## Compiling Regular Expressions\n",
    "Regular expressions are compiled into pattern objects. The RE is passed to `re.compile()` as a string"
   ]
  },
  {
   "cell_type": "code",
   "execution_count": 1,
   "metadata": {},
   "outputs": [
    {
     "data": {
      "text/plain": [
       "re.compile(r'ab*')"
      ]
     },
     "execution_count": 1,
     "metadata": {},
     "output_type": "execute_result"
    }
   ],
   "source": [
    "import re\n",
    "p = re.compile('ab*')\n",
    "p"
   ]
  },
  {
   "cell_type": "markdown",
   "metadata": {},
   "source": [
    "`re.compile()` accepts flag arguments:"
   ]
  },
  {
   "cell_type": "code",
   "execution_count": 2,
   "metadata": {},
   "outputs": [],
   "source": [
    "p = re.compile('ab*', re.IGNORECASE)"
   ]
  },
  {
   "cell_type": "markdown",
   "metadata": {},
   "source": [
    "## The Backlash Plague\n",
    "Regular Expressions use `\\` to indicate special forms which conflicts with `Python`'s usage of same character for the same purpose. That's why the backlash plague is used. The table is shown for mactching an example latex string `\\section`\n",
    "\n",
    "| Characters  | Stage  |\n",
    "|---|---|\n",
    "| \\section  |  Text string to be matched |\n",
    "|  \\\\section |  Escaped backslash for re.compile() |\n",
    "| \"\\\\\\\\section\"  | Escaped backslashes for a string literal  |\n",
    "\n",
    "Alternatively, we can use `Python`'s row string notation for regular expressuions.\n",
    "\n",
    "|  Regular String |  Raw string |\n",
    "|---|---|\n",
    "| \"ab*\" |  r\"ab*\" |\n",
    "|  \"\\\\\\\\section\" |  r\"\\\\section\"|\n",
    "| \"\\\\w+\\\\s+\\\\1\"  | r\"\\w+\\s+\\1\" |"
   ]
  },
  {
   "cell_type": "markdown",
   "metadata": {},
   "source": [
    "## Performing Matches\n",
    "Important arrtibutes for pattern object are:\n",
    "\n",
    "|  Method/Attribute |  Purpose |\n",
    "|---|---|\n",
    "| match() |  Determine if the RE matches at the beginning of the string |\n",
    "|  search() |  Scan through a string, looking for any location where this RE matches.|\n",
    "| findall()  | Find all substrings where the RE matches, and returns them as a list. |\n",
    "| finditer() | Find all substrings where the RE matches, and returns them as an iterator. |"
   ]
  },
  {
   "cell_type": "markdown",
   "metadata": {},
   "source": [
    "For experiment, we will import `re` and compile a regular expression:"
   ]
  },
  {
   "cell_type": "code",
   "execution_count": 3,
   "metadata": {},
   "outputs": [
    {
     "data": {
      "text/plain": [
       "re.compile(r'[a-z]+')"
      ]
     },
     "execution_count": 3,
     "metadata": {},
     "output_type": "execute_result"
    }
   ],
   "source": [
    "import re\n",
    "p = re.compile(r'[a-z]+')\n",
    "p"
   ]
  },
  {
   "cell_type": "markdown",
   "metadata": {},
   "source": [
    "Try to to match empty string with this expression. This will return `None`"
   ]
  },
  {
   "cell_type": "markdown",
   "metadata": {},
   "source": [
    "p.match(\"\")\n",
    "print(p.match(\"\"))"
   ]
  },
  {
   "cell_type": "markdown",
   "metadata": {},
   "source": [
    "Try to match this expression with string `tempo`."
   ]
  },
  {
   "cell_type": "code",
   "execution_count": 4,
   "metadata": {},
   "outputs": [
    {
     "data": {
      "text/plain": [
       "<_sre.SRE_Match at 0x7f2c0447b9d0>"
      ]
     },
     "execution_count": 4,
     "metadata": {},
     "output_type": "execute_result"
    }
   ],
   "source": [
    "m = p.match('tempo')\n",
    "m"
   ]
  },
  {
   "cell_type": "markdown",
   "metadata": {},
   "source": [
    "| Method/Attribute | Purpose |\n",
    "|---|---|\n",
    "| group() | Return the string matched by the RE| \n",
    "|start() | Return the starting position of the match|\n",
    "| end() | Return the ending position of the match|\n",
    "| span() |Return a tuple containing the (start, end) positions of the match |"
   ]
  },
  {
   "cell_type": "code",
   "execution_count": 5,
   "metadata": {},
   "outputs": [
    {
     "data": {
      "text/plain": [
       "'tempo'"
      ]
     },
     "execution_count": 5,
     "metadata": {},
     "output_type": "execute_result"
    }
   ],
   "source": [
    "m.group()"
   ]
  },
  {
   "cell_type": "code",
   "execution_count": 6,
   "metadata": {},
   "outputs": [
    {
     "data": {
      "text/plain": [
       "(0, 5)"
      ]
     },
     "execution_count": 6,
     "metadata": {},
     "output_type": "execute_result"
    }
   ],
   "source": [
    "m.start(), m.end()"
   ]
  },
  {
   "cell_type": "code",
   "execution_count": 7,
   "metadata": {},
   "outputs": [
    {
     "data": {
      "text/plain": [
       "(0, 5)"
      ]
     },
     "execution_count": 7,
     "metadata": {},
     "output_type": "execute_result"
    }
   ],
   "source": [
    "m.span()"
   ]
  },
  {
   "cell_type": "markdown",
   "metadata": {},
   "source": [
    "`findall()` returns a list of matching strings:"
   ]
  },
  {
   "cell_type": "code",
   "execution_count": 8,
   "metadata": {},
   "outputs": [
    {
     "data": {
      "text/plain": [
       "['12', '13', '14', '1000']"
      ]
     },
     "execution_count": 8,
     "metadata": {},
     "output_type": "execute_result"
    }
   ],
   "source": [
    "p = re.compile(r'\\d+')\n",
    "p.findall('12 , 13, 14, 1000')"
   ]
  },
  {
   "cell_type": "markdown",
   "metadata": {},
   "source": [
    "`finditer()` returns a sequence of match object instance as an iterator:"
   ]
  },
  {
   "cell_type": "code",
   "execution_count": 9,
   "metadata": {},
   "outputs": [
    {
     "data": {
      "text/plain": [
       "<callable-iterator at 0x7f2c0446b1d0>"
      ]
     },
     "execution_count": 9,
     "metadata": {},
     "output_type": "execute_result"
    }
   ],
   "source": [
    "it = p.finditer('12, 13, 14, 15')\n",
    "it"
   ]
  },
  {
   "cell_type": "code",
   "execution_count": 10,
   "metadata": {},
   "outputs": [
    {
     "name": "stdout",
     "output_type": "stream",
     "text": [
      "(0, 2)\n",
      "(4, 6)\n",
      "(8, 10)\n",
      "(12, 14)\n"
     ]
    }
   ],
   "source": [
    "for match in it:\n",
    "    print(match.span())"
   ]
  },
  {
   "cell_type": "markdown",
   "metadata": {},
   "source": [
    "## Module-Level Functions\n",
    "We can also use `re` in this manner instead of the way shown before:"
   ]
  },
  {
   "cell_type": "code",
   "execution_count": 11,
   "metadata": {},
   "outputs": [
    {
     "name": "stdout",
     "output_type": "stream",
     "text": [
      "None\n"
     ]
    }
   ],
   "source": [
    "print(re.match(r'\\s', 'A B'))"
   ]
  },
  {
   "cell_type": "code",
   "execution_count": 12,
   "metadata": {},
   "outputs": [
    {
     "name": "stdout",
     "output_type": "stream",
     "text": [
      "<_sre.SRE_Match object at 0x7f2c04551c00>\n"
     ]
    }
   ],
   "source": [
    "print(re.match(r'\\s', ' A'))"
   ]
  },
  {
   "cell_type": "markdown",
   "metadata": {},
   "source": [
    "## Grouping\n",
    "Grouping are marked by `(` and `)`. By this, we can group a string and make RE operation on that."
   ]
  },
  {
   "cell_type": "code",
   "execution_count": 13,
   "metadata": {},
   "outputs": [
    {
     "name": "stdout",
     "output_type": "stream",
     "text": [
      "(0, 8)\n"
     ]
    }
   ],
   "source": [
    "p = re.compile(r'(ab)*')\n",
    "print(p.match('ababababa').span())"
   ]
  },
  {
   "cell_type": "code",
   "execution_count": 14,
   "metadata": {},
   "outputs": [
    {
     "data": {
      "text/plain": [
       "'ab'"
      ]
     },
     "execution_count": 14,
     "metadata": {},
     "output_type": "execute_result"
    }
   ],
   "source": [
    "p = re.compile('(a)b')\n",
    "m = p.match('ab')\n",
    "m.group()\n"
   ]
  },
  {
   "cell_type": "markdown",
   "metadata": {},
   "source": [
    "## Modifying Strings\n",
    "\n",
    "|Method/Attribute | Purpose|\n",
    "|---|---|\n",
    "|split()|Split the string into a list, splitting it wherever the RE matches|\n",
    "|sub()|Find all substrings where the RE matches, and replace them with a different string|\n",
    "|subn()|Does the same thing as sub(), but returns the new string and the number of replacements|"
   ]
  },
  {
   "cell_type": "markdown",
   "metadata": {},
   "source": [
    "## Split"
   ]
  },
  {
   "cell_type": "code",
   "execution_count": 15,
   "metadata": {},
   "outputs": [
    {
     "data": {
      "text/plain": [
       "['Hello',\n",
       " 'is',\n",
       " 'what',\n",
       " 'we',\n",
       " 'say',\n",
       " 'But',\n",
       " 'Mello',\n",
       " 'is',\n",
       " 'what',\n",
       " 'minions',\n",
       " 'say']"
      ]
     },
     "execution_count": 15,
     "metadata": {},
     "output_type": "execute_result"
    }
   ],
   "source": [
    "p = re.compile(r'\\W+')\n",
    "p.split('Hello is what we say. But Mello is what minions say')"
   ]
  },
  {
   "cell_type": "markdown",
   "metadata": {},
   "source": [
    "## Search and Replace"
   ]
  },
  {
   "cell_type": "code",
   "execution_count": 16,
   "metadata": {},
   "outputs": [
    {
     "data": {
      "text/plain": [
       "'We eat food, food and food'"
      ]
     },
     "execution_count": 16,
     "metadata": {},
     "output_type": "execute_result"
    }
   ],
   "source": [
    "p = re.compile('(egg|fish|chicken)')\n",
    "p.sub('food', 'We eat egg, fish and chicken')"
   ]
  },
  {
   "cell_type": "markdown",
   "metadata": {},
   "source": [
    "`subn()` also does the same way, but it returns a 2-tuple containing new string value and number of replacements."
   ]
  },
  {
   "cell_type": "code",
   "execution_count": 17,
   "metadata": {},
   "outputs": [
    {
     "data": {
      "text/plain": [
       "('We eat food, food and food', 3)"
      ]
     },
     "execution_count": 17,
     "metadata": {},
     "output_type": "execute_result"
    }
   ],
   "source": [
    "p = re.compile('(egg|fish|chicken)')\n",
    "p.subn('food', 'We eat egg, fish and chicken')"
   ]
  },
  {
   "cell_type": "markdown",
   "metadata": {},
   "source": [
    "# Rest Api"
   ]
  },
  {
   "cell_type": "markdown",
   "metadata": {},
   "source": [
    "We have to begin by importing `requests` mpdule"
   ]
  },
  {
   "cell_type": "code",
   "execution_count": 18,
   "metadata": {},
   "outputs": [],
   "source": [
    "import requests"
   ]
  },
  {
   "cell_type": "markdown",
   "metadata": {},
   "source": [
    "Let's get `GitHub`'s page:"
   ]
  },
  {
   "cell_type": "code",
   "execution_count": 19,
   "metadata": {},
   "outputs": [],
   "source": [
    "r = requests.get('https://api.github.com/events')"
   ]
  },
  {
   "cell_type": "markdown",
   "metadata": {},
   "source": [
    "Our *response* object is `r`. We can make a `HTTP POST` like this:"
   ]
  },
  {
   "cell_type": "code",
   "execution_count": 20,
   "metadata": {},
   "outputs": [],
   "source": [
    "r = requests.post('https://httpbin.org/post', data = {'key':'value'})"
   ]
  },
  {
   "cell_type": "markdown",
   "metadata": {},
   "source": [
    "For other `HTTP` types: `PUT`, `DELETE`, `HEAD` and `OPTIONS`:"
   ]
  },
  {
   "cell_type": "code",
   "execution_count": 21,
   "metadata": {},
   "outputs": [],
   "source": [
    "r = requests.put('https://httpbin.org/put', data = {'key':'value'})\n",
    "r = requests.delete('https://httpbin.org/delete')\n",
    "r = requests.head('https://httpbin.org/get')\n",
    "r = requests.options('https://httpbin.org/get')"
   ]
  },
  {
   "cell_type": "markdown",
   "metadata": {},
   "source": [
    "## Passing Parameters in URLs\n",
    "if you wanted to pass key1=value1 and key2=value2 to `httpbin.org/get`, you would use the following code:"
   ]
  },
  {
   "cell_type": "code",
   "execution_count": 22,
   "metadata": {},
   "outputs": [],
   "source": [
    "payload = {'key1': 'value1', 'key2': 'value2'}\n",
    "r = requests.get('https://httpbin.org/get', params=payload)"
   ]
  },
  {
   "cell_type": "code",
   "execution_count": 23,
   "metadata": {},
   "outputs": [
    {
     "name": "stdout",
     "output_type": "stream",
     "text": [
      "https://httpbin.org/get?key2=value2&key1=value1\n"
     ]
    }
   ],
   "source": [
    "print(r.url)"
   ]
  },
  {
   "cell_type": "markdown",
   "metadata": {},
   "source": [
    "## Response Content"
   ]
  },
  {
   "cell_type": "code",
   "execution_count": 24,
   "metadata": {},
   "outputs": [
    {
     "data": {
      "text/plain": [
       "u'[{\"id\":\"11490532220\",\"type\":\"CreateEvent\",\"actor\":{\"id\":10810283,\"login\":\"direwolf-github\",\"display_login\":\"direwolf-github\",\"gravatar_id\":\"\",\"url\":\"https://api.github.com/users/direwolf-github\",\"avatar_url\":\"https://avatars.githubusercontent.com/u/10810283?\"},\"repo\":{\"id\":239819832,\"name\":\"direwolf-github/ephemeral-ci-24f091d5\",\"url\":\"https://api.github.com/repos/direwolf-github/ephemeral-ci-24f091d5\"},\"payload\":{\"ref\":null,\"ref_type\":\"repository\",\"master_branch\":\"master\",\"description\":null,\"pusher_type\":\"user\"},\"public\":true,\"created_at\":\"2020-02-11T17:14:53Z\"},{\"id\":\"11490532217\",\"type\":\"ForkEvent\",\"actor\":{\"id\":270587,\"login\":\"Hsaka\",\"display_login\":\"Hsaka\",\"gravatar_id\":\"\",\"url\":\"https://api.github.com/users/Hsaka\",\"avatar_url\":\"https://avatars.githubusercontent.com/u/270587?\"},\"repo\":{\"id\":143147062,\"name\":\"koreezgames/phaser3-particle-editor\",\"url\":\"https://api.github.com/repos/koreezgames/phaser3-particle-editor\"},\"payload\":{\"forkee\":{\"id\":239819833,\"node_id\":\"MDEwOlJlcG9zaXRvcnkyMzk4MTk4MzM=\",\"name\":\"phaser3-particle-editor\",\"full_name\":\"Hsaka/phaser3-particle-editor\",\"private\":false,\"owner\":{\"login\":\"Hsaka\",\"id\":270587,\"node_id\":\"MDQ6VXNlcjI3MDU4Nw==\",\"avatar_url\":\"https://avatars1.githubusercontent.com/u/270587?v=4\",\"gravatar_id\":\"\",\"url\":\"https://api.github.com/users/Hsaka\",\"html_url\":\"https://github.com/Hsaka\",\"followers_url\":\"https://api.github.com/users/Hsaka/followers\",\"following_url\":\"https://api.github.com/users/Hsaka/following{/other_user}\",\"gists_url\":\"https://api.github.com/users/Hsaka/gists{/gist_id}\",\"starred_url\":\"https://api.github.com/users/Hsaka/starred{/owner}{/repo}\",\"subscriptions_url\":\"https://api.github.com/users/Hsaka/subscriptions\",\"organizations_url\":\"https://api.github.com/users/Hsaka/orgs\",\"repos_url\":\"https://api.github.com/users/Hsaka/repos\",\"events_url\":\"https://api.github.com/users/Hsaka/events{/privacy}\",\"received_events_url\":\"https://api.github.com/users/Hsaka/received_events\",\"type\":\"User\",\"site_admin\":false},\"html_url\":\"https://github.com/Hsaka/phaser3-particle-editor\",\"description\":\"A flexible editor for building phaser particles.\",\"fork\":true,\"url\":\"https://api.github.com/repos/Hsaka/phaser3-particle-editor\",\"forks_url\":\"https://api.github.com/repos/Hsaka/phaser3-particle-editor/forks\",\"keys_url\":\"https://api.github.com/repos/Hsaka/phaser3-particle-editor/keys{/key_id}\",\"collaborators_url\":\"https://api.github.com/repos/Hsaka/phaser3-particle-editor/collaborators{/collaborator}\",\"teams_url\":\"https://api.github.com/repos/Hsaka/phaser3-particle-editor/teams\",\"hooks_url\":\"https://api.github.com/repos/Hsaka/phaser3-particle-editor/hooks\",\"issue_events_url\":\"https://api.github.com/repos/Hsaka/phaser3-particle-editor/issues/events{/number}\",\"events_url\":\"https://api.github.com/repos/Hsaka/phaser3-particle-editor/events\",\"assignees_url\":\"https://api.github.com/repos/Hsaka/phaser3-particle-editor/assignees{/user}\",\"branches_url\":\"https://api.github.com/repos/Hsaka/phaser3-particle-editor/branches{/branch}\",\"tags_url\":\"https://api.github.com/repos/Hsaka/phaser3-particle-editor/tags\",\"blobs_url\":\"https://api.github.com/repos/Hsaka/phaser3-particle-editor/git/blobs{/sha}\",\"git_tags_url\":\"https://api.github.com/repos/Hsaka/phaser3-particle-editor/git/tags{/sha}\",\"git_refs_url\":\"https://api.github.com/repos/Hsaka/phaser3-particle-editor/git/refs{/sha}\",\"trees_url\":\"https://api.github.com/repos/Hsaka/phaser3-particle-editor/git/trees{/sha}\",\"statuses_url\":\"https://api.github.com/repos/Hsaka/phaser3-particle-editor/statuses/{sha}\",\"languages_url\":\"https://api.github.com/repos/Hsaka/phaser3-particle-editor/languages\",\"stargazers_url\":\"https://api.github.com/repos/Hsaka/phaser3-particle-editor/stargazers\",\"contributors_url\":\"https://api.github.com/repos/Hsaka/phaser3-particle-editor/contributors\",\"subscribers_url\":\"https://api.github.com/repos/Hsaka/phaser3-particle-editor/subscribers\",\"subscription_url\":\"https://api.github.com/repos/Hsaka/phaser3-particle-editor/subscription\",\"commits_url\":\"https://api.github.com/repos/Hsaka/phaser3-particle-editor/commits{/sha}\",\"git_commits_url\":\"https://api.github.com/repos/Hsaka/phaser3-particle-editor/git/commits{/sha}\",\"comments_url\":\"https://api.github.com/repos/Hsaka/phaser3-particle-editor/comments{/number}\",\"issue_comment_url\":\"https://api.github.com/repos/Hsaka/phaser3-particle-editor/issues/comments{/number}\",\"contents_url\":\"https://api.github.com/repos/Hsaka/phaser3-particle-editor/contents/{+path}\",\"compare_url\":\"https://api.github.com/repos/Hsaka/phaser3-particle-editor/compare/{base}...{head}\",\"merges_url\":\"https://api.github.com/repos/Hsaka/phaser3-particle-editor/merges\",\"archive_url\":\"https://api.github.com/repos/Hsaka/phaser3-particle-editor/{archive_format}{/ref}\",\"downloads_url\":\"https://api.github.com/repos/Hsaka/phaser3-particle-editor/downloads\",\"issues_url\":\"https://api.github.com/repos/Hsaka/phaser3-particle-editor/issues{/number}\",\"pulls_url\":\"https://api.github.com/repos/Hsaka/phaser3-particle-editor/pulls{/number}\",\"milestones_url\":\"https://api.github.com/repos/Hsaka/phaser3-particle-editor/milestones{/number}\",\"notifications_url\":\"https://api.github.com/repos/Hsaka/phaser3-particle-editor/notifications{?since,all,participating}\",\"labels_url\":\"https://api.github.com/repos/Hsaka/phaser3-particle-editor/labels{/name}\",\"releases_url\":\"https://api.github.com/repos/Hsaka/phaser3-particle-editor/releases{/id}\",\"deployments_url\":\"https://api.github.com/repos/Hsaka/phaser3-particle-editor/deployments\",\"created_at\":\"2020-02-11T17:14:52Z\",\"updated_at\":\"2020-02-04T15:14:48Z\",\"pushed_at\":\"2020-02-06T20:10:20Z\",\"git_url\":\"git://github.com/Hsaka/phaser3-particle-editor.git\",\"ssh_url\":\"git@github.com:Hsaka/phaser3-particle-editor.git\",\"clone_url\":\"https://github.com/Hsaka/phaser3-particle-editor.git\",\"svn_url\":\"https://github.com/Hsaka/phaser3-particle-editor\",\"homepage\":\"https://koreezgames.github.io/phaser3-particle-editor/\",\"size\":11547,\"stargazers_count\":0,\"watchers_count\":0,\"language\":null,\"has_issues\":false,\"has_projects\":true,\"has_downloads\":true,\"has_wiki\":true,\"has_pages\":false,\"forks_count\":0,\"mirror_url\":null,\"archived\":false,\"disabled\":false,\"open_issues_count\":0,\"license\":{\"key\":\"mit\",\"name\":\"MIT License\",\"spdx_id\":\"MIT\",\"url\":\"https://api.github.com/licenses/mit\",\"node_id\":\"MDc6TGljZW5zZTEz\"},\"forks\":0,\"open_issues\":0,\"watchers\":0,\"default_branch\":\"master\",\"public\":true}},\"public\":true,\"created_at\":\"2020-02-11T17:14:53Z\",\"org\":{\"id\":17797581,\"login\":\"koreezgames\",\"gravatar_id\":\"\",\"url\":\"https://api.github.com/orgs/koreezgames\",\"avatar_url\":\"https://avatars.githubusercontent.com/u/17797581?\"}},{\"id\":\"11490532209\",\"type\":\"PushEvent\",\"actor\":{\"id\":50072563,\"login\":\"stankevich-mipt\",\"display_login\":\"stankevich-mipt\",\"gravatar_id\":\"\",\"url\":\"https://api.github.com/users/stankevich-mipt\",\"avatar_url\":\"https://avatars.githubusercontent.com/u/50072563?\"},\"repo\":{\"id\":188193357,\"name\":\"stankevich-mipt/Computational-Mathematics---Coursework\",\"url\":\"https://api.github.com/repos/stankevich-mipt/Computational-Mathematics---Coursework\"},\"payload\":{\"push_id\":4616752201,\"size\":1,\"distinct_size\":1,\"ref\":\"refs/heads/master\",\"head\":\"8eac6d44d33af2c917ec0f4888fa65cbe4ecc3a1\",\"before\":\"bf1bb895379a53045d15f6de46aa50dd1d55e91c\",\"commits\":[{\"sha\":\"8eac6d44d33af2c917ec0f4888fa65cbe4ecc3a1\",\"author\":{\"email\":\"50072563+stankevich-mipt@users.noreply.github.com\",\"name\":\"Andrey Stankevich\"},\"message\":\"Update README.md\",\"distinct\":true,\"url\":\"https://api.github.com/repos/stankevich-mipt/Computational-Mathematics---Coursework/commits/8eac6d44d33af2c917ec0f4888fa65cbe4ecc3a1\"}]},\"public\":true,\"created_at\":\"2020-02-11T17:14:53Z\"},{\"id\":\"11490532199\",\"type\":\"PushEvent\",\"actor\":{\"id\":57669992,\"login\":\"AnGREATern\",\"display_login\":\"AnGREATern\",\"gravatar_id\":\"\",\"url\":\"https://api.github.com/users/AnGREATern\",\"avatar_url\":\"https://avatars.githubusercontent.com/u/57669992?\"},\"repo\":{\"id\":230503845,\"name\":\"Gooosee/QuietCry\",\"url\":\"https://api.github.com/repos/Gooosee/QuietCry\"},\"payload\":{\"push_id\":4616752196,\"size\":1,\"distinct_size\":1,\"ref\":\"refs/heads/master\",\"head\":\"aeb5fd4aa15e37591fde9894c184a417f7567cfc\",\"before\":\"4bd4dc6eac2880b0614070d30060c1185c4bec8d\",\"commits\":[{\"sha\":\"aeb5fd4aa15e37591fde9894c184a417f7567cfc\",\"author\":{\"email\":\"saromanovlad@gmail.com\",\"name\":\"Vlad\"},\"message\":\"\\u0414\\u043e\\u0431\\u0430\\u0432\\u043b\\u0435\\u043d\\u0438\\u0435 3 \\u0437\\u0432\\u0443\\u043a\\u043e\\u0432, \\u0440\\u0435\\u043b\\u0438\\u0437\\u043d\\u0430\\u044f \\u0432\\u0435\\u0440\\u0441\\u0438\\u044f\",\"distinct\":true,\"url\":\"https://api.github.com/repos/Gooosee/QuietCry/commits/aeb5fd4aa15e37591fde9894c184a417f7567cfc\"}]},\"public\":true,\"created_at\":\"2020-02-11T17:14:53Z\"},{\"id\":\"11490532196\",\"type\":\"PushEvent\",\"actor\":{\"id\":1467444,\"login\":\"douglasmiller\",\"display_login\":\"douglasmiller\",\"gravatar_id\":\"\",\"url\":\"https://api.github.com/users/douglasmiller\",\"avatar_url\":\"https://avatars.githubusercontent.com/u/1467444?\"},\"repo\":{\"id\":239818973,\"name\":\"douglasmiller/recurly-client-node\",\"url\":\"https://api.github.com/repos/douglasmiller/recurly-client-node\"},\"payload\":{\"push_id\":4616752197,\"size\":1,\"distinct_size\":1,\"ref\":\"refs/heads/master\",\"head\":\"68b167644c76f9554ffafc354e7bad50ac507048\",\"before\":\"75e21a4a087d36305343d66ae6e1353e07003b19\",\"commits\":[{\"sha\":\"68b167644c76f9554ffafc354e7bad50ac507048\",\"author\":{\"email\":\"doug@douglas-miller.com\",\"name\":\"Doug Miller\"},\"message\":\"Update Changelog for Release 3.3.2\",\"distinct\":true,\"url\":\"https://api.github.com/repos/douglasmiller/recurly-client-node/commits/68b167644c76f9554ffafc354e7bad50ac507048\"}]},\"public\":true,\"created_at\":\"2020-02-11T17:14:53Z\"},{\"id\":\"11490532203\",\"type\":\"WatchEvent\",\"actor\":{\"id\":5251938,\"login\":\"thanhtrdang\",\"display_login\":\"thanhtrdang\",\"gravatar_id\":\"\",\"url\":\"https://api.github.com/users/thanhtrdang\",\"avatar_url\":\"https://avatars.githubusercontent.com/u/5251938?\"},\"repo\":{\"id\":103068483,\"name\":\"alvinj/FPMonadTransformers\",\"url\":\"https://api.github.com/repos/alvinj/FPMonadTransformers\"},\"payload\":{\"action\":\"started\"},\"public\":true,\"created_at\":\"2020-02-11T17:14:53Z\"},{\"id\":\"11490532187\",\"type\":\"PullRequestEvent\",\"actor\":{\"id\":194147,\"login\":\"gerrymanoim\",\"display_login\":\"gerrymanoim\",\"gravatar_id\":\"\",\"url\":\"https://api.github.com/users/gerrymanoim\",\"avatar_url\":\"https://avatars.githubusercontent.com/u/194147?\"},\"repo\":{\"id\":24624545,\"name\":\"quantopian/qgrid\",\"url\":\"https://api.github.com/repos/quantopian/qgrid\"},\"payload\":{\"action\":\"opened\",\"number\":293,\"pull_request\":{\"url\":\"https://api.github.com/repos/quantopian/qgrid/pulls/293\",\"id\":373780340,\"node_id\":\"MDExOlB1bGxSZXF1ZXN0MzczNzgwMzQw\",\"html_url\":\"https://github.com/quantopian/qgrid/pull/293\",\"diff_url\":\"https://github.com/quantopian/qgrid/pull/293.diff\",\"patch_url\":\"https://github.com/quantopian/qgrid/pull/293.patch\",\"issue_url\":\"https://api.github.com/repos/quantopian/qgrid/issues/293\",\"number\":293,\"state\":\"open\",\"locked\":false,\"title\":\"GH actions for tests\",\"user\":{\"login\":\"gerrymanoim\",\"id\":194147,\"node_id\":\"MDQ6VXNlcjE5NDE0Nw==\",\"avatar_url\":\"https://avatars2.githubusercontent.com/u/194147?v=4\",\"gravatar_id\":\"\",\"url\":\"https://api.github.com/users/gerrymanoim\",\"html_url\":\"https://github.com/gerrymanoim\",\"followers_url\":\"https://api.github.com/users/gerrymanoim/followers\",\"following_url\":\"https://api.github.com/users/gerrymanoim/following{/other_user}\",\"gists_url\":\"https://api.github.com/users/gerrymanoim/gists{/gist_id}\",\"starred_url\":\"https://api.github.com/users/gerrymanoim/starred{/owner}{/repo}\",\"subscriptions_url\":\"https://api.github.com/users/gerrymanoim/subscriptions\",\"organizations_url\":\"https://api.github.com/users/gerrymanoim/orgs\",\"repos_url\":\"https://api.github.com/users/gerrymanoim/repos\",\"events_url\":\"https://api.github.com/users/gerrymanoim/events{/privacy}\",\"received_events_url\":\"https://api.github.com/users/gerrymanoim/received_events\",\"type\":\"User\",\"site_admin\":false},\"body\":\"\",\"created_at\":\"2020-02-11T17:14:52Z\",\"updated_at\":\"2020-02-11T17:14:52Z\",\"closed_at\":null,\"merged_at\":null,\"merge_commit_sha\":null,\"assignee\":null,\"assignees\":[],\"requested_reviewers\":[],\"requested_teams\":[],\"labels\":[],\"milestone\":null,\"commits_url\":\"https://api.github.com/repos/quantopian/qgrid/pulls/293/commits\",\"review_comments_url\":\"https://api.github.com/repos/quantopian/qgrid/pulls/293/comments\",\"review_comment_url\":\"https://api.github.com/repos/quantopian/qgrid/pulls/comments{/number}\",\"comments_url\":\"https://api.github.com/repos/quantopian/qgrid/issues/293/comments\",\"statuses_url\":\"https://api.github.com/repos/quantopian/qgrid/statuses/c9925bf52681a52e568d6ba7d71a4a1387dddab4\",\"head\":{\"label\":\"quantopian:gh-actions\",\"ref\":\"gh-actions\",\"sha\":\"c9925bf52681a52e568d6ba7d71a4a1387dddab4\",\"user\":{\"login\":\"quantopian\",\"id\":1393215,\"node_id\":\"MDEyOk9yZ2FuaXphdGlvbjEzOTMyMTU=\",\"avatar_url\":\"https://avatars0.githubusercontent.com/u/1393215?v=4\",\"gravatar_id\":\"\",\"url\":\"https://api.github.com/users/quantopian\",\"html_url\":\"https://github.com/quantopian\",\"followers_url\":\"https://api.github.com/users/quantopian/followers\",\"following_url\":\"https://api.github.com/users/quantopian/following{/other_user}\",\"gists_url\":\"https://api.github.com/users/quantopian/gists{/gist_id}\",\"starred_url\":\"https://api.github.com/users/quantopian/starred{/owner}{/repo}\",\"subscriptions_url\":\"https://api.github.com/users/quantopian/subscriptions\",\"organizations_url\":\"https://api.github.com/users/quantopian/orgs\",\"repos_url\":\"https://api.github.com/users/quantopian/repos\",\"events_url\":\"https://api.github.com/users/quantopian/events{/privacy}\",\"received_events_url\":\"https://api.github.com/users/quantopian/received_events\",\"type\":\"Organization\",\"site_admin\":false},\"repo\":{\"id\":24624545,\"node_id\":\"MDEwOlJlcG9zaXRvcnkyNDYyNDU0NQ==\",\"name\":\"qgrid\",\"full_name\":\"quantopian/qgrid\",\"private\":false,\"owner\":{\"login\":\"quantopian\",\"id\":1393215,\"node_id\":\"MDEyOk9yZ2FuaXphdGlvbjEzOTMyMTU=\",\"avatar_url\":\"https://avatars0.githubusercontent.com/u/1393215?v=4\",\"gravatar_id\":\"\",\"url\":\"https://api.github.com/users/quantopian\",\"html_url\":\"https://github.com/quantopian\",\"followers_url\":\"https://api.github.com/users/quantopian/followers\",\"following_url\":\"https://api.github.com/users/quantopian/following{/other_user}\",\"gists_url\":\"https://api.github.com/users/quantopian/gists{/gist_id}\",\"starred_url\":\"https://api.github.com/users/quantopian/starred{/owner}{/repo}\",\"subscriptions_url\":\"https://api.github.com/users/quantopian/subscriptions\",\"organizations_url\":\"https://api.github.com/users/quantopian/orgs\",\"repos_url\":\"https://api.github.com/users/quantopian/repos\",\"events_url\":\"https://api.github.com/users/quantopian/events{/privacy}\",\"received_events_url\":\"https://api.github.com/users/quantopian/received_events\",\"type\":\"Organization\",\"site_admin\":false},\"html_url\":\"https://github.com/quantopian/qgrid\",\"description\":\"An interactive grid for sorting, filtering, and editing DataFrames in Jupyter notebooks\",\"fork\":false,\"url\":\"https://api.github.com/repos/quantopian/qgrid\",\"forks_url\":\"https://api.github.com/repos/quantopian/qgrid/forks\",\"keys_url\":\"https://api.github.com/repos/quantopian/qgrid/keys{/key_id}\",\"collaborators_url\":\"https://api.github.com/repos/quantopian/qgrid/collaborators{/collaborator}\",\"teams_url\":\"https://api.github.com/repos/quantopian/qgrid/teams\",\"hooks_url\":\"https://api.github.com/repos/quantopian/qgrid/hooks\",\"issue_events_url\":\"https://api.github.com/repos/quantopian/qgrid/issues/events{/number}\",\"events_url\":\"https://api.github.com/repos/quantopian/qgrid/events\",\"assignees_url\":\"https://api.github.com/repos/quantopian/qgrid/assignees{/user}\",\"branches_url\":\"https://api.github.com/repos/quantopian/qgrid/branches{/branch}\",\"tags_url\":\"https://api.github.com/repos/quantopian/qgrid/tags\",\"blobs_url\":\"https://api.github.com/repos/quantopian/qgrid/git/blobs{/sha}\",\"git_tags_url\":\"https://api.github.com/repos/quantopian/qgrid/git/tags{/sha}\",\"git_refs_url\":\"https://api.github.com/repos/quantopian/qgrid/git/refs{/sha}\",\"trees_url\":\"https://api.github.com/repos/quantopian/qgrid/git/trees{/sha}\",\"statuses_url\":\"https://api.github.com/repos/quantopian/qgrid/statuses/{sha}\",\"languages_url\":\"https://api.github.com/repos/quantopian/qgrid/languages\",\"stargazers_url\":\"https://api.github.com/repos/quantopian/qgrid/stargazers\",\"contributors_url\":\"https://api.github.com/repos/quantopian/qgrid/contributors\",\"subscribers_url\":\"https://api.github.com/repos/quantopian/qgrid/subscribers\",\"subscription_url\":\"https://api.github.com/repos/quantopian/qgrid/subscription\",\"commits_url\":\"https://api.github.com/repos/quantopian/qgrid/commits{/sha}\",\"git_commits_url\":\"https://api.github.com/repos/quantopian/qgrid/git/commits{/sha}\",\"comments_url\":\"https://api.github.com/repos/quantopian/qgrid/comments{/number}\",\"issue_comment_url\":\"https://api.github.com/repos/quantopian/qgrid/issues/comments{/number}\",\"contents_url\":\"https://api.github.com/repos/quantopian/qgrid/contents/{+path}\",\"compare_url\":\"https://api.github.com/repos/quantopian/qgrid/compare/{base}...{head}\",\"merges_url\":\"https://api.github.com/repos/quantopian/qgrid/merges\",\"archive_url\":\"https://api.github.com/repos/quantopian/qgrid/{archive_format}{/ref}\",\"downloads_url\":\"https://api.github.com/repos/quantopian/qgrid/downloads\",\"issues_url\":\"https://api.github.com/repos/quantopian/qgrid/issues{/number}\",\"pulls_url\":\"https://api.github.com/repos/quantopian/qgrid/pulls{/number}\",\"milestones_url\":\"https://api.github.com/repos/quantopian/qgrid/milestones{/number}\",\"notifications_url\":\"https://api.github.com/repos/quantopian/qgrid/notifications{?since,all,participating}\",\"labels_url\":\"https://api.github.com/repos/quantopian/qgrid/labels{/name}\",\"releases_url\":\"https://api.github.com/repos/quantopian/qgrid/releases{/id}\",\"deployments_url\":\"https://api.github.com/repos/quantopian/qgrid/deployments\",\"created_at\":\"2014-09-30T04:33:20Z\",\"updated_at\":\"2020-02-11T16:48:35Z\",\"pushed_at\":\"2020-02-11T17:11:54Z\",\"git_url\":\"git://github.com/quantopian/qgrid.git\",\"ssh_url\":\"git@github.com:quantopian/qgrid.git\",\"clone_url\":\"https://github.com/quantopian/qgrid.git\",\"svn_url\":\"https://github.com/quantopian/qgrid\",\"homepage\":\"\",\"size\":50569,\"stargazers_count\":2095,\"watchers_count\":2095,\"language\":\"Python\",\"has_issues\":true,\"has_projects\":true,\"has_downloads\":true,\"has_wiki\":true,\"has_pages\":false,\"forks_count\":217,\"mirror_url\":null,\"archived\":false,\"disabled\":false,\"open_issues_count\":108,\"license\":{\"key\":\"apache-2.0\",\"name\":\"Apache License 2.0\",\"spdx_id\":\"Apache-2.0\",\"url\":\"https://api.github.com/licenses/apache-2.0\",\"node_id\":\"MDc6TGljZW5zZTI=\"},\"forks\":217,\"open_issues\":108,\"watchers\":2095,\"default_branch\":\"master\"}},\"base\":{\"label\":\"quantopian:master\",\"ref\":\"master\",\"sha\":\"67b29e402c74ed639e0c0e7d3be8ac2bcde46d3b\",\"user\":{\"login\":\"quantopian\",\"id\":1393215,\"node_id\":\"MDEyOk9yZ2FuaXphdGlvbjEzOTMyMTU=\",\"avatar_url\":\"https://avatars0.githubusercontent.com/u/1393215?v=4\",\"gravatar_id\":\"\",\"url\":\"https://api.github.com/users/quantopian\",\"html_url\":\"https://github.com/quantopian\",\"followers_url\":\"https://api.github.com/users/quantopian/followers\",\"following_url\":\"https://api.github.com/users/quantopian/following{/other_user}\",\"gists_url\":\"https://api.github.com/users/quantopian/gists{/gist_id}\",\"starred_url\":\"https://api.github.com/users/quantopian/starred{/owner}{/repo}\",\"subscriptions_url\":\"https://api.github.com/users/quantopian/subscriptions\",\"organizations_url\":\"https://api.github.com/users/quantopian/orgs\",\"repos_url\":\"https://api.github.com/users/quantopian/repos\",\"events_url\":\"https://api.github.com/users/quantopian/events{/privacy}\",\"received_events_url\":\"https://api.github.com/users/quantopian/received_events\",\"type\":\"Organization\",\"site_admin\":false},\"repo\":{\"id\":24624545,\"node_id\":\"MDEwOlJlcG9zaXRvcnkyNDYyNDU0NQ==\",\"name\":\"qgrid\",\"full_name\":\"quantopian/qgrid\",\"private\":false,\"owner\":{\"login\":\"quantopian\",\"id\":1393215,\"node_id\":\"MDEyOk9yZ2FuaXphdGlvbjEzOTMyMTU=\",\"avatar_url\":\"https://avatars0.githubusercontent.com/u/1393215?v=4\",\"gravatar_id\":\"\",\"url\":\"https://api.github.com/users/quantopian\",\"html_url\":\"https://github.com/quantopian\",\"followers_url\":\"https://api.github.com/users/quantopian/followers\",\"following_url\":\"https://api.github.com/users/quantopian/following{/other_user}\",\"gists_url\":\"https://api.github.com/users/quantopian/gists{/gist_id}\",\"starred_url\":\"https://api.github.com/users/quantopian/starred{/owner}{/repo}\",\"subscriptions_url\":\"https://api.github.com/users/quantopian/subscriptions\",\"organizations_url\":\"https://api.github.com/users/quantopian/orgs\",\"repos_url\":\"https://api.github.com/users/quantopian/repos\",\"events_url\":\"https://api.github.com/users/quantopian/events{/privacy}\",\"received_events_url\":\"https://api.github.com/users/quantopian/received_events\",\"type\":\"Organization\",\"site_admin\":false},\"html_url\":\"https://github.com/quantopian/qgrid\",\"description\":\"An interactive grid for sorting, filtering, and editing DataFrames in Jupyter notebooks\",\"fork\":false,\"url\":\"https://api.github.com/repos/quantopian/qgrid\",\"forks_url\":\"https://api.github.com/repos/quantopian/qgrid/forks\",\"keys_url\":\"https://api.github.com/repos/quantopian/qgrid/keys{/key_id}\",\"collaborators_url\":\"https://api.github.com/repos/quantopian/qgrid/collaborators{/collaborator}\",\"teams_url\":\"https://api.github.com/repos/quantopian/qgrid/teams\",\"hooks_url\":\"https://api.github.com/repos/quantopian/qgrid/hooks\",\"issue_events_url\":\"https://api.github.com/repos/quantopian/qgrid/issues/events{/number}\",\"events_url\":\"https://api.github.com/repos/quantopian/qgrid/events\",\"assignees_url\":\"https://api.github.com/repos/quantopian/qgrid/assignees{/user}\",\"branches_url\":\"https://api.github.com/repos/quantopian/qgrid/branches{/branch}\",\"tags_url\":\"https://api.github.com/repos/quantopian/qgrid/tags\",\"blobs_url\":\"https://api.github.com/repos/quantopian/qgrid/git/blobs{/sha}\",\"git_tags_url\":\"https://api.github.com/repos/quantopian/qgrid/git/tags{/sha}\",\"git_refs_url\":\"https://api.github.com/repos/quantopian/qgrid/git/refs{/sha}\",\"trees_url\":\"https://api.github.com/repos/quantopian/qgrid/git/trees{/sha}\",\"statuses_url\":\"https://api.github.com/repos/quantopian/qgrid/statuses/{sha}\",\"languages_url\":\"https://api.github.com/repos/quantopian/qgrid/languages\",\"stargazers_url\":\"https://api.github.com/repos/quantopian/qgrid/stargazers\",\"contributors_url\":\"https://api.github.com/repos/quantopian/qgrid/contributors\",\"subscribers_url\":\"https://api.github.com/repos/quantopian/qgrid/subscribers\",\"subscription_url\":\"https://api.github.com/repos/quantopian/qgrid/subscription\",\"commits_url\":\"https://api.github.com/repos/quantopian/qgrid/commits{/sha}\",\"git_commits_url\":\"https://api.github.com/repos/quantopian/qgrid/git/commits{/sha}\",\"comments_url\":\"https://api.github.com/repos/quantopian/qgrid/comments{/number}\",\"issue_comment_url\":\"https://api.github.com/repos/quantopian/qgrid/issues/comments{/number}\",\"contents_url\":\"https://api.github.com/repos/quantopian/qgrid/contents/{+path}\",\"compare_url\":\"https://api.github.com/repos/quantopian/qgrid/compare/{base}...{head}\",\"merges_url\":\"https://api.github.com/repos/quantopian/qgrid/merges\",\"archive_url\":\"https://api.github.com/repos/quantopian/qgrid/{archive_format}{/ref}\",\"downloads_url\":\"https://api.github.com/repos/quantopian/qgrid/downloads\",\"issues_url\":\"https://api.github.com/repos/quantopian/qgrid/issues{/number}\",\"pulls_url\":\"https://api.github.com/repos/quantopian/qgrid/pulls{/number}\",\"milestones_url\":\"https://api.github.com/repos/quantopian/qgrid/milestones{/number}\",\"notifications_url\":\"https://api.github.com/repos/quantopian/qgrid/notifications{?since,all,participating}\",\"labels_url\":\"https://api.github.com/repos/quantopian/qgrid/labels{/name}\",\"releases_url\":\"https://api.github.com/repos/quantopian/qgrid/releases{/id}\",\"deployments_url\":\"https://api.github.com/repos/quantopian/qgrid/deployments\",\"created_at\":\"2014-09-30T04:33:20Z\",\"updated_at\":\"2020-02-11T16:48:35Z\",\"pushed_at\":\"2020-02-11T17:11:54Z\",\"git_url\":\"git://github.com/quantopian/qgrid.git\",\"ssh_url\":\"git@github.com:quantopian/qgrid.git\",\"clone_url\":\"https://github.com/quantopian/qgrid.git\",\"svn_url\":\"https://github.com/quantopian/qgrid\",\"homepage\":\"\",\"size\":50569,\"stargazers_count\":2095,\"watchers_count\":2095,\"language\":\"Python\",\"has_issues\":true,\"has_projects\":true,\"has_downloads\":true,\"has_wiki\":true,\"has_pages\":false,\"forks_count\":217,\"mirror_url\":null,\"archived\":false,\"disabled\":false,\"open_issues_count\":108,\"license\":{\"key\":\"apache-2.0\",\"name\":\"Apache License 2.0\",\"spdx_id\":\"Apache-2.0\",\"url\":\"https://api.github.com/licenses/apache-2.0\",\"node_id\":\"MDc6TGljZW5zZTI=\"},\"forks\":217,\"open_issues\":108,\"watchers\":2095,\"default_branch\":\"master\"}},\"_links\":{\"self\":{\"href\":\"https://api.github.com/repos/quantopian/qgrid/pulls/293\"},\"html\":{\"href\":\"https://github.com/quantopian/qgrid/pull/293\"},\"issue\":{\"href\":\"https://api.github.com/repos/quantopian/qgrid/issues/293\"},\"comments\":{\"href\":\"https://api.github.com/repos/quantopian/qgrid/issues/293/comments\"},\"review_comments\":{\"href\":\"https://api.github.com/repos/quantopian/qgrid/pulls/293/comments\"},\"review_comment\":{\"href\":\"https://api.github.com/repos/quantopian/qgrid/pulls/comments{/number}\"},\"commits\":{\"href\":\"https://api.github.com/repos/quantopian/qgrid/pulls/293/commits\"},\"statuses\":{\"href\":\"https://api.github.com/repos/quantopian/qgrid/statuses/c9925bf52681a52e568d6ba7d71a4a1387dddab4\"}},\"author_association\":\"CONTRIBUTOR\",\"merged\":false,\"mergeable\":null,\"rebaseable\":null,\"mergeable_state\":\"unknown\",\"merged_by\":null,\"comments\":0,\"review_comments\":0,\"maintainer_can_modify\":false,\"commits\":1,\"additions\":67,\"deletions\":0,\"changed_files\":3}},\"public\":true,\"created_at\":\"2020-02-11T17:14:53Z\",\"org\":{\"id\":1393215,\"login\":\"quantopian\",\"gravatar_id\":\"\",\"url\":\"https://api.github.com/orgs/quantopian\",\"avatar_url\":\"https://avatars.githubusercontent.com/u/1393215?\"}},{\"id\":\"11490532202\",\"type\":\"DeleteEvent\",\"actor\":{\"id\":270193,\"login\":\"benjamincharity\",\"display_login\":\"benjamincharity\",\"gravatar_id\":\"\",\"url\":\"https://api.github.com/users/benjamincharity\",\"avatar_url\":\"https://avatars.githubusercontent.com/u/270193?\"},\"repo\":{\"id\":238738578,\"name\":\"GetTerminus/design-tokens\",\"url\":\"https://api.github.com/repos/GetTerminus/design-tokens\"},\"payload\":{\"ref\":\"hotfix\",\"ref_type\":\"branch\",\"pusher_type\":\"user\"},\"public\":true,\"created_at\":\"2020-02-11T17:14:53Z\",\"org\":{\"id\":7110846,\"login\":\"GetTerminus\",\"gravatar_id\":\"\",\"url\":\"https://api.github.com/orgs/GetTerminus\",\"avatar_url\":\"https://avatars.githubusercontent.com/u/7110846?\"}},{\"id\":\"11490532183\",\"type\":\"PullRequestEvent\",\"actor\":{\"id\":48132661,\"login\":\"jailxr\",\"display_login\":\"jailxr\",\"gravatar_id\":\"\",\"url\":\"https://api.github.com/users/jailxr\",\"avatar_url\":\"https://avatars.githubusercontent.com/u/48132661?\"},\"repo\":{\"id\":239426617,\"name\":\"ngalambackend/Auto-Generate-Certificate-Name\",\"url\":\"https://api.github.com/repos/ngalambackend/Auto-Generate-Certificate-Name\"},\"payload\":{\"action\":\"opened\",\"number\":1,\"pull_request\":{\"url\":\"https://api.github.com/repos/ngalambackend/Auto-Generate-Certificate-Name/pulls/1\",\"id\":373780342,\"node_id\":\"MDExOlB1bGxSZXF1ZXN0MzczNzgwMzQy\",\"html_url\":\"https://github.com/ngalambackend/Auto-Generate-Certificate-Name/pull/1\",\"diff_url\":\"https://github.com/ngalambackend/Auto-Generate-Certificate-Name/pull/1.diff\",\"patch_url\":\"https://github.com/ngalambackend/Auto-Generate-Certificate-Name/pull/1.patch\",\"issue_url\":\"https://api.github.com/repos/ngalambackend/Auto-Generate-Certificate-Name/issues/1\",\"number\":1,\"state\":\"open\",\"locked\":false,\"title\":\"add: complete the participant\\'s names\",\"user\":{\"login\":\"jailxr\",\"id\":48132661,\"node_id\":\"MDQ6VXNlcjQ4MTMyNjYx\",\"avatar_url\":\"https://avatars3.githubusercontent.com/u/48132661?v=4\",\"gravatar_id\":\"\",\"url\":\"https://api.github.com/users/jailxr\",\"html_url\":\"https://github.com/jailxr\",\"followers_url\":\"https://api.github.com/users/jailxr/followers\",\"following_url\":\"https://api.github.com/users/jailxr/following{/other_user}\",\"gists_url\":\"https://api.github.com/users/jailxr/gists{/gist_id}\",\"starred_url\":\"https://api.github.com/users/jailxr/starred{/owner}{/repo}\",\"subscriptions_url\":\"https://api.github.com/users/jailxr/subscriptions\",\"organizations_url\":\"https://api.github.com/users/jailxr/orgs\",\"repos_url\":\"https://api.github.com/users/jailxr/repos\",\"events_url\":\"https://api.github.com/users/jailxr/events{/privacy}\",\"received_events_url\":\"https://api.github.com/users/jailxr/received_events\",\"type\":\"User\",\"site_admin\":false},\"body\":\"\",\"created_at\":\"2020-02-11T17:14:53Z\",\"updated_at\":\"2020-02-11T17:14:53Z\",\"closed_at\":null,\"merged_at\":null,\"merge_commit_sha\":null,\"assignee\":null,\"assignees\":[],\"requested_reviewers\":[],\"requested_teams\":[],\"labels\":[],\"milestone\":null,\"commits_url\":\"https://api.github.com/repos/ngalambackend/Auto-Generate-Certificate-Name/pulls/1/commits\",\"review_comments_url\":\"https://api.github.com/repos/ngalambackend/Auto-Generate-Certificate-Name/pulls/1/comments\",\"review_comment_url\":\"https://api.github.com/repos/ngalambackend/Auto-Generate-Certificate-Name/pulls/comments{/number}\",\"comments_url\":\"https://api.github.com/repos/ngalambackend/Auto-Generate-Certificate-Name/issues/1/comments\",\"statuses_url\":\"https://api.github.com/repos/ngalambackend/Auto-Generate-Certificate-Name/statuses/0ee5129ea78789048c0f49910a728ad7f83fd181\",\"head\":{\"label\":\"jailxr:master\",\"ref\":\"master\",\"sha\":\"0ee5129ea78789048c0f49910a728ad7f83fd181\",\"user\":{\"login\":\"jailxr\",\"id\":48132661,\"node_id\":\"MDQ6VXNlcjQ4MTMyNjYx\",\"avatar_url\":\"https://avatars3.githubusercontent.com/u/48132661?v=4\",\"gravatar_id\":\"\",\"url\":\"https://api.github.com/users/jailxr\",\"html_url\":\"https://github.com/jailxr\",\"followers_url\":\"https://api.github.com/users/jailxr/followers\",\"following_url\":\"https://api.github.com/users/jailxr/following{/other_user}\",\"gists_url\":\"https://api.github.com/users/jailxr/gists{/gist_id}\",\"starred_url\":\"https://api.github.com/users/jailxr/starred{/owner}{/repo}\",\"subscriptions_url\":\"https://api.github.com/users/jailxr/subscriptions\",\"organizations_url\":\"https://api.github.com/users/jailxr/orgs\",\"repos_url\":\"https://api.github.com/users/jailxr/repos\",\"events_url\":\"https://api.github.com/users/jailxr/events{/privacy}\",\"received_events_url\":\"https://api.github.com/users/jailxr/received_events\",\"type\":\"User\",\"site_admin\":false},\"repo\":{\"id\":239796594,\"node_id\":\"MDEwOlJlcG9zaXRvcnkyMzk3OTY1OTQ=\",\"name\":\"Auto-Generate-Certificate-Name\",\"full_name\":\"jailxr/Auto-Generate-Certificate-Name\",\"private\":false,\"owner\":{\"login\":\"jailxr\",\"id\":48132661,\"node_id\":\"MDQ6VXNlcjQ4MTMyNjYx\",\"avatar_url\":\"https://avatars3.githubusercontent.com/u/48132661?v=4\",\"gravatar_id\":\"\",\"url\":\"https://api.github.com/users/jailxr\",\"html_url\":\"https://github.com/jailxr\",\"followers_url\":\"https://api.github.com/users/jailxr/followers\",\"following_url\":\"https://api.github.com/users/jailxr/following{/other_user}\",\"gists_url\":\"https://api.github.com/users/jailxr/gists{/gist_id}\",\"starred_url\":\"https://api.github.com/users/jailxr/starred{/owner}{/repo}\",\"subscriptions_url\":\"https://api.github.com/users/jailxr/subscriptions\",\"organizations_url\":\"https://api.github.com/users/jailxr/orgs\",\"repos_url\":\"https://api.github.com/users/jailxr/repos\",\"events_url\":\"https://api.github.com/users/jailxr/events{/privacy}\",\"received_events_url\":\"https://api.github.com/users/jailxr/received_events\",\"type\":\"User\",\"site_admin\":false},\"html_url\":\"https://github.com/jailxr/Auto-Generate-Certificate-Name\",\"description\":null,\"fork\":true,\"url\":\"https://api.github.com/repos/jailxr/Auto-Generate-Certificate-Name\",\"forks_url\":\"https://api.github.com/repos/jailxr/Auto-Generate-Certificate-Name/forks\",\"keys_url\":\"https://api.github.com/repos/jailxr/Auto-Generate-Certificate-Name/keys{/key_id}\",\"collaborators_url\":\"https://api.github.com/repos/jailxr/Auto-Generate-Certificate-Name/collaborators{/collaborator}\",\"teams_url\":\"https://api.github.com/repos/jailxr/Auto-Generate-Certificate-Name/teams\",\"hooks_url\":\"https://api.github.com/repos/jailxr/Auto-Generate-Certificate-Name/hooks\",\"issue_events_url\":\"https://api.github.com/repos/jailxr/Auto-Generate-Certificate-Name/issues/events{/number}\",\"events_url\":\"https://api.github.com/repos/jailxr/Auto-Generate-Certificate-Name/events\",\"assignees_url\":\"https://api.github.com/repos/jailxr/Auto-Generate-Certificate-Name/assignees{/user}\",\"branches_url\":\"https://api.github.com/repos/jailxr/Auto-Generate-Certificate-Name/branches{/branch}\",\"tags_url\":\"https://api.github.com/repos/jailxr/Auto-Generate-Certificate-Name/tags\",\"blobs_url\":\"https://api.github.com/repos/jailxr/Auto-Generate-Certificate-Name/git/blobs{/sha}\",\"git_tags_url\":\"https://api.github.com/repos/jailxr/Auto-Generate-Certificate-Name/git/tags{/sha}\",\"git_refs_url\":\"https://api.github.com/repos/jailxr/Auto-Generate-Certificate-Name/git/refs{/sha}\",\"trees_url\":\"https://api.github.com/repos/jailxr/Auto-Generate-Certificate-Name/git/trees{/sha}\",\"statuses_url\":\"https://api.github.com/repos/jailxr/Auto-Generate-Certificate-Name/statuses/{sha}\",\"languages_url\":\"https://api.github.com/repos/jailxr/Auto-Generate-Certificate-Name/languages\",\"stargazers_url\":\"https://api.github.com/repos/jailxr/Auto-Generate-Certificate-Name/stargazers\",\"contributors_url\":\"https://api.github.com/repos/jailxr/Auto-Generate-Certificate-Name/contributors\",\"subscribers_url\":\"https://api.github.com/repos/jailxr/Auto-Generate-Certificate-Name/subscribers\",\"subscription_url\":\"https://api.github.com/repos/jailxr/Auto-Generate-Certificate-Name/subscription\",\"commits_url\":\"https://api.github.com/repos/jailxr/Auto-Generate-Certificate-Name/commits{/sha}\",\"git_commits_url\":\"https://api.github.com/repos/jailxr/Auto-Generate-Certificate-Name/git/commits{/sha}\",\"comments_url\":\"https://api.github.com/repos/jailxr/Auto-Generate-Certificate-Name/comments{/number}\",\"issue_comment_url\":\"https://api.github.com/repos/jailxr/Auto-Generate-Certificate-Name/issues/comments{/number}\",\"contents_url\":\"https://api.github.com/repos/jailxr/Auto-Generate-Certificate-Name/contents/{+path}\",\"compare_url\":\"https://api.github.com/repos/jailxr/Auto-Generate-Certificate-Name/compare/{base}...{head}\",\"merges_url\":\"https://api.github.com/repos/jailxr/Auto-Generate-Certificate-Name/merges\",\"archive_url\":\"https://api.github.com/repos/jailxr/Auto-Generate-Certificate-Name/{archive_format}{/ref}\",\"downloads_url\":\"https://api.github.com/repos/jailxr/Auto-Generate-Certificate-Name/downloads\",\"issues_url\":\"https://api.github.com/repos/jailxr/Auto-Generate-Certificate-Name/issues{/number}\",\"pulls_url\":\"https://api.github.com/repos/jailxr/Auto-Generate-Certificate-Name/pulls{/number}\",\"milestones_url\":\"https://api.github.com/repos/jailxr/Auto-Generate-Certificate-Name/milestones{/number}\",\"notifications_url\":\"https://api.github.com/repos/jailxr/Auto-Generate-Certificate-Name/notifications{?since,all,participating}\",\"labels_url\":\"https://api.github.com/repos/jailxr/Auto-Generate-Certificate-Name/labels{/name}\",\"releases_url\":\"https://api.github.com/repos/jailxr/Auto-Generate-Certificate-Name/releases{/id}\",\"deployments_url\":\"https://api.github.com/repos/jailxr/Auto-Generate-Certificate-Name/deployments\",\"created_at\":\"2020-02-11T15:30:52Z\",\"updated_at\":\"2020-02-11T17:06:17Z\",\"pushed_at\":\"2020-02-11T17:06:15Z\",\"git_url\":\"git://github.com/jailxr/Auto-Generate-Certificate-Name.git\",\"ssh_url\":\"git@github.com:jailxr/Auto-Generate-Certificate-Name.git\",\"clone_url\":\"https://github.com/jailxr/Auto-Generate-Certificate-Name.git\",\"svn_url\":\"https://github.com/jailxr/Auto-Generate-Certificate-Name\",\"homepage\":null,\"size\":2189,\"stargazers_count\":0,\"watchers_count\":0,\"language\":\"JavaScript\",\"has_issues\":false,\"has_projects\":true,\"has_downloads\":true,\"has_wiki\":true,\"has_pages\":false,\"forks_count\":0,\"mirror_url\":null,\"archived\":false,\"disabled\":false,\"open_issues_count\":0,\"license\":null,\"forks\":0,\"open_issues\":0,\"watchers\":0,\"default_branch\":\"master\"}},\"base\":{\"label\":\"ngalambackend:master\",\"ref\":\"master\",\"sha\":\"3f619a026c8f865f83c19a2599da6069e3dab953\",\"user\":{\"login\":\"ngalambackend\",\"id\":53224687,\"node_id\":\"MDEyOk9yZ2FuaXphdGlvbjUzMjI0Njg3\",\"avatar_url\":\"https://avatars3.githubusercontent.com/u/53224687?v=4\",\"gravatar_id\":\"\",\"url\":\"https://api.github.com/users/ngalambackend\",\"html_url\":\"https://github.com/ngalambackend\",\"followers_url\":\"https://api.github.com/users/ngalambackend/followers\",\"following_url\":\"https://api.github.com/users/ngalambackend/following{/other_user}\",\"gists_url\":\"https://api.github.com/users/ngalambackend/gists{/gist_id}\",\"starred_url\":\"https://api.github.com/users/ngalambackend/starred{/owner}{/repo}\",\"subscriptions_url\":\"https://api.github.com/users/ngalambackend/subscriptions\",\"organizations_url\":\"https://api.github.com/users/ngalambackend/orgs\",\"repos_url\":\"https://api.github.com/users/ngalambackend/repos\",\"events_url\":\"https://api.github.com/users/ngalambackend/events{/privacy}\",\"received_events_url\":\"https://api.github.com/users/ngalambackend/received_events\",\"type\":\"Organization\",\"site_admin\":false},\"repo\":{\"id\":239426617,\"node_id\":\"MDEwOlJlcG9zaXRvcnkyMzk0MjY2MTc=\",\"name\":\"Auto-Generate-Certificate-Name\",\"full_name\":\"ngalambackend/Auto-Generate-Certificate-Name\",\"private\":false,\"owner\":{\"login\":\"ngalambackend\",\"id\":53224687,\"node_id\":\"MDEyOk9yZ2FuaXphdGlvbjUzMjI0Njg3\",\"avatar_url\":\"https://avatars3.githubusercontent.com/u/53224687?v=4\",\"gravatar_id\":\"\",\"url\":\"https://api.github.com/users/ngalambackend\",\"html_url\":\"https://github.com/ngalambackend\",\"followers_url\":\"https://api.github.com/users/ngalambackend/followers\",\"following_url\":\"https://api.github.com/users/ngalambackend/following{/other_user}\",\"gists_url\":\"https://api.github.com/users/ngalambackend/gists{/gist_id}\",\"starred_url\":\"https://api.github.com/users/ngalambackend/starred{/owner}{/repo}\",\"subscriptions_url\":\"https://api.github.com/users/ngalambackend/subscriptions\",\"organizations_url\":\"https://api.github.com/users/ngalambackend/orgs\",\"repos_url\":\"https://api.github.com/users/ngalambackend/repos\",\"events_url\":\"https://api.github.com/users/ngalambackend/events{/privacy}\",\"received_events_url\":\"https://api.github.com/users/ngalambackend/received_events\",\"type\":\"Organization\",\"site_admin\":false},\"html_url\":\"https://github.com/ngalambackend/Auto-Generate-Certificate-Name\",\"description\":null,\"fork\":false,\"url\":\"https://api.github.com/repos/ngalambackend/Auto-Generate-Certificate-Name\",\"forks_url\":\"https://api.github.com/repos/ngalambackend/Auto-Generate-Certificate-Name/forks\",\"keys_url\":\"https://api.github.com/repos/ngalambackend/Auto-Generate-Certificate-Name/keys{/key_id}\",\"collaborators_url\":\"https://api.github.com/repos/ngalambackend/Auto-Generate-Certificate-Name/collaborators{/collaborator}\",\"teams_url\":\"https://api.github.com/repos/ngalambackend/Auto-Generate-Certificate-Name/teams\",\"hooks_url\":\"https://api.github.com/repos/ngalambackend/Auto-Generate-Certificate-Name/hooks\",\"issue_events_url\":\"https://api.github.com/repos/ngalambackend/Auto-Generate-Certificate-Name/issues/events{/number}\",\"events_url\":\"https://api.github.com/repos/ngalambackend/Auto-Generate-Certificate-Name/events\",\"assignees_url\":\"https://api.github.com/repos/ngalambackend/Auto-Generate-Certificate-Name/assignees{/user}\",\"branches_url\":\"https://api.github.com/repos/ngalambackend/Auto-Generate-Certificate-Name/branches{/branch}\",\"tags_url\":\"https://api.github.com/repos/ngalambackend/Auto-Generate-Certificate-Name/tags\",\"blobs_url\":\"https://api.github.com/repos/ngalambackend/Auto-Generate-Certificate-Name/git/blobs{/sha}\",\"git_tags_url\":\"https://api.github.com/repos/ngalambackend/Auto-Generate-Certificate-Name/git/tags{/sha}\",\"git_refs_url\":\"https://api.github.com/repos/ngalambackend/Auto-Generate-Certificate-Name/git/refs{/sha}\",\"trees_url\":\"https://api.github.com/repos/ngalambackend/Auto-Generate-Certificate-Name/git/trees{/sha}\",\"statuses_url\":\"https://api.github.com/repos/ngalambackend/Auto-Generate-Certificate-Name/statuses/{sha}\",\"languages_url\":\"https://api.github.com/repos/ngalambackend/Auto-Generate-Certificate-Name/languages\",\"stargazers_url\":\"https://api.github.com/repos/ngalambackend/Auto-Generate-Certificate-Name/stargazers\",\"contributors_url\":\"https://api.github.com/repos/ngalambackend/Auto-Generate-Certificate-Name/contributors\",\"subscribers_url\":\"https://api.github.com/repos/ngalambackend/Auto-Generate-Certificate-Name/subscribers\",\"subscription_url\":\"https://api.github.com/repos/ngalambackend/Auto-Generate-Certificate-Name/subscription\",\"commits_url\":\"https://api.github.com/repos/ngalambackend/Auto-Generate-Certificate-Name/commits{/sha}\",\"git_commits_url\":\"https://api.github.com/repos/ngalambackend/Auto-Generate-Certificate-Name/git/commits{/sha}\",\"comments_url\":\"https://api.github.com/repos/ngalambackend/Auto-Generate-Certificate-Name/comments{/number}\",\"issue_comment_url\":\"https://api.github.com/repos/ngalambackend/Auto-Generate-Certificate-Name/issues/comments{/number}\",\"contents_url\":\"https://api.github.com/repos/ngalambackend/Auto-Generate-Certificate-Name/contents/{+path}\",\"compare_url\":\"https://api.github.com/repos/ngalambackend/Auto-Generate-Certificate-Name/compare/{base}...{head}\",\"merges_url\":\"https://api.github.com/repos/ngalambackend/Auto-Generate-Certificate-Name/merges\",\"archive_url\":\"https://api.github.com/repos/ngalambackend/Auto-Generate-Certificate-Name/{archive_format}{/ref}\",\"downloads_url\":\"https://api.github.com/repos/ngalambackend/Auto-Generate-Certificate-Name/downloads\",\"issues_url\":\"https://api.github.com/repos/ngalambackend/Auto-Generate-Certificate-Name/issues{/number}\",\"pulls_url\":\"https://api.github.com/repos/ngalambackend/Auto-Generate-Certificate-Name/pulls{/number}\",\"milestones_url\":\"https://api.github.com/repos/ngalambackend/Auto-Generate-Certificate-Name/milestones{/number}\",\"notifications_url\":\"https://api.github.com/repos/ngalambackend/Auto-Generate-Certificate-Name/notifications{?since,all,participating}\",\"labels_url\":\"https://api.github.com/repos/ngalambackend/Auto-Generate-Certificate-Name/labels{/name}\",\"releases_url\":\"https://api.github.com/repos/ngalambackend/Auto-Generate-Certificate-Name/releases{/id}\",\"deployments_url\":\"https://api.github.com/repos/ngalambackend/Auto-Generate-Certificate-Name/deployments\",\"created_at\":\"2020-02-10T04:24:51Z\",\"updated_at\":\"2020-02-11T00:12:12Z\",\"pushed_at\":\"2020-02-10T04:58:46Z\",\"git_url\":\"git://github.com/ngalambackend/Auto-Generate-Certificate-Name.git\",\"ssh_url\":\"git@github.com:ngalambackend/Auto-Generate-Certificate-Name.git\",\"clone_url\":\"https://github.com/ngalambackend/Auto-Generate-Certificate-Name.git\",\"svn_url\":\"https://github.com/ngalambackend/Auto-Generate-Certificate-Name\",\"homepage\":null,\"size\":2189,\"stargazers_count\":1,\"watchers_count\":1,\"language\":\"JavaScript\",\"has_issues\":true,\"has_projects\":true,\"has_downloads\":true,\"has_wiki\":true,\"has_pages\":false,\"forks_count\":2,\"mirror_url\":null,\"archived\":false,\"disabled\":false,\"open_issues_count\":1,\"license\":null,\"forks\":2,\"open_issues\":1,\"watchers\":1,\"default_branch\":\"master\"}},\"_links\":{\"self\":{\"href\":\"https://api.github.com/repos/ngalambackend/Auto-Generate-Certificate-Name/pulls/1\"},\"html\":{\"href\":\"https://github.com/ngalambackend/Auto-Generate-Certificate-Name/pull/1\"},\"issue\":{\"href\":\"https://api.github.com/repos/ngalambackend/Auto-Generate-Certificate-Name/issues/1\"},\"comments\":{\"href\":\"https://api.github.com/repos/ngalambackend/Auto-Generate-Certificate-Name/issues/1/comments\"},\"review_comments\":{\"href\":\"https://api.github.com/repos/ngalambackend/Auto-Generate-Certificate-Name/pulls/1/comments\"},\"review_comment\":{\"href\":\"https://api.github.com/repos/ngalambackend/Auto-Generate-Certificate-Name/pulls/comments{/number}\"},\"commits\":{\"href\":\"https://api.github.com/repos/ngalambackend/Auto-Generate-Certificate-Name/pulls/1/commits\"},\"statuses\":{\"href\":\"https://api.github.com/repos/ngalambackend/Auto-Generate-Certificate-Name/statuses/0ee5129ea78789048c0f49910a728ad7f83fd181\"}},\"author_association\":\"NONE\",\"merged\":false,\"mergeable\":null,\"rebaseable\":null,\"mergeable_state\":\"unknown\",\"merged_by\":null,\"comments\":0,\"review_comments\":0,\"maintainer_can_modify\":true,\"commits\":1,\"additions\":51,\"deletions\":1,\"changed_files\":1}},\"public\":true,\"created_at\":\"2020-02-11T17:14:53Z\",\"org\":{\"id\":53224687,\"login\":\"ngalambackend\",\"gravatar_id\":\"\",\"url\":\"https://api.github.com/orgs/ngalambackend\",\"avatar_url\":\"https://avatars.githubusercontent.com/u/53224687?\"}},{\"id\":\"11490532173\",\"type\":\"PushEvent\",\"actor\":{\"id\":25180681,\"login\":\"renovate-bot\",\"display_login\":\"renovate-bot\",\"gravatar_id\":\"\",\"url\":\"https://api.github.com/users/renovate-bot\",\"avatar_url\":\"https://avatars.githubusercontent.com/u/25180681?\"},\"repo\":{\"id\":218439702,\"name\":\"renovate-bot/java-language\",\"url\":\"https://api.github.com/repos/renovate-bot/java-language\"},\"payload\":{\"push_id\":4616752176,\"size\":0,\"distinct_size\":0,\"ref\":\"refs/heads/master\",\"head\":\"4f9cc95c1148920987d1f52bdc0207f08ec05a33\",\"before\":\"4f9cc95c1148920987d1f52bdc0207f08ec05a33\",\"commits\":[]},\"public\":true,\"created_at\":\"2020-02-11T17:14:53Z\"},{\"id\":\"11490532163\",\"type\":\"IssuesEvent\",\"actor\":{\"id\":1813008,\"login\":\"joshdover\",\"display_login\":\"joshdover\",\"gravatar_id\":\"\",\"url\":\"https://api.github.com/users/joshdover\",\"avatar_url\":\"https://avatars.githubusercontent.com/u/1813008?\"},\"repo\":{\"id\":7833168,\"name\":\"elastic/kibana\",\"url\":\"https://api.github.com/repos/elastic/kibana\"},\"payload\":{\"action\":\"opened\",\"issue\":{\"url\":\"https://api.github.com/repos/elastic/kibana/issues/57343\",\"repository_url\":\"https://api.github.com/repos/elastic/kibana\",\"labels_url\":\"https://api.github.com/repos/elastic/kibana/issues/57343/labels{/name}\",\"comments_url\":\"https://api.github.com/repos/elastic/kibana/issues/57343/comments\",\"events_url\":\"https://api.github.com/repos/elastic/kibana/issues/57343/events\",\"html_url\":\"https://github.com/elastic/kibana/issues/57343\",\"id\":563354623,\"node_id\":\"MDU6SXNzdWU1NjMzNTQ2MjM=\",\"number\":57343,\"title\":\"Move Kibana Platform documentation to asciidoc\",\"user\":{\"login\":\"joshdover\",\"id\":1813008,\"node_id\":\"MDQ6VXNlcjE4MTMwMDg=\",\"avatar_url\":\"https://avatars2.githubusercontent.com/u/1813008?v=4\",\"gravatar_id\":\"\",\"url\":\"https://api.github.com/users/joshdover\",\"html_url\":\"https://github.com/joshdover\",\"followers_url\":\"https://api.github.com/users/joshdover/followers\",\"following_url\":\"https://api.github.com/users/joshdover/following{/other_user}\",\"gists_url\":\"https://api.github.com/users/joshdover/gists{/gist_id}\",\"starred_url\":\"https://api.github.com/users/joshdover/starred{/owner}{/repo}\",\"subscriptions_url\":\"https://api.github.com/users/joshdover/subscriptions\",\"organizations_url\":\"https://api.github.com/users/joshdover/orgs\",\"repos_url\":\"https://api.github.com/users/joshdover/repos\",\"events_url\":\"https://api.github.com/users/joshdover/events{/privacy}\",\"received_events_url\":\"https://api.github.com/users/joshdover/received_events\",\"type\":\"User\",\"site_admin\":false},\"labels\":[{\"id\":635458035,\"node_id\":\"MDU6TGFiZWw2MzU0NTgwMzU=\",\"url\":\"https://api.github.com/repos/elastic/kibana/labels/Feature:New%20Platform\",\"name\":\"Feature:New Platform\",\"color\":\"0e8a16\",\"default\":false,\"description\":\"\"},{\"id\":470241278,\"node_id\":\"MDU6TGFiZWw0NzAyNDEyNzg=\",\"url\":\"https://api.github.com/repos/elastic/kibana/labels/Team:Platform\",\"name\":\"Team:Platform\",\"color\":\"fef2c0\",\"default\":false,\"description\":\"Team label for Platform Team\"},{\"id\":222889424,\"node_id\":\"MDU6TGFiZWwyMjI4ODk0MjQ=\",\"url\":\"https://api.github.com/repos/elastic/kibana/labels/chore\",\"name\":\"chore\",\"color\":\"f9d0c4\",\"default\":false,\"description\":null}],\"state\":\"open\",\"locked\":false,\"assignee\":null,\"assignees\":[],\"milestone\":null,\"comments\":0,\"created_at\":\"2020-02-11T17:14:52Z\",\"updated_at\":\"2020-02-11T17:14:52Z\",\"closed_at\":null,\"author_association\":\"MEMBER\",\"body\":\"We have a number of documentation files that currently live as markdown inside the repository but are not easily discoverable by external plugin developers.\\\\r\\\\n\\\\r\\\\nAs part of our effort to start evangilizing the Kibana Platform, we need to be able to have permalinks to documentation that lives on elastic.co.\\\\r\\\\n\\\\r\\\\nWhile these docs may move once we have a separate \\\\\"book\\\\\" for plugin development (https://github.com/elastic/kibana/issues/41833), we can start moving these to the existing book today.\\\\r\\\\n\\\\r\\\\nDocs that should be moved:\\\\r\\\\n- src/core/MIGRATION.md\\\\r\\\\n- src/core/MIGRATION_EXAMPLES.md\\\\r\\\\n- src/core/TESTING.md\\\\r\\\\n- src/core/CONVETNIONS.md\\\\r\\\\n\\\\r\\\\nWe may want to reorganize or consolidate these docs in the future, but we can do that as a separate step.\"}},\"public\":true,\"created_at\":\"2020-02-11T17:14:53Z\",\"org\":{\"id\":6764390,\"login\":\"elastic\",\"gravatar_id\":\"\",\"url\":\"https://api.github.com/orgs/elastic\",\"avatar_url\":\"https://avatars.githubusercontent.com/u/6764390?\"}},{\"id\":\"11490532164\",\"type\":\"PushEvent\",\"actor\":{\"id\":338885,\"login\":\"Templarian\",\"display_login\":\"Templarian\",\"gravatar_id\":\"\",\"url\":\"https://api.github.com/users/Templarian\",\"avatar_url\":\"https://avatars.githubusercontent.com/u/338885?\"},\"repo\":{\"id\":21314224,\"name\":\"Templarian/MaterialDesign\",\"url\":\"https://api.github.com/repos/Templarian/MaterialDesign\"},\"payload\":{\"push_id\":4616752181,\"size\":1,\"distinct_size\":1,\"ref\":\"refs/heads/master\",\"head\":\"6f1ea94a35945cd7e8cd8968a73e01fdfcd8b201\",\"before\":\"c1f24c7babad9cf5a2f093245c4adeed5b97bb74\",\"commits\":[{\"sha\":\"6f1ea94a35945cd7e8cd8968a73e01fdfcd8b201\",\"author\":{\"email\":\"admin@templarian.com\",\"name\":\"Bot\"},\"message\":\"Sync\",\"distinct\":true,\"url\":\"https://api.github.com/repos/Templarian/MaterialDesign/commits/6f1ea94a35945cd7e8cd8968a73e01fdfcd8b201\"}]},\"public\":true,\"created_at\":\"2020-02-11T17:14:53Z\"},{\"id\":\"11490532180\",\"type\":\"CreateEvent\",\"actor\":{\"id\":55018991,\"login\":\"shorygina\",\"display_login\":\"shorygina\",\"gravatar_id\":\"\",\"url\":\"https://api.github.com/users/shorygina\",\"avatar_url\":\"https://avatars.githubusercontent.com/u/55018991?\"},\"repo\":{\"id\":209295563,\"name\":\"aaovchinnikov/alg_vis\",\"url\":\"https://api.github.com/repos/aaovchinnikov/alg_vis\"},\"payload\":{\"ref\":\"fix_outline_highlighting_modals\",\"ref_type\":\"branch\",\"master_branch\":\"master\",\"description\":\"\\u041f\\u0440\\u043e\\u0435\\u043a\\u0442 \\\\\"\\u0420\\u0430\\u0437\\u0440\\u0430\\u0431\\u043e\\u0442\\u043a\\u0430 \\u0441\\u0438\\u0441\\u0442\\u0435\\u043c\\u044b \\u0432\\u0438\\u0437\\u0443\\u0430\\u043b\\u0438\\u0437\\u0430\\u0446\\u0438\\u0438 \\u0430\\u043b\\u0433\\u043e\\u0440\\u0438\\u0442\\u043c\\u043e\\u0432 \\u0438 \\u0441\\u0442\\u0440\\u0443\\u043a\\u0442\\u0443\\u0440 \\u0434\\u0430\\u043d\\u043d\\u044b\\u0445\\\\\", \\u041c\\u0418\\u042d\\u041c\",\"pusher_type\":\"user\"},\"public\":true,\"created_at\":\"2020-02-11T17:14:53Z\"},{\"id\":\"11490532176\",\"type\":\"PushEvent\",\"actor\":{\"id\":26794751,\"login\":\"Shazyy\",\"display_login\":\"Shazyy\",\"gravatar_id\":\"\",\"url\":\"https://api.github.com/users/Shazyy\",\"avatar_url\":\"https://avatars.githubusercontent.com/u/26794751?\"},\"repo\":{\"id\":239818335,\"name\":\"Shazyy/youtube-api-key-checker\",\"url\":\"https://api.github.com/repos/Shazyy/youtube-api-key-checker\"},\"payload\":{\"push_id\":4616752191,\"size\":1,\"distinct_size\":1,\"ref\":\"refs/heads/master\",\"head\":\"338a7e9163948f245d5f9c0af51eb302c20f735d\",\"before\":\"f9923de66a77e6d5a1c7c8c62cc0304807a28b51\",\"commits\":[{\"sha\":\"338a7e9163948f245d5f9c0af51eb302c20f735d\",\"author\":{\"email\":\"yarukemc@gmail.com\",\"name\":\"Shaz\"},\"message\":\"Update README.md\",\"distinct\":true,\"url\":\"https://api.github.com/repos/Shazyy/youtube-api-key-checker/commits/338a7e9163948f245d5f9c0af51eb302c20f735d\"}]},\"public\":true,\"created_at\":\"2020-02-11T17:14:53Z\"},{\"id\":\"11490532170\",\"type\":\"PullRequestEvent\",\"actor\":{\"id\":10810283,\"login\":\"direwolf-github\",\"display_login\":\"direwolf-github\",\"gravatar_id\":\"\",\"url\":\"https://api.github.com/users/direwolf-github\",\"avatar_url\":\"https://avatars.githubusercontent.com/u/10810283?\"},\"repo\":{\"id\":239819803,\"name\":\"direwolf-github/ephemeral-ci-0a2d31fe\",\"url\":\"https://api.github.com/repos/direwolf-github/ephemeral-ci-0a2d31fe\"},\"payload\":{\"action\":\"opened\",\"number\":1,\"pull_request\":{\"url\":\"https://api.github.com/repos/direwolf-github/ephemeral-ci-0a2d31fe/pulls/1\",\"id\":373780339,\"node_id\":\"MDExOlB1bGxSZXF1ZXN0MzczNzgwMzM5\",\"html_url\":\"https://github.com/direwolf-github/ephemeral-ci-0a2d31fe/pull/1\",\"diff_url\":\"https://github.com/direwolf-github/ephemeral-ci-0a2d31fe/pull/1.diff\",\"patch_url\":\"https://github.com/direwolf-github/ephemeral-ci-0a2d31fe/pull/1.patch\",\"issue_url\":\"https://api.github.com/repos/direwolf-github/ephemeral-ci-0a2d31fe/issues/1\",\"number\":1,\"state\":\"open\",\"locked\":false,\"title\":\"Direwolf review apps test branch-aa693219\",\"user\":{\"login\":\"direwolf-github\",\"id\":10810283,\"node_id\":\"MDQ6VXNlcjEwODEwMjgz\",\"avatar_url\":\"https://avatars0.githubusercontent.com/u/10810283?v=4\",\"gravatar_id\":\"\",\"url\":\"https://api.github.com/users/direwolf-github\",\"html_url\":\"https://github.com/direwolf-github\",\"followers_url\":\"https://api.github.com/users/direwolf-github/followers\",\"following_url\":\"https://api.github.com/users/direwolf-github/following{/other_user}\",\"gists_url\":\"https://api.github.com/users/direwolf-github/gists{/gist_id}\",\"starred_url\":\"https://api.github.com/users/direwolf-github/starred{/owner}{/repo}\",\"subscriptions_url\":\"https://api.github.com/users/direwolf-github/subscriptions\",\"organizations_url\":\"https://api.github.com/users/direwolf-github/orgs\",\"repos_url\":\"https://api.github.com/users/direwolf-github/repos\",\"events_url\":\"https://api.github.com/users/direwolf-github/events{/privacy}\",\"received_events_url\":\"https://api.github.com/users/direwolf-github/received_events\",\"type\":\"User\",\"site_admin\":false},\"body\":\"Direwolf review apps test branch-aa693219\",\"created_at\":\"2020-02-11T17:14:52Z\",\"updated_at\":\"2020-02-11T17:14:52Z\",\"closed_at\":null,\"merged_at\":null,\"merge_commit_sha\":null,\"assignee\":null,\"assignees\":[],\"requested_reviewers\":[],\"requested_teams\":[],\"labels\":[],\"milestone\":null,\"commits_url\":\"https://api.github.com/repos/direwolf-github/ephemeral-ci-0a2d31fe/pulls/1/commits\",\"review_comments_url\":\"https://api.github.com/repos/direwolf-github/ephemeral-ci-0a2d31fe/pulls/1/comments\",\"review_comment_url\":\"https://api.github.com/repos/direwolf-github/ephemeral-ci-0a2d31fe/pulls/comments{/number}\",\"comments_url\":\"https://api.github.com/repos/direwolf-github/ephemeral-ci-0a2d31fe/issues/1/comments\",\"statuses_url\":\"https://api.github.com/repos/direwolf-github/ephemeral-ci-0a2d31fe/statuses/6058926999c065729040d511f714ea7d74df8f6f\",\"head\":{\"label\":\"direwolf-github:branch-aa693219\",\"ref\":\"branch-aa693219\",\"sha\":\"6058926999c065729040d511f714ea7d74df8f6f\",\"user\":{\"login\":\"direwolf-github\",\"id\":10810283,\"node_id\":\"MDQ6VXNlcjEwODEwMjgz\",\"avatar_url\":\"https://avatars0.githubusercontent.com/u/10810283?v=4\",\"gravatar_id\":\"\",\"url\":\"https://api.github.com/users/direwolf-github\",\"html_url\":\"https://github.com/direwolf-github\",\"followers_url\":\"https://api.github.com/users/direwolf-github/followers\",\"following_url\":\"https://api.github.com/users/direwolf-github/following{/other_user}\",\"gists_url\":\"https://api.github.com/users/direwolf-github/gists{/gist_id}\",\"starred_url\":\"https://api.github.com/users/direwolf-github/starred{/owner}{/repo}\",\"subscriptions_url\":\"https://api.github.com/users/direwolf-github/subscriptions\",\"organizations_url\":\"https://api.github.com/users/direwolf-github/orgs\",\"repos_url\":\"https://api.github.com/users/direwolf-github/repos\",\"events_url\":\"https://api.github.com/users/direwolf-github/events{/privacy}\",\"received_events_url\":\"https://api.github.com/users/direwolf-github/received_events\",\"type\":\"User\",\"site_admin\":false},\"repo\":{\"id\":239819803,\"node_id\":\"MDEwOlJlcG9zaXRvcnkyMzk4MTk4MDM=\",\"name\":\"ephemeral-ci-0a2d31fe\",\"full_name\":\"direwolf-github/ephemeral-ci-0a2d31fe\",\"private\":false,\"owner\":{\"login\":\"direwolf-github\",\"id\":10810283,\"node_id\":\"MDQ6VXNlcjEwODEwMjgz\",\"avatar_url\":\"https://avatars0.githubusercontent.com/u/10810283?v=4\",\"gravatar_id\":\"\",\"url\":\"https://api.github.com/users/direwolf-github\",\"html_url\":\"https://github.com/direwolf-github\",\"followers_url\":\"https://api.github.com/users/direwolf-github/followers\",\"following_url\":\"https://api.github.com/users/direwolf-github/following{/other_user}\",\"gists_url\":\"https://api.github.com/users/direwolf-github/gists{/gist_id}\",\"starred_url\":\"https://api.github.com/users/direwolf-github/starred{/owner}{/repo}\",\"subscriptions_url\":\"https://api.github.com/users/direwolf-github/subscriptions\",\"organizations_url\":\"https://api.github.com/users/direwolf-github/orgs\",\"repos_url\":\"https://api.github.com/users/direwolf-github/repos\",\"events_url\":\"https://api.github.com/users/direwolf-github/events{/privacy}\",\"received_events_url\":\"https://api.github.com/users/direwolf-github/received_events\",\"type\":\"User\",\"site_admin\":false},\"html_url\":\"https://github.com/direwolf-github/ephemeral-ci-0a2d31fe\",\"description\":null,\"fork\":false,\"url\":\"https://api.github.com/repos/direwolf-github/ephemeral-ci-0a2d31fe\",\"forks_url\":\"https://api.github.com/repos/direwolf-github/ephemeral-ci-0a2d31fe/forks\",\"keys_url\":\"https://api.github.com/repos/direwolf-github/ephemeral-ci-0a2d31fe/keys{/key_id}\",\"collaborators_url\":\"https://api.github.com/repos/direwolf-github/ephemeral-ci-0a2d31fe/collaborators{/collaborator}\",\"teams_url\":\"https://api.github.com/repos/direwolf-github/ephemeral-ci-0a2d31fe/teams\",\"hooks_url\":\"https://api.github.com/repos/direwolf-github/ephemeral-ci-0a2d31fe/hooks\",\"issue_events_url\":\"https://api.github.com/repos/direwolf-github/ephemeral-ci-0a2d31fe/issues/events{/number}\",\"events_url\":\"https://api.github.com/repos/direwolf-github/ephemeral-ci-0a2d31fe/events\",\"assignees_url\":\"https://api.github.com/repos/direwolf-github/ephemeral-ci-0a2d31fe/assignees{/user}\",\"branches_url\":\"https://api.github.com/repos/direwolf-github/ephemeral-ci-0a2d31fe/branches{/branch}\",\"tags_url\":\"https://api.github.com/repos/direwolf-github/ephemeral-ci-0a2d31fe/tags\",\"blobs_url\":\"https://api.github.com/repos/direwolf-github/ephemeral-ci-0a2d31fe/git/blobs{/sha}\",\"git_tags_url\":\"https://api.github.com/repos/direwolf-github/ephemeral-ci-0a2d31fe/git/tags{/sha}\",\"git_refs_url\":\"https://api.github.com/repos/direwolf-github/ephemeral-ci-0a2d31fe/git/refs{/sha}\",\"trees_url\":\"https://api.github.com/repos/direwolf-github/ephemeral-ci-0a2d31fe/git/trees{/sha}\",\"statuses_url\":\"https://api.github.com/repos/direwolf-github/ephemeral-ci-0a2d31fe/statuses/{sha}\",\"languages_url\":\"https://api.github.com/repos/direwolf-github/ephemeral-ci-0a2d31fe/languages\",\"stargazers_url\":\"https://api.github.com/repos/direwolf-github/ephemeral-ci-0a2d31fe/stargazers\",\"contributors_url\":\"https://api.github.com/repos/direwolf-github/ephemeral-ci-0a2d31fe/contributors\",\"subscribers_url\":\"https://api.github.com/repos/direwolf-github/ephemeral-ci-0a2d31fe/subscribers\",\"subscription_url\":\"https://api.github.com/repos/direwolf-github/ephemeral-ci-0a2d31fe/subscription\",\"commits_url\":\"https://api.github.com/repos/direwolf-github/ephemeral-ci-0a2d31fe/commits{/sha}\",\"git_commits_url\":\"https://api.github.com/repos/direwolf-github/ephemeral-ci-0a2d31fe/git/commits{/sha}\",\"comments_url\":\"https://api.github.com/repos/direwolf-github/ephemeral-ci-0a2d31fe/comments{/number}\",\"issue_comment_url\":\"https://api.github.com/repos/direwolf-github/ephemeral-ci-0a2d31fe/issues/comments{/number}\",\"contents_url\":\"https://api.github.com/repos/direwolf-github/ephemeral-ci-0a2d31fe/contents/{+path}\",\"compare_url\":\"https://api.github.com/repos/direwolf-github/ephemeral-ci-0a2d31fe/compare/{base}...{head}\",\"merges_url\":\"https://api.github.com/repos/direwolf-github/ephemeral-ci-0a2d31fe/merges\",\"archive_url\":\"https://api.github.com/repos/direwolf-github/ephemeral-ci-0a2d31fe/{archive_format}{/ref}\",\"downloads_url\":\"https://api.github.com/repos/direwolf-github/ephemeral-ci-0a2d31fe/downloads\",\"issues_url\":\"https://api.github.com/repos/direwolf-github/ephemeral-ci-0a2d31fe/issues{/number}\",\"pulls_url\":\"https://api.github.com/repos/direwolf-github/ephemeral-ci-0a2d31fe/pulls{/number}\",\"milestones_url\":\"https://api.github.com/repos/direwolf-github/ephemeral-ci-0a2d31fe/milestones{/number}\",\"notifications_url\":\"https://api.github.com/repos/direwolf-github/ephemeral-ci-0a2d31fe/notifications{?since,all,participating}\",\"labels_url\":\"https://api.github.com/repos/direwolf-github/ephemeral-ci-0a2d31fe/labels{/name}\",\"releases_url\":\"https://api.github.com/repos/direwolf-github/ephemeral-ci-0a2d31fe/releases{/id}\",\"deployments_url\":\"https://api.github.com/repos/direwolf-github/ephemeral-ci-0a2d31fe/deployments\",\"created_at\":\"2020-02-11T17:14:43Z\",\"updated_at\":\"2020-02-11T17:14:47Z\",\"pushed_at\":\"2020-02-11T17:14:52Z\",\"git_url\":\"git://github.com/direwolf-github/ephemeral-ci-0a2d31fe.git\",\"ssh_url\":\"git@github.com:direwolf-github/ephemeral-ci-0a2d31fe.git\",\"clone_url\":\"https://github.com/direwolf-github/ephemeral-ci-0a2d31fe.git\",\"svn_url\":\"https://github.com/direwolf-github/ephemeral-ci-0a2d31fe\",\"homepage\":null,\"size\":0,\"stargazers_count\":0,\"watchers_count\":0,\"language\":null,\"has_issues\":true,\"has_projects\":true,\"has_downloads\":true,\"has_wiki\":true,\"has_pages\":false,\"forks_count\":0,\"mirror_url\":null,\"archived\":false,\"disabled\":false,\"open_issues_count\":1,\"license\":null,\"forks\":0,\"open_issues\":1,\"watchers\":0,\"default_branch\":\"master\"}},\"base\":{\"label\":\"direwolf-github:master\",\"ref\":\"master\",\"sha\":\"72693c4abdeb3c9b9494ec91bb9e88f7a7d4a661\",\"user\":{\"login\":\"direwolf-github\",\"id\":10810283,\"node_id\":\"MDQ6VXNlcjEwODEwMjgz\",\"avatar_url\":\"https://avatars0.githubusercontent.com/u/10810283?v=4\",\"gravatar_id\":\"\",\"url\":\"https://api.github.com/users/direwolf-github\",\"html_url\":\"https://github.com/direwolf-github\",\"followers_url\":\"https://api.github.com/users/direwolf-github/followers\",\"following_url\":\"https://api.github.com/users/direwolf-github/following{/other_user}\",\"gists_url\":\"https://api.github.com/users/direwolf-github/gists{/gist_id}\",\"starred_url\":\"https://api.github.com/users/direwolf-github/starred{/owner}{/repo}\",\"subscriptions_url\":\"https://api.github.com/users/direwolf-github/subscriptions\",\"organizations_url\":\"https://api.github.com/users/direwolf-github/orgs\",\"repos_url\":\"https://api.github.com/users/direwolf-github/repos\",\"events_url\":\"https://api.github.com/users/direwolf-github/events{/privacy}\",\"received_events_url\":\"https://api.github.com/users/direwolf-github/received_events\",\"type\":\"User\",\"site_admin\":false},\"repo\":{\"id\":239819803,\"node_id\":\"MDEwOlJlcG9zaXRvcnkyMzk4MTk4MDM=\",\"name\":\"ephemeral-ci-0a2d31fe\",\"full_name\":\"direwolf-github/ephemeral-ci-0a2d31fe\",\"private\":false,\"owner\":{\"login\":\"direwolf-github\",\"id\":10810283,\"node_id\":\"MDQ6VXNlcjEwODEwMjgz\",\"avatar_url\":\"https://avatars0.githubusercontent.com/u/10810283?v=4\",\"gravatar_id\":\"\",\"url\":\"https://api.github.com/users/direwolf-github\",\"html_url\":\"https://github.com/direwolf-github\",\"followers_url\":\"https://api.github.com/users/direwolf-github/followers\",\"following_url\":\"https://api.github.com/users/direwolf-github/following{/other_user}\",\"gists_url\":\"https://api.github.com/users/direwolf-github/gists{/gist_id}\",\"starred_url\":\"https://api.github.com/users/direwolf-github/starred{/owner}{/repo}\",\"subscriptions_url\":\"https://api.github.com/users/direwolf-github/subscriptions\",\"organizations_url\":\"https://api.github.com/users/direwolf-github/orgs\",\"repos_url\":\"https://api.github.com/users/direwolf-github/repos\",\"events_url\":\"https://api.github.com/users/direwolf-github/events{/privacy}\",\"received_events_url\":\"https://api.github.com/users/direwolf-github/received_events\",\"type\":\"User\",\"site_admin\":false},\"html_url\":\"https://github.com/direwolf-github/ephemeral-ci-0a2d31fe\",\"description\":null,\"fork\":false,\"url\":\"https://api.github.com/repos/direwolf-github/ephemeral-ci-0a2d31fe\",\"forks_url\":\"https://api.github.com/repos/direwolf-github/ephemeral-ci-0a2d31fe/forks\",\"keys_url\":\"https://api.github.com/repos/direwolf-github/ephemeral-ci-0a2d31fe/keys{/key_id}\",\"collaborators_url\":\"https://api.github.com/repos/direwolf-github/ephemeral-ci-0a2d31fe/collaborators{/collaborator}\",\"teams_url\":\"https://api.github.com/repos/direwolf-github/ephemeral-ci-0a2d31fe/teams\",\"hooks_url\":\"https://api.github.com/repos/direwolf-github/ephemeral-ci-0a2d31fe/hooks\",\"issue_events_url\":\"https://api.github.com/repos/direwolf-github/ephemeral-ci-0a2d31fe/issues/events{/number}\",\"events_url\":\"https://api.github.com/repos/direwolf-github/ephemeral-ci-0a2d31fe/events\",\"assignees_url\":\"https://api.github.com/repos/direwolf-github/ephemeral-ci-0a2d31fe/assignees{/user}\",\"branches_url\":\"https://api.github.com/repos/direwolf-github/ephemeral-ci-0a2d31fe/branches{/branch}\",\"tags_url\":\"https://api.github.com/repos/direwolf-github/ephemeral-ci-0a2d31fe/tags\",\"blobs_url\":\"https://api.github.com/repos/direwolf-github/ephemeral-ci-0a2d31fe/git/blobs{/sha}\",\"git_tags_url\":\"https://api.github.com/repos/direwolf-github/ephemeral-ci-0a2d31fe/git/tags{/sha}\",\"git_refs_url\":\"https://api.github.com/repos/direwolf-github/ephemeral-ci-0a2d31fe/git/refs{/sha}\",\"trees_url\":\"https://api.github.com/repos/direwolf-github/ephemeral-ci-0a2d31fe/git/trees{/sha}\",\"statuses_url\":\"https://api.github.com/repos/direwolf-github/ephemeral-ci-0a2d31fe/statuses/{sha}\",\"languages_url\":\"https://api.github.com/repos/direwolf-github/ephemeral-ci-0a2d31fe/languages\",\"stargazers_url\":\"https://api.github.com/repos/direwolf-github/ephemeral-ci-0a2d31fe/stargazers\",\"contributors_url\":\"https://api.github.com/repos/direwolf-github/ephemeral-ci-0a2d31fe/contributors\",\"subscribers_url\":\"https://api.github.com/repos/direwolf-github/ephemeral-ci-0a2d31fe/subscribers\",\"subscription_url\":\"https://api.github.com/repos/direwolf-github/ephemeral-ci-0a2d31fe/subscription\",\"commits_url\":\"https://api.github.com/repos/direwolf-github/ephemeral-ci-0a2d31fe/commits{/sha}\",\"git_commits_url\":\"https://api.github.com/repos/direwolf-github/ephemeral-ci-0a2d31fe/git/commits{/sha}\",\"comments_url\":\"https://api.github.com/repos/direwolf-github/ephemeral-ci-0a2d31fe/comments{/number}\",\"issue_comment_url\":\"https://api.github.com/repos/direwolf-github/ephemeral-ci-0a2d31fe/issues/comments{/number}\",\"contents_url\":\"https://api.github.com/repos/direwolf-github/ephemeral-ci-0a2d31fe/contents/{+path}\",\"compare_url\":\"https://api.github.com/repos/direwolf-github/ephemeral-ci-0a2d31fe/compare/{base}...{head}\",\"merges_url\":\"https://api.github.com/repos/direwolf-github/ephemeral-ci-0a2d31fe/merges\",\"archive_url\":\"https://api.github.com/repos/direwolf-github/ephemeral-ci-0a2d31fe/{archive_format}{/ref}\",\"downloads_url\":\"https://api.github.com/repos/direwolf-github/ephemeral-ci-0a2d31fe/downloads\",\"issues_url\":\"https://api.github.com/repos/direwolf-github/ephemeral-ci-0a2d31fe/issues{/number}\",\"pulls_url\":\"https://api.github.com/repos/direwolf-github/ephemeral-ci-0a2d31fe/pulls{/number}\",\"milestones_url\":\"https://api.github.com/repos/direwolf-github/ephemeral-ci-0a2d31fe/milestones{/number}\",\"notifications_url\":\"https://api.github.com/repos/direwolf-github/ephemeral-ci-0a2d31fe/notifications{?since,all,participating}\",\"labels_url\":\"https://api.github.com/repos/direwolf-github/ephemeral-ci-0a2d31fe/labels{/name}\",\"releases_url\":\"https://api.github.com/repos/direwolf-github/ephemeral-ci-0a2d31fe/releases{/id}\",\"deployments_url\":\"https://api.github.com/repos/direwolf-github/ephemeral-ci-0a2d31fe/deployments\",\"created_at\":\"2020-02-11T17:14:43Z\",\"updated_at\":\"2020-02-11T17:14:47Z\",\"pushed_at\":\"2020-02-11T17:14:52Z\",\"git_url\":\"git://github.com/direwolf-github/ephemeral-ci-0a2d31fe.git\",\"ssh_url\":\"git@github.com:direwolf-github/ephemeral-ci-0a2d31fe.git\",\"clone_url\":\"https://github.com/direwolf-github/ephemeral-ci-0a2d31fe.git\",\"svn_url\":\"https://github.com/direwolf-github/ephemeral-ci-0a2d31fe\",\"homepage\":null,\"size\":0,\"stargazers_count\":0,\"watchers_count\":0,\"language\":null,\"has_issues\":true,\"has_projects\":true,\"has_downloads\":true,\"has_wiki\":true,\"has_pages\":false,\"forks_count\":0,\"mirror_url\":null,\"archived\":false,\"disabled\":false,\"open_issues_count\":1,\"license\":null,\"forks\":0,\"open_issues\":1,\"watchers\":0,\"default_branch\":\"master\"}},\"_links\":{\"self\":{\"href\":\"https://api.github.com/repos/direwolf-github/ephemeral-ci-0a2d31fe/pulls/1\"},\"html\":{\"href\":\"https://github.com/direwolf-github/ephemeral-ci-0a2d31fe/pull/1\"},\"issue\":{\"href\":\"https://api.github.com/repos/direwolf-github/ephemeral-ci-0a2d31fe/issues/1\"},\"comments\":{\"href\":\"https://api.github.com/repos/direwolf-github/ephemeral-ci-0a2d31fe/issues/1/comments\"},\"review_comments\":{\"href\":\"https://api.github.com/repos/direwolf-github/ephemeral-ci-0a2d31fe/pulls/1/comments\"},\"review_comment\":{\"href\":\"https://api.github.com/repos/direwolf-github/ephemeral-ci-0a2d31fe/pulls/comments{/number}\"},\"commits\":{\"href\":\"https://api.github.com/repos/direwolf-github/ephemeral-ci-0a2d31fe/pulls/1/commits\"},\"statuses\":{\"href\":\"https://api.github.com/repos/direwolf-github/ephemeral-ci-0a2d31fe/statuses/6058926999c065729040d511f714ea7d74df8f6f\"}},\"author_association\":\"OWNER\",\"merged\":false,\"mergeable\":null,\"rebaseable\":null,\"mergeable_state\":\"unknown\",\"merged_by\":null,\"comments\":0,\"review_comments\":0,\"maintainer_can_modify\":false,\"commits\":1,\"additions\":1,\"deletions\":0,\"changed_files\":1}},\"public\":true,\"created_at\":\"2020-02-11T17:14:53Z\"},{\"id\":\"11490532165\",\"type\":\"PushEvent\",\"actor\":{\"id\":12446579,\"login\":\"genecook\",\"display_login\":\"genecook\",\"gravatar_id\":\"\",\"url\":\"https://api.github.com/users/genecook\",\"avatar_url\":\"https://avatars.githubusercontent.com/u/12446579?\"},\"repo\":{\"id\":235844514,\"name\":\"genecook/dimebox\",\"url\":\"https://api.github.com/repos/genecook/dimebox\"},\"payload\":{\"push_id\":4616752184,\"size\":1,\"distinct_size\":1,\"ref\":\"refs/heads/master\",\"head\":\"621e2578b63d693f604396c67958e5d04eed4dd1\",\"before\":\"9b26af88dc7b833658c218e054a24cca8fba976b\",\"commits\":[{\"sha\":\"621e2578b63d693f604396c67958e5d04eed4dd1\",\"author\":{\"email\":\"genec@genes-cube\",\"name\":\"Gene Cook\"},\"message\":\"update todo list\",\"distinct\":true,\"url\":\"https://api.github.com/repos/genecook/dimebox/commits/621e2578b63d693f604396c67958e5d04eed4dd1\"}]},\"public\":true,\"created_at\":\"2020-02-11T17:14:53Z\"},{\"id\":\"11490532174\",\"type\":\"CreateEvent\",\"actor\":{\"id\":58647960,\"login\":\"Saadalikhan125\",\"display_login\":\"Saadalikhan125\",\"gravatar_id\":\"\",\"url\":\"https://api.github.com/users/Saadalikhan125\",\"avatar_url\":\"https://avatars.githubusercontent.com/u/58647960?\"},\"repo\":{\"id\":239819831,\"name\":\"Saadalikhan125/pakexport.github.io\",\"url\":\"https://api.github.com/repos/Saadalikhan125/pakexport.github.io\"},\"payload\":{\"ref\":null,\"ref_type\":\"repository\",\"master_branch\":\"master\",\"description\":null,\"pusher_type\":\"user\"},\"public\":true,\"created_at\":\"2020-02-11T17:14:53Z\"},{\"id\":\"11490532162\",\"type\":\"PushEvent\",\"actor\":{\"id\":6268905,\"login\":\"me-jser\",\"display_login\":\"me-jser\",\"gravatar_id\":\"\",\"url\":\"https://api.github.com/users/me-jser\",\"avatar_url\":\"https://avatars.githubusercontent.com/u/6268905?\"},\"repo\":{\"id\":157518180,\"name\":\"jdcloudcom/MKTContent\",\"url\":\"https://api.github.com/repos/jdcloudcom/MKTContent\"},\"payload\":{\"push_id\":4616752173,\"size\":1,\"distinct_size\":1,\"ref\":\"refs/heads/cn-sync\",\"head\":\"728b2df8fe39edfeafb4227abedf22c4bf8bd60e\",\"before\":\"7466b4709f309c66abd1f273ebfac72796b660f5\",\"commits\":[{\"sha\":\"728b2df8fe39edfeafb4227abedf22c4bf8bd60e\",\"author\":{\"email\":\"xiaosshuaii@gmail.com\",\"name\":\"\\u8096\\u5e05\"},\"message\":\"\",\"distinct\":true,\"url\":\"https://api.github.com/repos/jdcloudcom/MKTContent/commits/728b2df8fe39edfeafb4227abedf22c4bf8bd60e\"}]},\"public\":true,\"created_at\":\"2020-02-11T17:14:53Z\",\"org\":{\"id\":40586795,\"login\":\"jdcloudcom\",\"gravatar_id\":\"\",\"url\":\"https://api.github.com/orgs/jdcloudcom\",\"avatar_url\":\"https://avatars.githubusercontent.com/u/40586795?\"}},{\"id\":\"11490532158\",\"type\":\"PushEvent\",\"actor\":{\"id\":21218309,\"login\":\"SokoMishaLov\",\"display_login\":\"SokoMishaLov\",\"gravatar_id\":\"\",\"url\":\"https://api.github.com/users/SokoMishaLov\",\"avatar_url\":\"https://avatars.githubusercontent.com/u/21218309?\"},\"repo\":{\"id\":215872785,\"name\":\"SokoMishaLov/about-me\",\"url\":\"https://api.github.com/repos/SokoMishaLov/about-me\"},\"payload\":{\"push_id\":4616752179,\"size\":2,\"distinct_size\":1,\"ref\":\"refs/heads/master\",\"head\":\"8eb0cbc090a1db1127f985b9b212fc47c5459ca6\",\"before\":\"1f0239e825833066227b81a0614289a51097a9c1\",\"commits\":[{\"sha\":\"8615a3b8a224f8a17ac10cb0b7af0dda151dd138\",\"author\":{\"email\":\"27856297+dependabot-preview[bot]@users.noreply.github.com\",\"name\":\"dependabot-preview[bot]\"},\"message\":\"Bump @fortawesome/free-solid-svg-icons from 5.12.0 to 5.12.1\\\\n\\\\nBumps [@fortawesome/free-solid-svg-icons](https://github.com/FortAwesome/Font-Awesome) from 5.12.0 to 5.12.1.\\\\n- [Release notes](https://github.com/FortAwesome/Font-Awesome/releases)\\\\n- [Changelog](https://github.com/FortAwesome/Font-Awesome/blob/master/CHANGELOG.md)\\\\n- [Commits](https://github.com/FortAwesome/Font-Awesome/compare/5.12.0...5.12.1)\\\\n\\\\nSigned-off-by: dependabot-preview[bot] <support@dependabot.com>\",\"distinct\":false,\"url\":\"https://api.github.com/repos/SokoMishaLov/about-me/commits/8615a3b8a224f8a17ac10cb0b7af0dda151dd138\"},{\"sha\":\"8eb0cbc090a1db1127f985b9b212fc47c5459ca6\",\"author\":{\"email\":\"sokomishalov@mail.ru\",\"name\":\"Mikhael Sokolov\"},\"message\":\"Merge pull request #35 from SokoMishaLov/dependabot/npm_and_yarn/fortawesome/free-solid-svg-icons-5.12.1\\\\n\\\\nBump @fortawesome/free-solid-svg-icons from 5.12.0 to 5.12.1\",\"distinct\":true,\"url\":\"https://api.github.com/repos/SokoMishaLov/about-me/commits/8eb0cbc090a1db1127f985b9b212fc47c5459ca6\"}]},\"public\":true,\"created_at\":\"2020-02-11T17:14:53Z\"},{\"id\":\"11490532135\",\"type\":\"PushEvent\",\"actor\":{\"id\":5095603,\"login\":\"gnomesysadmins\",\"display_login\":\"gnomesysadmins\",\"gravatar_id\":\"\",\"url\":\"https://api.github.com/users/gnomesysadmins\",\"avatar_url\":\"https://avatars.githubusercontent.com/u/5095603?\"},\"repo\":{\"id\":4579905,\"name\":\"GNOME/chronojump\",\"url\":\"https://api.github.com/repos/GNOME/chronojump\"},\"payload\":{\"push_id\":4616752161,\"size\":4,\"distinct_size\":4,\"ref\":\"refs/heads/mainline\",\"head\":\"ba39a7243364e9ac613adb512d2c94e0aa55c90c\",\"before\":\"5bbcf80e2c2c71fb611cdf9a987ad14a6bc7b7fa\",\"commits\":[{\"sha\":\"310f50e7d40e64b12da4be2ec62f76919c3d9e21\",\"author\":{\"email\":\"xaviblas@gmail.com\",\"name\":\"Xavier de Blas\"},\"message\":\"EncoderBarsLimits -> RepetitionMouseLimits\",\"distinct\":true,\"url\":\"https://api.github.com/repos/GNOME/chronojump/commits/310f50e7d40e64b12da4be2ec62f76919c3d9e21\"},{\"sha\":\"181c6e15e11f8c9a8a6459af51bf2a4b0db4673d\",\"author\":{\"email\":\"xaviblas@gmail.com\",\"name\":\"Xavier de Blas\"},\"message\":\"On personChanged forceSensorAI graph is erased\",\"distinct\":true,\"url\":\"https://api.github.com/repos/GNOME/chronojump/commits/181c6e15e11f8c9a8a6459af51bf2a4b0db4673d\"},{\"sha\":\"67cf9afa824e6f2049898faff35f08349a8be243\",\"author\":{\"email\":\"xaviblas@gmail.com\",\"name\":\"Xavier de Blas\"},\"message\":\"ForceSensor analyze instant, removed B checkbox\",\"distinct\":true,\"url\":\"https://api.github.com/repos/GNOME/chronojump/commits/67cf9afa824e6f2049898faff35f08349a8be243\"},{\"sha\":\"ba39a7243364e9ac613adb512d2c94e0aa55c90c\",\"author\":{\"email\":\"xaviblas@gmail.com\",\"name\":\"Xavier de Blas\"},\"message\":\"ForceSensor AI graph: click zooms repetition\",\"distinct\":true,\"url\":\"https://api.github.com/repos/GNOME/chronojump/commits/ba39a7243364e9ac613adb512d2c94e0aa55c90c\"}]},\"public\":true,\"created_at\":\"2020-02-11T17:14:53Z\",\"org\":{\"id\":1801039,\"login\":\"GNOME\",\"gravatar_id\":\"\",\"url\":\"https://api.github.com/orgs/GNOME\",\"avatar_url\":\"https://avatars.githubusercontent.com/u/1801039?\"}},{\"id\":\"11490532161\",\"type\":\"CreateEvent\",\"actor\":{\"id\":60937127,\"login\":\"Bentelben\",\"display_login\":\"Bentelben\",\"gravatar_id\":\"\",\"url\":\"https://api.github.com/users/Bentelben\",\"avatar_url\":\"https://avatars.githubusercontent.com/u/60937127?\"},\"repo\":{\"id\":239819824,\"name\":\"Bentelben/kerly-bot\",\"url\":\"https://api.github.com/repos/Bentelben/kerly-bot\"},\"payload\":{\"ref\":\"master\",\"ref_type\":\"branch\",\"master_branch\":\"master\",\"description\":null,\"pusher_type\":\"user\"},\"public\":true,\"created_at\":\"2020-02-11T17:14:53Z\"},{\"id\":\"11490532149\",\"type\":\"PushEvent\",\"actor\":{\"id\":662596,\"login\":\"gorandev\",\"display_login\":\"gorandev\",\"gravatar_id\":\"\",\"url\":\"https://api.github.com/users/gorandev\",\"avatar_url\":\"https://avatars.githubusercontent.com/u/662596?\"},\"repo\":{\"id\":48302343,\"name\":\"flowlink/mandrill_integration\",\"url\":\"https://api.github.com/repos/flowlink/mandrill_integration\"},\"payload\":{\"push_id\":4616752162,\"size\":2,\"distinct_size\":1,\"ref\":\"refs/heads/master\",\"head\":\"7190ec46180ee5707dc67283ed66ef0bab00fe50\",\"before\":\"766e26e9ab2cfad354a6d250fb21bb70337cc9db\",\"commits\":[{\"sha\":\"e03afbb09d6c66985c984973caf5345efa5570f9\",\"author\":{\"email\":\"49699333+dependabot[bot]@users.noreply.github.com\",\"name\":\"dependabot[bot]\"},\"message\":\"Bump rack from 1.6.9 to 1.6.13\\\\n\\\\nBumps [rack](https://github.com/rack/rack) from 1.6.9 to 1.6.13.\\\\n- [Release notes](https://github.com/rack/rack/releases)\\\\n- [Changelog](https://github.com/rack/rack/blob/master/CHANGELOG.md)\\\\n- [Commits](https://github.com/rack/rack/compare/1.6.9...1.6.13)\\\\n\\\\nSigned-off-by: dependabot[bot] <support@github.com>\",\"distinct\":false,\"url\":\"https://api.github.com/repos/flowlink/mandrill_integration/commits/e03afbb09d6c66985c984973caf5345efa5570f9\"},{\"sha\":\"7190ec46180ee5707dc67283ed66ef0bab00fe50\",\"author\":{\"email\":\"mondongo@gmail.com\",\"name\":\"Joaqu\\xedn P\\xe9rez\"},\"message\":\"Merge pull request #3 from flowlink/dependabot/bundler/rack-1.6.13\\\\n\\\\nBump rack from 1.6.9 to 1.6.13\",\"distinct\":true,\"url\":\"https://api.github.com/repos/flowlink/mandrill_integration/commits/7190ec46180ee5707dc67283ed66ef0bab00fe50\"}]},\"public\":true,\"created_at\":\"2020-02-11T17:14:53Z\",\"org\":{\"id\":16366543,\"login\":\"flowlink\",\"gravatar_id\":\"\",\"url\":\"https://api.github.com/orgs/flowlink\",\"avatar_url\":\"https://avatars.githubusercontent.com/u/16366543?\"}},{\"id\":\"11490532143\",\"type\":\"PushEvent\",\"actor\":{\"id\":10810283,\"login\":\"direwolf-github\",\"display_login\":\"direwolf-github\",\"gravatar_id\":\"\",\"url\":\"https://api.github.com/users/direwolf-github\",\"avatar_url\":\"https://avatars.githubusercontent.com/u/10810283?\"},\"repo\":{\"id\":239819803,\"name\":\"direwolf-github/ephemeral-ci-0a2d31fe\",\"url\":\"https://api.github.com/repos/direwolf-github/ephemeral-ci-0a2d31fe\"},\"payload\":{\"push_id\":4616752168,\"size\":1,\"distinct_size\":1,\"ref\":\"refs/heads/branch-aa693219\",\"head\":\"6058926999c065729040d511f714ea7d74df8f6f\",\"before\":\"72693c4abdeb3c9b9494ec91bb9e88f7a7d4a661\",\"commits\":[{\"sha\":\"6058926999c065729040d511f714ea7d74df8f6f\",\"author\":{\"email\":\"heroku-lifecycle+direwolf-github@salesforce.com\",\"name\":\"direwolf-github\"},\"message\":\"add readme.txt\",\"distinct\":true,\"url\":\"https://api.github.com/repos/direwolf-github/ephemeral-ci-0a2d31fe/commits/6058926999c065729040d511f714ea7d74df8f6f\"}]},\"public\":true,\"created_at\":\"2020-02-11T17:14:53Z\"},{\"id\":\"11490532141\",\"type\":\"PushEvent\",\"actor\":{\"id\":47641641,\"login\":\"brenobaptista\",\"display_login\":\"brenobaptista\",\"gravatar_id\":\"\",\"url\":\"https://api.github.com/users/brenobaptista\",\"avatar_url\":\"https://avatars.githubusercontent.com/u/47641641?\"},\"repo\":{\"id\":208080780,\"name\":\"brenobaptista/aeon-planner-react\",\"url\":\"https://api.github.com/repos/brenobaptista/aeon-planner-react\"},\"payload\":{\"push_id\":4616752160,\"size\":1,\"distinct_size\":1,\"ref\":\"refs/heads/master\",\"head\":\"644571e5ee89e0bb1f72d213a02e7fd6dc926c33\",\"before\":\"0a5e24b849650694569766437089ea6d2cd05179\",\"commits\":[{\"sha\":\"644571e5ee89e0bb1f72d213a02e7fd6dc926c33\",\"author\":{\"email\":\"brenomb07@hotmail.com\",\"name\":\"brenobaptista\"},\"message\":\"Added Screenshots\",\"distinct\":true,\"url\":\"https://api.github.com/repos/brenobaptista/aeon-planner-react/commits/644571e5ee89e0bb1f72d213a02e7fd6dc926c33\"}]},\"public\":true,\"created_at\":\"2020-02-11T17:14:53Z\"},{\"id\":\"11490532155\",\"type\":\"WatchEvent\",\"actor\":{\"id\":43133528,\"login\":\"mhuda1\",\"display_login\":\"mhuda1\",\"gravatar_id\":\"\",\"url\":\"https://api.github.com/users/mhuda1\",\"avatar_url\":\"https://avatars.githubusercontent.com/u/43133528?\"},\"repo\":{\"id\":82768379,\"name\":\"jeremykenedy/laravel-roles\",\"url\":\"https://api.github.com/repos/jeremykenedy/laravel-roles\"},\"payload\":{\"action\":\"started\"},\"public\":true,\"created_at\":\"2020-02-11T17:14:53Z\"},{\"id\":\"11490532147\",\"type\":\"WatchEvent\",\"actor\":{\"id\":3060854,\"login\":\"jchen006\",\"display_login\":\"jchen006\",\"gravatar_id\":\"\",\"url\":\"https://api.github.com/users/jchen006\",\"avatar_url\":\"https://avatars.githubusercontent.com/u/3060854?\"},\"repo\":{\"id\":139596105,\"name\":\"thedaviddias/Front-End-Performance-Checklist\",\"url\":\"https://api.github.com/repos/thedaviddias/Front-End-Performance-Checklist\"},\"payload\":{\"action\":\"started\"},\"public\":true,\"created_at\":\"2020-02-11T17:14:53Z\"},{\"id\":\"11490532129\",\"type\":\"PushEvent\",\"actor\":{\"id\":25180681,\"login\":\"renovate-bot\",\"display_login\":\"renovate-bot\",\"gravatar_id\":\"\",\"url\":\"https://api.github.com/users/renovate-bot\",\"avatar_url\":\"https://avatars.githubusercontent.com/u/25180681?\"},\"repo\":{\"id\":198908219,\"name\":\"renovate-bot/nodejs-dialogflow\",\"url\":\"https://api.github.com/repos/renovate-bot/nodejs-dialogflow\"},\"payload\":{\"push_id\":4616752148,\"size\":0,\"distinct_size\":0,\"ref\":\"refs/heads/master\",\"head\":\"19793a57250f22c9ea7ebde1d4553cbc5c93253c\",\"before\":\"19793a57250f22c9ea7ebde1d4553cbc5c93253c\",\"commits\":[]},\"public\":true,\"created_at\":\"2020-02-11T17:14:53Z\"},{\"id\":\"11490532138\",\"type\":\"PushEvent\",\"actor\":{\"id\":51255751,\"login\":\"hkakvt\",\"display_login\":\"hkakvt\",\"gravatar_id\":\"\",\"url\":\"https://api.github.com/users/hkakvt\",\"avatar_url\":\"https://avatars.githubusercontent.com/u/51255751?\"},\"repo\":{\"id\":189693850,\"name\":\"hkakvt/milonactiontv\",\"url\":\"https://api.github.com/repos/hkakvt/milonactiontv\"},\"payload\":{\"push_id\":4616752167,\"size\":1,\"distinct_size\":1,\"ref\":\"refs/heads/master\",\"head\":\"11084ac03b765ce532fefad213301d1accb5e0c4\",\"before\":\"6e9efb28dd028b318a1e4fc298401fe738a6e475\",\"commits\":[{\"sha\":\"11084ac03b765ce532fefad213301d1accb5e0c4\",\"author\":{\"email\":\"\",\"name\":\"hkakvt\"},\"message\":\"\",\"distinct\":true,\"url\":\"https://api.github.com/repos/hkakvt/milonactiontv/commits/11084ac03b765ce532fefad213301d1accb5e0c4\"}]},\"public\":true,\"created_at\":\"2020-02-11T17:14:53Z\"},{\"id\":\"11490532131\",\"type\":\"PushEvent\",\"actor\":{\"id\":44475416,\"login\":\"doriveramirez\",\"display_login\":\"doriveramirez\",\"gravatar_id\":\"\",\"url\":\"https://api.github.com/users/doriveramirez\",\"avatar_url\":\"https://avatars.githubusercontent.com/u/44475416?\"},\"repo\":{\"id\":237995103,\"name\":\"GonzaCarry/Full-Stack-Valper\",\"url\":\"https://api.github.com/repos/GonzaCarry/Full-Stack-Valper\"},\"payload\":{\"push_id\":4616752152,\"size\":5,\"distinct_size\":4,\"ref\":\"refs/heads/develop\",\"head\":\"ef5d5ba6dcc483eced0533abeb78954bb5240b30\",\"before\":\"18d86632f0d37222b07fe8f18a0b838f0684206c\",\"commits\":[{\"sha\":\"f6f3de0cf118c4b98c013d870bea4fa0984c1432\",\"author\":{\"email\":\"doriveramirez@gmail.com\",\"name\":\"David\"},\"message\":\"asd\",\"distinct\":false,\"url\":\"https://api.github.com/repos/GonzaCarry/Full-Stack-Valper/commits/f6f3de0cf118c4b98c013d870bea4fa0984c1432\"},{\"sha\":\"55a1859a85cf21f9b6be2b79de51f3ea3d9286b5\",\"author\":{\"email\":\"doriveramirez@gmail.com\",\"name\":\"David\"},\"message\":\"Merge branch \\'feature/Menu\\' into develop\",\"distinct\":true,\"url\":\"https://api.github.com/repos/GonzaCarry/Full-Stack-Valper/commits/55a1859a85cf21f9b6be2b79de51f3ea3d9286b5\"},{\"sha\":\"ef82adf452f76785bbb7c66a5701c27332f35915\",\"author\":{\"email\":\"doriveramirez@gmail.com\",\"name\":\"David\"},\"message\":\"Merge branch \\'feature/testAPI\\' into develop\",\"distinct\":true,\"url\":\"https://api.github.com/repos/GonzaCarry/Full-Stack-Valper/commits/ef82adf452f76785bbb7c66a5701c27332f35915\"},{\"sha\":\"042b5d9f8aee3a528d417902537d45b283b28491\",\"author\":{\"email\":\"doriveramirez@gmail.com\",\"name\":\"David\"},\"message\":\"Merge branch \\'release/0.1\\' into develop\",\"distinct\":true,\"url\":\"https://api.github.com/repos/GonzaCarry/Full-Stack-Valper/commits/042b5d9f8aee3a528d417902537d45b283b28491\"},{\"sha\":\"ef5d5ba6dcc483eced0533abeb78954bb5240b30\",\"author\":{\"email\":\"doriveramirez@gmail.com\",\"name\":\"David\"},\"message\":\"Merge branch \\'release/0.2\\' into develop\",\"distinct\":true,\"url\":\"https://api.github.com/repos/GonzaCarry/Full-Stack-Valper/commits/ef5d5ba6dcc483eced0533abeb78954bb5240b30\"}]},\"public\":true,\"created_at\":\"2020-02-11T17:14:53Z\"},{\"id\":\"11490532139\",\"type\":\"IssuesEvent\",\"actor\":{\"id\":22350787,\"login\":\"rohrlich\",\"display_login\":\"rohrlich\",\"gravatar_id\":\"\",\"url\":\"https://api.github.com/users/rohrlich\",\"avatar_url\":\"https://avatars.githubusercontent.com/u/22350787?\"},\"repo\":{\"id\":147169167,\"name\":\"goki/gide\",\"url\":\"https://api.github.com/repos/goki/gide\"},\"payload\":{\"action\":\"opened\",\"issue\":{\"url\":\"https://api.github.com/repos/goki/gide/issues/142\",\"repository_url\":\"https://api.github.com/repos/goki/gide\",\"labels_url\":\"https://api.github.com/repos/goki/gide/issues/142/labels{/name}\",\"comments_url\":\"https://api.github.com/repos/goki/gide/issues/142/comments\",\"events_url\":\"https://api.github.com/repos/goki/gide/issues/142/events\",\"html_url\":\"https://github.com/goki/gide/issues/142\",\"id\":563354624,\"node_id\":\"MDU6SXNzdWU1NjMzNTQ2MjQ=\",\"number\":142,\"title\":\"DebugView - column contents don\\'t align with column headings\",\"user\":{\"login\":\"rohrlich\",\"id\":22350787,\"node_id\":\"MDQ6VXNlcjIyMzUwNzg3\",\"avatar_url\":\"https://avatars1.githubusercontent.com/u/22350787?v=4\",\"gravatar_id\":\"\",\"url\":\"https://api.github.com/users/rohrlich\",\"html_url\":\"https://github.com/rohrlich\",\"followers_url\":\"https://api.github.com/users/rohrlich/followers\",\"following_url\":\"https://api.github.com/users/rohrlich/following{/other_user}\",\"gists_url\":\"https://api.github.com/users/rohrlich/gists{/gist_id}\",\"starred_url\":\"https://api.github.com/users/rohrlich/starred{/owner}{/repo}\",\"subscriptions_url\":\"https://api.github.com/users/rohrlich/subscriptions\",\"organizations_url\":\"https://api.github.com/users/rohrlich/orgs\",\"repos_url\":\"https://api.github.com/users/rohrlich/repos\",\"events_url\":\"https://api.github.com/users/rohrlich/events{/privacy}\",\"received_events_url\":\"https://api.github.com/users/rohrlich/received_events\",\"type\":\"User\",\"site_admin\":false},\"labels\":[],\"state\":\"open\",\"locked\":false,\"assignee\":null,\"assignees\":[],\"milestone\":null,\"comments\":0,\"created_at\":\"2020-02-11T17:14:52Z\",\"updated_at\":\"2020-02-11T17:14:52Z\",\"closed_at\":null,\"author_association\":\"CONTRIBUTOR\",\"body\":\"Looks like the padding between columns is a pixel less than between headings. Would be good to force column separation and column widths to be whatever is set for headings. And that would also fix the problem of checkbox column headings being unreadable.\"}},\"public\":true,\"created_at\":\"2020-02-11T17:14:53Z\",\"org\":{\"id\":38777950,\"login\":\"goki\",\"gravatar_id\":\"\",\"url\":\"https://api.github.com/orgs/goki\",\"avatar_url\":\"https://avatars.githubusercontent.com/u/38777950?\"}}]'"
      ]
     },
     "execution_count": 24,
     "metadata": {},
     "output_type": "execute_result"
    }
   ],
   "source": [
    "import requests\n",
    "r = requests.get('https://api.github.com/events')\n",
    "r.text"
   ]
  },
  {
   "cell_type": "markdown",
   "metadata": {},
   "source": [
    "`request` guess what kind of encoding is used."
   ]
  },
  {
   "cell_type": "code",
   "execution_count": 25,
   "metadata": {},
   "outputs": [
    {
     "data": {
      "text/plain": [
       "'utf-8'"
      ]
     },
     "execution_count": 25,
     "metadata": {},
     "output_type": "execute_result"
    }
   ],
   "source": [
    "r.encoding"
   ]
  },
  {
   "cell_type": "markdown",
   "metadata": {},
   "source": [
    "## Response Status Codes"
   ]
  },
  {
   "cell_type": "code",
   "execution_count": 26,
   "metadata": {},
   "outputs": [
    {
     "data": {
      "text/plain": [
       "200"
      ]
     },
     "execution_count": 26,
     "metadata": {},
     "output_type": "execute_result"
    }
   ],
   "source": [
    "r = requests.get('https://httpbin.org/get')\n",
    "r.status_code"
   ]
  },
  {
   "cell_type": "markdown",
   "metadata": {},
   "source": [
    "We can also lookup status code from  built-in status codes"
   ]
  },
  {
   "cell_type": "code",
   "execution_count": 27,
   "metadata": {},
   "outputs": [
    {
     "data": {
      "text/plain": [
       "True"
      ]
     },
     "execution_count": 27,
     "metadata": {},
     "output_type": "execute_result"
    }
   ],
   "source": [
    "r.status_code == requests.codes.ok"
   ]
  },
  {
   "cell_type": "markdown",
   "metadata": {},
   "source": [
    "## Response Headers"
   ]
  },
  {
   "cell_type": "code",
   "execution_count": 28,
   "metadata": {},
   "outputs": [
    {
     "data": {
      "text/plain": [
       "{'Content-Length': '306', 'Server': 'gunicorn/19.9.0', 'Connection': 'keep-alive', 'Access-Control-Allow-Credentials': 'true', 'Date': 'Tue, 11 Feb 2020 17:20:00 GMT', 'Access-Control-Allow-Origin': '*', 'Content-Type': 'application/json'}"
      ]
     },
     "execution_count": 28,
     "metadata": {},
     "output_type": "execute_result"
    }
   ],
   "source": [
    "r.headers"
   ]
  },
  {
   "cell_type": "markdown",
   "metadata": {},
   "source": [
    "We can access the headers using any capitalization we want:"
   ]
  },
  {
   "cell_type": "code",
   "execution_count": 29,
   "metadata": {},
   "outputs": [
    {
     "name": "stdout",
     "output_type": "stream",
     "text": [
      "application/json\n",
      "application/json\n"
     ]
    }
   ],
   "source": [
    "print(r.headers['Content-Type'])\n",
    "print(r.headers['content-type'])"
   ]
  },
  {
   "cell_type": "markdown",
   "metadata": {},
   "source": [
    "## HTTP Basic Authentication"
   ]
  },
  {
   "cell_type": "code",
   "execution_count": 30,
   "metadata": {},
   "outputs": [
    {
     "name": "stdout",
     "output_type": "stream",
     "text": [
      "403\n"
     ]
    }
   ],
   "source": [
    "response = requests.get(\"https://api.github.com/user\", auth=(\"user\", \"pass\"))\n",
    "print(response.status_code)"
   ]
  },
  {
   "cell_type": "markdown",
   "metadata": {},
   "source": [
    "# BeautifulSoup\n",
    "BeautifulSoup is a python library for parsing HTML/XML files"
   ]
  },
  {
   "cell_type": "code",
   "execution_count": 31,
   "metadata": {},
   "outputs": [],
   "source": [
    "from bs4 import BeautifulSoup as bs"
   ]
  },
  {
   "cell_type": "markdown",
   "metadata": {},
   "source": [
    "## Constructor\n",
    "BeatifulSoup objects can be constructed in the following way:"
   ]
  },
  {
   "cell_type": "code",
   "execution_count": 32,
   "metadata": {},
   "outputs": [],
   "source": [
    "import requests\n",
    "\n",
    "response = requests.get(\"http://0.facebook.com\")\n",
    "\n",
    "# We pass in two arguements to the constructor\n",
    "# The first is the raw HTML content we want to parse\n",
    "# The second is the name of the HTML parser we want to use\n",
    "soup = bs(response.content, 'html5lib') "
   ]
  },
  {
   "cell_type": "markdown",
   "metadata": {},
   "source": [
    "## Navigation\n",
    "We can navigate the HTML file and get useful information easily using function built in BeautifulSoup"
   ]
  },
  {
   "cell_type": "markdown",
   "metadata": {},
   "source": [
    "### Using Tag Names\n",
    "Will return a Tag object representing the first HTML/XML tag corresponding the tag name"
   ]
  },
  {
   "cell_type": "code",
   "execution_count": 33,
   "metadata": {},
   "outputs": [
    {
     "data": {
      "text/plain": [
       "<head><title>Facebook \\u2013 log in or sign up</title><meta content=\"default\" id=\"meta_referrer\" name=\"referrer\"/><style type=\"text/css\">/*<![CDATA[*/.s{pointer-events:none;}.w{padding:8px;}.ca{padding-bottom:12px;padding-top:12px;}.bz{padding-left:4px;padding-right:4px;}.bu{padding-left:8px;padding-right:8px;}.b .bw{display:block;width:auto;}.b .bw .bx,.b .bw .bx:hover{background-color:#42b72a;color:#fff;height:44px;}.b .br{display:block;margin-bottom:5px;margin-left:3%;margin-top:-3px;overflow:hidden;text-align:center;white-space:nowrap;width:94%;}.b .br>span{display:inline-block;position:relative;}.b .br>span:before,.b .br>span:after{background:#ccd0d5;content:\"\";height:1px;position:absolute;top:50%;width:9999px;}.b .br>span:before{margin-right:15px;right:100%;}.b .br>span:after{left:100%;margin-left:15px;}.b .bs{color:#4b4f56;font-size:14px;}.b .bl{border:solid 1px #999;box-sizing:border-box;width:100%;}.b .t{border:0;border-collapse:collapse;margin:0;padding:0;width:100%;}.b .t tbody{vertical-align:top;}.b .t td{padding:0;}.b .t td.bf{padding:4px;}.b .u{width:100%;}.v{background:#fa3e3e;}.x{color:#fff;}.b .x a,.b .x a:visited{color:#fff;font-weight:bold;}.b .x a:focus,.b .x a:hover{background:#1d2129;}.cc{color:#4b4f56;}.y{font-size:12px;line-height:16px;}.cb{font-size:16px;line-height:20px;}.q{font-weight:normal;}.bh{font-weight:bold;}.bt{text-align:center;}form{margin:0;border:0;}.be{margin:0;}.be li{display:block;list-style:none;}.b .cd{padding:0;}.b .bf{padding:4px;}.b .bi{color:#8d949e;display:block;font-weight:bold;}.b .bk{padding:12px 8px;color:#1c1e21;}.bj{border:0;display:block;margin:0;padding:0;}.bm{box-sizing:border-box;width:100%;}.b .bn{border:solid 1px #999;}.m{appearance:none;background:none;display:inline-block;font-size:12px;height:28px;line-height:28px;margin:0;overflow:visible;padding:0 9px;text-align:center;vertical-align:top;white-space:nowrap;}.b .m{border-radius:2px;}.by,a.by,.b a.by,.b a.by:visited{background-color:#f5f6f7;color:#4b4f56;}.b a.by:hover,.b .by:hover{background-color:#ebedf0;color:#4b4f56;}.b .by{border:1px solid #bec3c9;}.by[disabled]{color:#bec3c9;}.b .by[disabled]:hover{background-color:#f5f6f7;color:#bec3c9;}.bq,.p,a.bq,a.p,html .b a.bq,html .b a.p{color:#fff;}.b .p{background-color:#4080ff;border:1px solid #4476e8;}.b a.p:hover,.b .p:hover{background-color:#4580ef;}.b .bq{background-color:#4267b2;border:1px solid #365899;}.b a.bq:hover,.b .bq:hover{background-color:#465e91;}.bq[disabled]{color:#899bc1;}.p[disabled]{color:#91b4fd;}.b .bq[disabled]:hover{background-color:#4267b2;}.b .p[disabled]:hover{background-color:#4080ff;}.bp{font-size:14px;height:44px;line-height:44px;padding:0 20px;}.m .s{display:inline-block;}.b .m .s{display:inline-block;margin-top:0;vertical-align:middle;}.b a.m::after{content:\"\";display:inline-block;height:100%;vertical-align:middle;}.m .s{line-height:20px;margin-top:4px;}.bp .s{line-height:24px;margin-top:10px;}.m.bo{display:block;width:100%;}a.m.bo,.b label.m.bo{display:block;width:auto;}.b .m{padding:0 8px;}.b a.m{height:26px;line-height:26px;}.b .bp{padding:0 19px;}.b a.bp{font-size:14px;height:42px;line-height:42px;}.b a,.b a:visited{color:#3b5998;text-decoration:none;}.b a:focus,.b a:hover{background-color:#3b5998;color:#fff;}body{text-align:left;direction:ltr;}body,tr,input,textarea,button{font-family:sans-serif;}body,p,figure,h1,h2,h3,h4,h5,h6,ul,ol,li,dl,dd,dt{margin:0;padding:0;}h1,h2,h3,h4,h5,h6{font-size:1em;font-weight:bold;}ul,ol{list-style:none;}article,aside,figcaption,figure,footer,header,nav,section{display:block;}.e{background-color:#fff;}.g{background-color:#3b5998;}.z{background-color:#eceff5;}#page{position:relative;}.b .n span{font-size:14px;}.b a.o,.b a.o:hover{background-color:#69a74e;color:#fff;}.h{padding:2px 3px;}.i{width:100%;}.i .k{text-align:right;}.ci{display:block;font-size:x-small;margin:-3px -3px 1px -3px;padding:3px;}.ck{border:1px solid #90949c;display:block;font-size:x-large;height:20px;line-height:18px;text-align:center;vertical-align:middle;width:20px;}.b .cf input,.b .cf input:visited,.b .cf a,.b .cf a:visited{color:#bec3c9;}.b .cf input:focus,.b .cf input:hover,.b .cf a:focus,.b .cf a:hover{background:#dadde1;color:#1d2129;}.ce{background-color:#444950;font-size:x-small;padding:7px 8px 8px;}.ch{color:#bec3c9;display:block;font-size:x-small;margin:-3px -3px 1px -3px;padding:3px;}.cm{color:#fff;}body,tr,input,textarea,.f{font-size:medium;}.j{border:0;display:inline-block;vertical-align:top;}i.j u{position:absolute;width:0;height:0;overflow:hidden;}/*]]>*/</style><meta content=\"Create an account or log in to Facebook. Connect with friends, family and other people you know. Share photos and videos, send messages and get updates.\" name=\"description\"/><link href=\"https://www.facebook.com/\" rel=\"canonical\"/></head>"
      ]
     },
     "execution_count": 33,
     "metadata": {},
     "output_type": "execute_result"
    }
   ],
   "source": [
    "soup.head"
   ]
  },
  {
   "cell_type": "code",
   "execution_count": 34,
   "metadata": {},
   "outputs": [
    {
     "data": {
      "text/plain": [
       "<title>Facebook \\u2013 log in or sign up</title>"
      ]
     },
     "execution_count": 34,
     "metadata": {},
     "output_type": "execute_result"
    }
   ],
   "source": [
    "soup.title"
   ]
  },
  {
   "cell_type": "markdown",
   "metadata": {},
   "source": [
    "You can use the dot operator again and again to get tags nested inside another tag"
   ]
  },
  {
   "cell_type": "code",
   "execution_count": 35,
   "metadata": {},
   "outputs": [
    {
     "data": {
      "text/plain": [
       "<meta content=\"default\" id=\"meta_referrer\" name=\"referrer\"/>"
      ]
     },
     "execution_count": 35,
     "metadata": {},
     "output_type": "execute_result"
    }
   ],
   "source": [
    "soup.head.meta"
   ]
  },
  {
   "cell_type": "markdown",
   "metadata": {},
   "source": [
    "### Using prettify \n",
    "By calling prettify(), you can show the text of an HTML file with proper formatting"
   ]
  },
  {
   "cell_type": "code",
   "execution_count": 36,
   "metadata": {
    "scrolled": true
   },
   "outputs": [
    {
     "name": "stdout",
     "output_type": "stream",
     "text": [
      "<!--?xml version=\"1.0\" encoding=\"utf-8\"?-->\n",
      "<!DOCTYPE html PUBLIC \"-//WAPFORUM//DTD XHTML Mobile 1.0//EN\" \"http://www.wapforum.org/DTD/xhtml-mobile10.dtd\">\n",
      "<html xmlns=\"http://www.w3.org/1999/xhtml\">\n",
      " <head>\n",
      "  <title>\n",
      "   Facebook – log in or sign up\n",
      "  </title>\n",
      "  <meta content=\"default\" id=\"meta_referrer\" name=\"referrer\"/>\n",
      "  <style type=\"text/css\">\n",
      "   /*<![CDATA[*/.s{pointer-events:none;}.w{padding:8px;}.ca{padding-bottom:12px;padding-top:12px;}.bz{padding-left:4px;padding-right:4px;}.bu{padding-left:8px;padding-right:8px;}.b .bw{display:block;width:auto;}.b .bw .bx,.b .bw .bx:hover{background-color:#42b72a;color:#fff;height:44px;}.b .br{display:block;margin-bottom:5px;margin-left:3%;margin-top:-3px;overflow:hidden;text-align:center;white-space:nowrap;width:94%;}.b .br>span{display:inline-block;position:relative;}.b .br>span:before,.b .br>span:after{background:#ccd0d5;content:\"\";height:1px;position:absolute;top:50%;width:9999px;}.b .br>span:before{margin-right:15px;right:100%;}.b .br>span:after{left:100%;margin-left:15px;}.b .bs{color:#4b4f56;font-size:14px;}.b .bl{border:solid 1px #999;box-sizing:border-box;width:100%;}.b .t{border:0;border-collapse:collapse;margin:0;padding:0;width:100%;}.b .t tbody{vertical-align:top;}.b .t td{padding:0;}.b .t td.bf{padding:4px;}.b .u{width:100%;}.v{background:#fa3e3e;}.x{color:#fff;}.b .x a,.b .x a:visited{color:#fff;font-weight:bold;}.b .x a:focus,.b .x a:hover{background:#1d2129;}.cc{color:#4b4f56;}.y{font-size:12px;line-height:16px;}.cb{font-size:16px;line-height:20px;}.q{font-weight:normal;}.bh{font-weight:bold;}.bt{text-align:center;}form{margin:0;border:0;}.be{margin:0;}.be li{display:block;list-style:none;}.b .cd{padding:0;}.b .bf{padding:4px;}.b .bi{color:#8d949e;display:block;font-weight:bold;}.b .bk{padding:12px 8px;color:#1c1e21;}.bj{border:0;display:block;margin:0;padding:0;}.bm{box-sizing:border-box;width:100%;}.b .bn{border:solid 1px #999;}.m{appearance:none;background:none;display:inline-block;font-size:12px;height:28px;line-height:28px;margin:0;overflow:visible;padding:0 9px;text-align:center;vertical-align:top;white-space:nowrap;}.b .m{border-radius:2px;}.by,a.by,.b a.by,.b a.by:visited{background-color:#f5f6f7;color:#4b4f56;}.b a.by:hover,.b .by:hover{background-color:#ebedf0;color:#4b4f56;}.b .by{border:1px solid #bec3c9;}.by[disabled]{color:#bec3c9;}.b .by[disabled]:hover{background-color:#f5f6f7;color:#bec3c9;}.bq,.p,a.bq,a.p,html .b a.bq,html .b a.p{color:#fff;}.b .p{background-color:#4080ff;border:1px solid #4476e8;}.b a.p:hover,.b .p:hover{background-color:#4580ef;}.b .bq{background-color:#4267b2;border:1px solid #365899;}.b a.bq:hover,.b .bq:hover{background-color:#465e91;}.bq[disabled]{color:#899bc1;}.p[disabled]{color:#91b4fd;}.b .bq[disabled]:hover{background-color:#4267b2;}.b .p[disabled]:hover{background-color:#4080ff;}.bp{font-size:14px;height:44px;line-height:44px;padding:0 20px;}.m .s{display:inline-block;}.b .m .s{display:inline-block;margin-top:0;vertical-align:middle;}.b a.m::after{content:\"\";display:inline-block;height:100%;vertical-align:middle;}.m .s{line-height:20px;margin-top:4px;}.bp .s{line-height:24px;margin-top:10px;}.m.bo{display:block;width:100%;}a.m.bo,.b label.m.bo{display:block;width:auto;}.b .m{padding:0 8px;}.b a.m{height:26px;line-height:26px;}.b .bp{padding:0 19px;}.b a.bp{font-size:14px;height:42px;line-height:42px;}.b a,.b a:visited{color:#3b5998;text-decoration:none;}.b a:focus,.b a:hover{background-color:#3b5998;color:#fff;}body{text-align:left;direction:ltr;}body,tr,input,textarea,button{font-family:sans-serif;}body,p,figure,h1,h2,h3,h4,h5,h6,ul,ol,li,dl,dd,dt{margin:0;padding:0;}h1,h2,h3,h4,h5,h6{font-size:1em;font-weight:bold;}ul,ol{list-style:none;}article,aside,figcaption,figure,footer,header,nav,section{display:block;}.e{background-color:#fff;}.g{background-color:#3b5998;}.z{background-color:#eceff5;}#page{position:relative;}.b .n span{font-size:14px;}.b a.o,.b a.o:hover{background-color:#69a74e;color:#fff;}.h{padding:2px 3px;}.i{width:100%;}.i .k{text-align:right;}.ci{display:block;font-size:x-small;margin:-3px -3px 1px -3px;padding:3px;}.ck{border:1px solid #90949c;display:block;font-size:x-large;height:20px;line-height:18px;text-align:center;vertical-align:middle;width:20px;}.b .cf input,.b .cf input:visited,.b .cf a,.b .cf a:visited{color:#bec3c9;}.b .cf input:focus,.b .cf input:hover,.b .cf a:focus,.b .cf a:hover{background:#dadde1;color:#1d2129;}.ce{background-color:#444950;font-size:x-small;padding:7px 8px 8px;}.ch{color:#bec3c9;display:block;font-size:x-small;margin:-3px -3px 1px -3px;padding:3px;}.cm{color:#fff;}body,tr,input,textarea,.f{font-size:medium;}.j{border:0;display:inline-block;vertical-align:top;}i.j u{position:absolute;width:0;height:0;overflow:hidden;}/*]]>*/\n",
      "  </style>\n",
      "  <meta content=\"Create an account or log in to Facebook. Connect with friends, family and other people you know. Share photos and videos, send messages and get updates.\" name=\"description\"/>\n",
      "  <link href=\"https://www.facebook.com/\" rel=\"canonical\"/>\n",
      " </head>\n",
      " <body class=\"b c d e\" tabindex=\"0\">\n",
      "  <div class=\"f\">\n",
      "   <div id=\"viewport\">\n",
      "    <div class=\"g h\" id=\"header\">\n",
      "     <table cellpadding=\"0\" cellspacing=\"0\" class=\"i\">\n",
      "      <tbody>\n",
      "       <tr>\n",
      "        <td valign=\"middle\">\n",
      "         <h1 style=\"display:block;height:0;overflow:hidden;position:absolute;width:0;padding:0\">\n",
      "          Facebook\n",
      "         </h1>\n",
      "         <img alt=\"facebook\" class=\"j\" height=\"16\" src=\"https://static.xx.fbcdn.net/rsrc.php/v3/y8/r/k97pj8-or6s.png\" width=\"77\"/>\n",
      "        </td>\n",
      "        <td class=\"k\" valign=\"middle\">\n",
      "         <a class=\"l m n o p q\" href=\"/reg/?cid=102&amp;refid=8\">\n",
      "          <span class=\"s\">\n",
      "           Create Account\n",
      "          </span>\n",
      "         </a>\n",
      "        </td>\n",
      "       </tr>\n",
      "      </tbody>\n",
      "     </table>\n",
      "    </div>\n",
      "    <div id=\"objects_container\">\n",
      "     <div class=\"e\" id=\"root\">\n",
      "      <table class=\"t\">\n",
      "       <tbody>\n",
      "        <tr>\n",
      "         <td class=\"u\">\n",
      "          <div class=\"v w x\" id=\"login_error\" style=\"display: none;\">\n",
      "           <div class=\"y\">\n",
      "           </div>\n",
      "          </div>\n",
      "          <div class=\"z ba\">\n",
      "           <div id=\"login_top_banner\">\n",
      "           </div>\n",
      "           <div class=\"bb\">\n",
      "            <form action=\"/login/device-based/regular/login/?refsrc=https%3A%2F%2F0.facebook.com%2F&amp;lwv=100&amp;refid=8\" class=\"bc bd\" id=\"login_form\" method=\"post\" novalidate=\"1\">\n",
      "             <input autocomplete=\"off\" name=\"lsd\" type=\"hidden\" value=\"AVoB7ote\"/>\n",
      "             <input autocomplete=\"off\" name=\"jazoest\" type=\"hidden\" value=\"2711\"/>\n",
      "             <input name=\"m_ts\" type=\"hidden\" value=\"1581441609\"/>\n",
      "             <input name=\"li\" type=\"hidden\" value=\"SeJCXoM6n5yMQMdE6mofS0DQ\"/>\n",
      "             <input name=\"try_number\" type=\"hidden\" value=\"0\"/>\n",
      "             <input name=\"unrecognized_tries\" type=\"hidden\" value=\"0\"/>\n",
      "             <ul class=\"be bf bg\">\n",
      "              <li class=\"bf\">\n",
      "               <span class=\"bh bi\" id=\"u_0_0\">\n",
      "                Phone number or email address\n",
      "               </span>\n",
      "               <input autocapitalize=\"off\" autocomplete=\"on\" autocorrect=\"off\" class=\"bj bk bl\" id=\"m_login_email\" name=\"email\" type=\"text\"/>\n",
      "              </li>\n",
      "              <li class=\"bf\">\n",
      "               <div>\n",
      "                <span class=\"bh bi\" id=\"u_0_1\">\n",
      "                 Password\n",
      "                </span>\n",
      "                <input autocapitalize=\"off\" autocomplete=\"on\" autocorrect=\"off\" class=\"bj bk bm bn\" name=\"pass\" type=\"password\"/>\n",
      "               </div>\n",
      "              </li>\n",
      "              <li class=\"bf\">\n",
      "               <input class=\"l q m bo bp bq\" name=\"login\" type=\"submit\" value=\"Log In\"/>\n",
      "              </li>\n",
      "             </ul>\n",
      "             <div>\n",
      "              <div class=\"br\">\n",
      "               <span class=\"bs\">\n",
      "                or\n",
      "               </span>\n",
      "              </div>\n",
      "              <div class=\"bt bu\">\n",
      "               <div class=\"bt bv bw\" id=\"signup-button\" tabindex=\"0\">\n",
      "                <input class=\"l q m bx bp by\" name=\"sign_up\" type=\"submit\" value=\"Create New Account\"/>\n",
      "               </div>\n",
      "              </div>\n",
      "             </div>\n",
      "             <div>\n",
      "             </div>\n",
      "             <noscript>\n",
      "              <input name=\"_fb_noscript\" type=\"hidden\" value=\"true\"/>\n",
      "             </noscript>\n",
      "            </form>\n",
      "            <div class=\"bz ca\">\n",
      "             <span class=\"cb cc\">\n",
      "              <ul class=\"be cd\">\n",
      "               <li class=\"bf\">\n",
      "                <a href=\"/recover/initiate/?c=https%3A%2F%2Fm.facebook.com%2F%3Fzero_e%3D6%26zero_et%3D1581441669%26refsrc%3Dhttps%253A%252F%252F0.facebook.com%252F&amp;r&amp;cuid&amp;ars=facebook_login&amp;lwv=100&amp;refid=8\" id=\"forgot-password-link\" tabindex=\"0\">\n",
      "                 Forgotten password?\n",
      "                </a>\n",
      "               </li>\n",
      "               <li class=\"bf\">\n",
      "               </li>\n",
      "               <li class=\"bf\">\n",
      "               </li>\n",
      "              </ul>\n",
      "             </span>\n",
      "            </div>\n",
      "           </div>\n",
      "          </div>\n",
      "         </td>\n",
      "        </tr>\n",
      "       </tbody>\n",
      "      </table>\n",
      "      <div style=\"display:none\">\n",
      "      </div>\n",
      "      <span>\n",
      "       <img height=\"0\" src=\"https://facebook.com/security/hsts-pixel.gif?c=3.2\" style=\"display:none\" width=\"0\"/>\n",
      "      </span>\n",
      "     </div>\n",
      "    </div>\n",
      "    <div>\n",
      "     <div class=\"ce\">\n",
      "      <div class=\"cf\">\n",
      "       <table class=\"t\">\n",
      "        <tbody>\n",
      "         <tr>\n",
      "          <td class=\"u cg\" style=\"width:50%\">\n",
      "           <b class=\"ch\">\n",
      "            English (UK)\n",
      "           </b>\n",
      "           <a class=\"ci\" href=\"/a/language.php?l=as_IN&amp;lref=https%3A%2F%2Fm.facebook.com%2F%3Fzero_e%3D6%26zero_et%3D1581441669%26refsrc%3Dhttps%253A%252F%252F0.facebook.com%252F&amp;index=2&amp;sref=legacy_mbasic_footer&amp;gfid=AQBOoS6Z1friG7g2&amp;ref_component=mbasic_footer&amp;ref_page=%2Fwap%2Findex.php&amp;refid=8\">\n",
      "            অসমীয়া\n",
      "           </a>\n",
      "           <a class=\"ci\" href=\"/a/language.php?l=pt_BR&amp;lref=https%3A%2F%2Fm.facebook.com%2F%3Fzero_e%3D6%26zero_et%3D1581441669%26refsrc%3Dhttps%253A%252F%252F0.facebook.com%252F&amp;index=4&amp;sref=legacy_mbasic_footer&amp;gfid=AQDK3Eh9WdQjDzE1&amp;ref_component=mbasic_footer&amp;ref_page=%2Fwap%2Findex.php&amp;refid=8\">\n",
      "            Português (Brasil)\n",
      "           </a>\n",
      "          </td>\n",
      "          <td class=\"u cj\" style=\"width:50%\">\n",
      "           <a class=\"ci\" href=\"/a/language.php?l=bn_IN&amp;lref=https%3A%2F%2Fm.facebook.com%2F%3Fzero_e%3D6%26zero_et%3D1581441669%26refsrc%3Dhttps%253A%252F%252F0.facebook.com%252F&amp;index=1&amp;sref=legacy_mbasic_footer&amp;gfid=AQAkXMDY-j913gyY&amp;ref_component=mbasic_footer&amp;ref_page=%2Fwap%2Findex.php&amp;refid=8\">\n",
      "            বাংলা\n",
      "           </a>\n",
      "           <a class=\"ci\" href=\"/a/language.php?l=es_LA&amp;lref=https%3A%2F%2Fm.facebook.com%2F%3Fzero_e%3D6%26zero_et%3D1581441669%26refsrc%3Dhttps%253A%252F%252F0.facebook.com%252F&amp;index=3&amp;sref=legacy_mbasic_footer&amp;gfid=AQCIboLU0YhMT-j1&amp;ref_component=mbasic_footer&amp;ref_page=%2Fwap%2Findex.php&amp;refid=8\">\n",
      "            Español\n",
      "           </a>\n",
      "           <a class=\"ci\" href=\"/language.php?n=https%3A%2F%2Fm.facebook.com%2F%3Fzero_e%3D6%26zero_et%3D1581441669%26refsrc%3Dhttps%253A%252F%252F0.facebook.com%252F&amp;ref_component=mbasic_footer&amp;ref_page=%2Fwap%2Findex.php&amp;refid=8\">\n",
      "            <div class=\"ck\">\n",
      "             +\n",
      "            </div>\n",
      "           </a>\n",
      "          </td>\n",
      "         </tr>\n",
      "        </tbody>\n",
      "       </table>\n",
      "      </div>\n",
      "      <span class=\"bh cl cm\">\n",
      "       Facebook Inc.\n",
      "      </span>\n",
      "     </div>\n",
      "    </div>\n",
      "   </div>\n",
      "  </div>\n",
      " </body>\n",
      "</html>\n"
     ]
    }
   ],
   "source": [
    "print(soup.prettify())"
   ]
  },
  {
   "cell_type": "markdown",
   "metadata": {},
   "source": [
    "### Using .contents and .children\n",
    "A tag's children is available in a list called .contents"
   ]
  },
  {
   "cell_type": "code",
   "execution_count": 37,
   "metadata": {},
   "outputs": [
    {
     "data": {
      "text/plain": [
       "[<title>Facebook \\u2013 log in or sign up</title>,\n",
       " <meta content=\"default\" id=\"meta_referrer\" name=\"referrer\"/>,\n",
       " <style type=\"text/css\">/*<![CDATA[*/.s{pointer-events:none;}.w{padding:8px;}.ca{padding-bottom:12px;padding-top:12px;}.bz{padding-left:4px;padding-right:4px;}.bu{padding-left:8px;padding-right:8px;}.b .bw{display:block;width:auto;}.b .bw .bx,.b .bw .bx:hover{background-color:#42b72a;color:#fff;height:44px;}.b .br{display:block;margin-bottom:5px;margin-left:3%;margin-top:-3px;overflow:hidden;text-align:center;white-space:nowrap;width:94%;}.b .br>span{display:inline-block;position:relative;}.b .br>span:before,.b .br>span:after{background:#ccd0d5;content:\"\";height:1px;position:absolute;top:50%;width:9999px;}.b .br>span:before{margin-right:15px;right:100%;}.b .br>span:after{left:100%;margin-left:15px;}.b .bs{color:#4b4f56;font-size:14px;}.b .bl{border:solid 1px #999;box-sizing:border-box;width:100%;}.b .t{border:0;border-collapse:collapse;margin:0;padding:0;width:100%;}.b .t tbody{vertical-align:top;}.b .t td{padding:0;}.b .t td.bf{padding:4px;}.b .u{width:100%;}.v{background:#fa3e3e;}.x{color:#fff;}.b .x a,.b .x a:visited{color:#fff;font-weight:bold;}.b .x a:focus,.b .x a:hover{background:#1d2129;}.cc{color:#4b4f56;}.y{font-size:12px;line-height:16px;}.cb{font-size:16px;line-height:20px;}.q{font-weight:normal;}.bh{font-weight:bold;}.bt{text-align:center;}form{margin:0;border:0;}.be{margin:0;}.be li{display:block;list-style:none;}.b .cd{padding:0;}.b .bf{padding:4px;}.b .bi{color:#8d949e;display:block;font-weight:bold;}.b .bk{padding:12px 8px;color:#1c1e21;}.bj{border:0;display:block;margin:0;padding:0;}.bm{box-sizing:border-box;width:100%;}.b .bn{border:solid 1px #999;}.m{appearance:none;background:none;display:inline-block;font-size:12px;height:28px;line-height:28px;margin:0;overflow:visible;padding:0 9px;text-align:center;vertical-align:top;white-space:nowrap;}.b .m{border-radius:2px;}.by,a.by,.b a.by,.b a.by:visited{background-color:#f5f6f7;color:#4b4f56;}.b a.by:hover,.b .by:hover{background-color:#ebedf0;color:#4b4f56;}.b .by{border:1px solid #bec3c9;}.by[disabled]{color:#bec3c9;}.b .by[disabled]:hover{background-color:#f5f6f7;color:#bec3c9;}.bq,.p,a.bq,a.p,html .b a.bq,html .b a.p{color:#fff;}.b .p{background-color:#4080ff;border:1px solid #4476e8;}.b a.p:hover,.b .p:hover{background-color:#4580ef;}.b .bq{background-color:#4267b2;border:1px solid #365899;}.b a.bq:hover,.b .bq:hover{background-color:#465e91;}.bq[disabled]{color:#899bc1;}.p[disabled]{color:#91b4fd;}.b .bq[disabled]:hover{background-color:#4267b2;}.b .p[disabled]:hover{background-color:#4080ff;}.bp{font-size:14px;height:44px;line-height:44px;padding:0 20px;}.m .s{display:inline-block;}.b .m .s{display:inline-block;margin-top:0;vertical-align:middle;}.b a.m::after{content:\"\";display:inline-block;height:100%;vertical-align:middle;}.m .s{line-height:20px;margin-top:4px;}.bp .s{line-height:24px;margin-top:10px;}.m.bo{display:block;width:100%;}a.m.bo,.b label.m.bo{display:block;width:auto;}.b .m{padding:0 8px;}.b a.m{height:26px;line-height:26px;}.b .bp{padding:0 19px;}.b a.bp{font-size:14px;height:42px;line-height:42px;}.b a,.b a:visited{color:#3b5998;text-decoration:none;}.b a:focus,.b a:hover{background-color:#3b5998;color:#fff;}body{text-align:left;direction:ltr;}body,tr,input,textarea,button{font-family:sans-serif;}body,p,figure,h1,h2,h3,h4,h5,h6,ul,ol,li,dl,dd,dt{margin:0;padding:0;}h1,h2,h3,h4,h5,h6{font-size:1em;font-weight:bold;}ul,ol{list-style:none;}article,aside,figcaption,figure,footer,header,nav,section{display:block;}.e{background-color:#fff;}.g{background-color:#3b5998;}.z{background-color:#eceff5;}#page{position:relative;}.b .n span{font-size:14px;}.b a.o,.b a.o:hover{background-color:#69a74e;color:#fff;}.h{padding:2px 3px;}.i{width:100%;}.i .k{text-align:right;}.ci{display:block;font-size:x-small;margin:-3px -3px 1px -3px;padding:3px;}.ck{border:1px solid #90949c;display:block;font-size:x-large;height:20px;line-height:18px;text-align:center;vertical-align:middle;width:20px;}.b .cf input,.b .cf input:visited,.b .cf a,.b .cf a:visited{color:#bec3c9;}.b .cf input:focus,.b .cf input:hover,.b .cf a:focus,.b .cf a:hover{background:#dadde1;color:#1d2129;}.ce{background-color:#444950;font-size:x-small;padding:7px 8px 8px;}.ch{color:#bec3c9;display:block;font-size:x-small;margin:-3px -3px 1px -3px;padding:3px;}.cm{color:#fff;}body,tr,input,textarea,.f{font-size:medium;}.j{border:0;display:inline-block;vertical-align:top;}i.j u{position:absolute;width:0;height:0;overflow:hidden;}/*]]>*/</style>,\n",
       " <meta content=\"Create an account or log in to Facebook. Connect with friends, family and other people you know. Share photos and videos, send messages and get updates.\" name=\"description\"/>,\n",
       " <link href=\"https://www.facebook.com/\" rel=\"canonical\"/>]"
      ]
     },
     "execution_count": 37,
     "metadata": {},
     "output_type": "execute_result"
    }
   ],
   "source": [
    "head_tag = soup.head\n",
    "head_tag.contents"
   ]
  },
  {
   "cell_type": "code",
   "execution_count": 38,
   "metadata": {},
   "outputs": [
    {
     "data": {
      "text/plain": [
       "<title>Facebook \\u2013 log in or sign up</title>"
      ]
     },
     "execution_count": 38,
     "metadata": {},
     "output_type": "execute_result"
    }
   ],
   "source": [
    "title_tag = head_tag.contents[0]\n",
    "title_tag"
   ]
  },
  {
   "cell_type": "markdown",
   "metadata": {},
   "source": [
    "You can also iterate over a tag's children by using the .children iterator"
   ]
  },
  {
   "cell_type": "code",
   "execution_count": 39,
   "metadata": {},
   "outputs": [
    {
     "name": "stdout",
     "output_type": "stream",
     "text": [
      "<title>Facebook – log in or sign up</title>\n",
      "<meta content=\"default\" id=\"meta_referrer\" name=\"referrer\"/>\n",
      "<style type=\"text/css\">/*<![CDATA[*/.s{pointer-events:none;}.w{padding:8px;}.ca{padding-bottom:12px;padding-top:12px;}.bz{padding-left:4px;padding-right:4px;}.bu{padding-left:8px;padding-right:8px;}.b .bw{display:block;width:auto;}.b .bw .bx,.b .bw .bx:hover{background-color:#42b72a;color:#fff;height:44px;}.b .br{display:block;margin-bottom:5px;margin-left:3%;margin-top:-3px;overflow:hidden;text-align:center;white-space:nowrap;width:94%;}.b .br>span{display:inline-block;position:relative;}.b .br>span:before,.b .br>span:after{background:#ccd0d5;content:\"\";height:1px;position:absolute;top:50%;width:9999px;}.b .br>span:before{margin-right:15px;right:100%;}.b .br>span:after{left:100%;margin-left:15px;}.b .bs{color:#4b4f56;font-size:14px;}.b .bl{border:solid 1px #999;box-sizing:border-box;width:100%;}.b .t{border:0;border-collapse:collapse;margin:0;padding:0;width:100%;}.b .t tbody{vertical-align:top;}.b .t td{padding:0;}.b .t td.bf{padding:4px;}.b .u{width:100%;}.v{background:#fa3e3e;}.x{color:#fff;}.b .x a,.b .x a:visited{color:#fff;font-weight:bold;}.b .x a:focus,.b .x a:hover{background:#1d2129;}.cc{color:#4b4f56;}.y{font-size:12px;line-height:16px;}.cb{font-size:16px;line-height:20px;}.q{font-weight:normal;}.bh{font-weight:bold;}.bt{text-align:center;}form{margin:0;border:0;}.be{margin:0;}.be li{display:block;list-style:none;}.b .cd{padding:0;}.b .bf{padding:4px;}.b .bi{color:#8d949e;display:block;font-weight:bold;}.b .bk{padding:12px 8px;color:#1c1e21;}.bj{border:0;display:block;margin:0;padding:0;}.bm{box-sizing:border-box;width:100%;}.b .bn{border:solid 1px #999;}.m{appearance:none;background:none;display:inline-block;font-size:12px;height:28px;line-height:28px;margin:0;overflow:visible;padding:0 9px;text-align:center;vertical-align:top;white-space:nowrap;}.b .m{border-radius:2px;}.by,a.by,.b a.by,.b a.by:visited{background-color:#f5f6f7;color:#4b4f56;}.b a.by:hover,.b .by:hover{background-color:#ebedf0;color:#4b4f56;}.b .by{border:1px solid #bec3c9;}.by[disabled]{color:#bec3c9;}.b .by[disabled]:hover{background-color:#f5f6f7;color:#bec3c9;}.bq,.p,a.bq,a.p,html .b a.bq,html .b a.p{color:#fff;}.b .p{background-color:#4080ff;border:1px solid #4476e8;}.b a.p:hover,.b .p:hover{background-color:#4580ef;}.b .bq{background-color:#4267b2;border:1px solid #365899;}.b a.bq:hover,.b .bq:hover{background-color:#465e91;}.bq[disabled]{color:#899bc1;}.p[disabled]{color:#91b4fd;}.b .bq[disabled]:hover{background-color:#4267b2;}.b .p[disabled]:hover{background-color:#4080ff;}.bp{font-size:14px;height:44px;line-height:44px;padding:0 20px;}.m .s{display:inline-block;}.b .m .s{display:inline-block;margin-top:0;vertical-align:middle;}.b a.m::after{content:\"\";display:inline-block;height:100%;vertical-align:middle;}.m .s{line-height:20px;margin-top:4px;}.bp .s{line-height:24px;margin-top:10px;}.m.bo{display:block;width:100%;}a.m.bo,.b label.m.bo{display:block;width:auto;}.b .m{padding:0 8px;}.b a.m{height:26px;line-height:26px;}.b .bp{padding:0 19px;}.b a.bp{font-size:14px;height:42px;line-height:42px;}.b a,.b a:visited{color:#3b5998;text-decoration:none;}.b a:focus,.b a:hover{background-color:#3b5998;color:#fff;}body{text-align:left;direction:ltr;}body,tr,input,textarea,button{font-family:sans-serif;}body,p,figure,h1,h2,h3,h4,h5,h6,ul,ol,li,dl,dd,dt{margin:0;padding:0;}h1,h2,h3,h4,h5,h6{font-size:1em;font-weight:bold;}ul,ol{list-style:none;}article,aside,figcaption,figure,footer,header,nav,section{display:block;}.e{background-color:#fff;}.g{background-color:#3b5998;}.z{background-color:#eceff5;}#page{position:relative;}.b .n span{font-size:14px;}.b a.o,.b a.o:hover{background-color:#69a74e;color:#fff;}.h{padding:2px 3px;}.i{width:100%;}.i .k{text-align:right;}.ci{display:block;font-size:x-small;margin:-3px -3px 1px -3px;padding:3px;}.ck{border:1px solid #90949c;display:block;font-size:x-large;height:20px;line-height:18px;text-align:center;vertical-align:middle;width:20px;}.b .cf input,.b .cf input:visited,.b .cf a,.b .cf a:visited{color:#bec3c9;}.b .cf input:focus,.b .cf input:hover,.b .cf a:focus,.b .cf a:hover{background:#dadde1;color:#1d2129;}.ce{background-color:#444950;font-size:x-small;padding:7px 8px 8px;}.ch{color:#bec3c9;display:block;font-size:x-small;margin:-3px -3px 1px -3px;padding:3px;}.cm{color:#fff;}body,tr,input,textarea,.f{font-size:medium;}.j{border:0;display:inline-block;vertical-align:top;}i.j u{position:absolute;width:0;height:0;overflow:hidden;}/*]]>*/</style>\n",
      "<meta content=\"Create an account or log in to Facebook. Connect with friends, family and other people you know. Share photos and videos, send messages and get updates.\" name=\"description\"/>\n",
      "<link href=\"https://www.facebook.com/\" rel=\"canonical\"/>\n"
     ]
    }
   ],
   "source": [
    "for child in head_tag.children:\n",
    "    print(child)"
   ]
  },
  {
   "cell_type": "markdown",
   "metadata": {},
   "source": [
    "### Using .descendants\n",
    ".contents only gives a list of all direct descendants of a tag. In order to get all descendants (direct and indirect) of a tag, we use .descendants to iterate over all children of a tag recursively"
   ]
  },
  {
   "cell_type": "code",
   "execution_count": 40,
   "metadata": {},
   "outputs": [
    {
     "name": "stdout",
     "output_type": "stream",
     "text": [
      "<tbody><tr><td valign=\"middle\"><h1 style=\"display:block;height:0;overflow:hidden;position:absolute;width:0;padding:0\">Facebook</h1><img alt=\"facebook\" class=\"j\" height=\"16\" src=\"https://static.xx.fbcdn.net/rsrc.php/v3/y8/r/k97pj8-or6s.png\" width=\"77\"/></td><td class=\"k\" valign=\"middle\"><a class=\"l m n o p q\" href=\"/reg/?cid=102&amp;refid=8\"><span class=\"s\">Create Account</span></a></td></tr></tbody>\n",
      "<tr><td valign=\"middle\"><h1 style=\"display:block;height:0;overflow:hidden;position:absolute;width:0;padding:0\">Facebook</h1><img alt=\"facebook\" class=\"j\" height=\"16\" src=\"https://static.xx.fbcdn.net/rsrc.php/v3/y8/r/k97pj8-or6s.png\" width=\"77\"/></td><td class=\"k\" valign=\"middle\"><a class=\"l m n o p q\" href=\"/reg/?cid=102&amp;refid=8\"><span class=\"s\">Create Account</span></a></td></tr>\n",
      "<td valign=\"middle\"><h1 style=\"display:block;height:0;overflow:hidden;position:absolute;width:0;padding:0\">Facebook</h1><img alt=\"facebook\" class=\"j\" height=\"16\" src=\"https://static.xx.fbcdn.net/rsrc.php/v3/y8/r/k97pj8-or6s.png\" width=\"77\"/></td>\n",
      "<h1 style=\"display:block;height:0;overflow:hidden;position:absolute;width:0;padding:0\">Facebook</h1>\n",
      "Facebook\n",
      "<img alt=\"facebook\" class=\"j\" height=\"16\" src=\"https://static.xx.fbcdn.net/rsrc.php/v3/y8/r/k97pj8-or6s.png\" width=\"77\"/>\n",
      "<td class=\"k\" valign=\"middle\"><a class=\"l m n o p q\" href=\"/reg/?cid=102&amp;refid=8\"><span class=\"s\">Create Account</span></a></td>\n",
      "<a class=\"l m n o p q\" href=\"/reg/?cid=102&amp;refid=8\"><span class=\"s\">Create Account</span></a>\n",
      "<span class=\"s\">Create Account</span>\n",
      "Create Account\n"
     ]
    }
   ],
   "source": [
    "for child in soup.table.descendants:\n",
    "    print(child) "
   ]
  },
  {
   "cell_type": "markdown",
   "metadata": {},
   "source": [
    "### Using .string, .strings, and .stripped_strings\n",
    "If a tag has only one child, and it is a string, we can access it using .string"
   ]
  },
  {
   "cell_type": "code",
   "execution_count": 41,
   "metadata": {},
   "outputs": [
    {
     "data": {
      "text/plain": [
       "u'Facebook \\u2013 log in or sign up'"
      ]
     },
     "execution_count": 41,
     "metadata": {},
     "output_type": "execute_result"
    }
   ],
   "source": [
    "title_tag.string"
   ]
  },
  {
   "cell_type": "markdown",
   "metadata": {},
   "source": [
    "If a tag has more than one child, then you can access all the strings inside it using .strings"
   ]
  },
  {
   "cell_type": "code",
   "execution_count": 42,
   "metadata": {},
   "outputs": [
    {
     "name": "stdout",
     "output_type": "stream",
     "text": [
      "u'Phone number or email address'\n",
      "u'Password'\n"
     ]
    }
   ],
   "source": [
    "for string in soup.ul.strings:\n",
    "    print(repr(string))"
   ]
  },
  {
   "cell_type": "markdown",
   "metadata": {},
   "source": [
    "We can see that the above strings have a lot of whitespaces. In order to get the strings with whitespaces removed, you can use .stripped_strings"
   ]
  },
  {
   "cell_type": "code",
   "execution_count": 43,
   "metadata": {},
   "outputs": [
    {
     "name": "stdout",
     "output_type": "stream",
     "text": [
      "u'Phone number or email address'\n",
      "u'Password'\n"
     ]
    }
   ],
   "source": [
    "for string in soup.ul.stripped_strings:\n",
    "    print(repr(string))"
   ]
  },
  {
   "cell_type": "markdown",
   "metadata": {},
   "source": [
    "### Accessing Parent of Tag\n",
    "You can access the parent tag of a tag or string using .parent\n",
    "\n"
   ]
  },
  {
   "cell_type": "code",
   "execution_count": 44,
   "metadata": {},
   "outputs": [
    {
     "name": "stdout",
     "output_type": "stream",
     "text": [
      "<title>Facebook – log in or sign up</title>\n",
      "<head><title>Facebook – log in or sign up</title><meta content=\"default\" id=\"meta_referrer\" name=\"referrer\"/><style type=\"text/css\">/*<![CDATA[*/.s{pointer-events:none;}.w{padding:8px;}.ca{padding-bottom:12px;padding-top:12px;}.bz{padding-left:4px;padding-right:4px;}.bu{padding-left:8px;padding-right:8px;}.b .bw{display:block;width:auto;}.b .bw .bx,.b .bw .bx:hover{background-color:#42b72a;color:#fff;height:44px;}.b .br{display:block;margin-bottom:5px;margin-left:3%;margin-top:-3px;overflow:hidden;text-align:center;white-space:nowrap;width:94%;}.b .br>span{display:inline-block;position:relative;}.b .br>span:before,.b .br>span:after{background:#ccd0d5;content:\"\";height:1px;position:absolute;top:50%;width:9999px;}.b .br>span:before{margin-right:15px;right:100%;}.b .br>span:after{left:100%;margin-left:15px;}.b .bs{color:#4b4f56;font-size:14px;}.b .bl{border:solid 1px #999;box-sizing:border-box;width:100%;}.b .t{border:0;border-collapse:collapse;margin:0;padding:0;width:100%;}.b .t tbody{vertical-align:top;}.b .t td{padding:0;}.b .t td.bf{padding:4px;}.b .u{width:100%;}.v{background:#fa3e3e;}.x{color:#fff;}.b .x a,.b .x a:visited{color:#fff;font-weight:bold;}.b .x a:focus,.b .x a:hover{background:#1d2129;}.cc{color:#4b4f56;}.y{font-size:12px;line-height:16px;}.cb{font-size:16px;line-height:20px;}.q{font-weight:normal;}.bh{font-weight:bold;}.bt{text-align:center;}form{margin:0;border:0;}.be{margin:0;}.be li{display:block;list-style:none;}.b .cd{padding:0;}.b .bf{padding:4px;}.b .bi{color:#8d949e;display:block;font-weight:bold;}.b .bk{padding:12px 8px;color:#1c1e21;}.bj{border:0;display:block;margin:0;padding:0;}.bm{box-sizing:border-box;width:100%;}.b .bn{border:solid 1px #999;}.m{appearance:none;background:none;display:inline-block;font-size:12px;height:28px;line-height:28px;margin:0;overflow:visible;padding:0 9px;text-align:center;vertical-align:top;white-space:nowrap;}.b .m{border-radius:2px;}.by,a.by,.b a.by,.b a.by:visited{background-color:#f5f6f7;color:#4b4f56;}.b a.by:hover,.b .by:hover{background-color:#ebedf0;color:#4b4f56;}.b .by{border:1px solid #bec3c9;}.by[disabled]{color:#bec3c9;}.b .by[disabled]:hover{background-color:#f5f6f7;color:#bec3c9;}.bq,.p,a.bq,a.p,html .b a.bq,html .b a.p{color:#fff;}.b .p{background-color:#4080ff;border:1px solid #4476e8;}.b a.p:hover,.b .p:hover{background-color:#4580ef;}.b .bq{background-color:#4267b2;border:1px solid #365899;}.b a.bq:hover,.b .bq:hover{background-color:#465e91;}.bq[disabled]{color:#899bc1;}.p[disabled]{color:#91b4fd;}.b .bq[disabled]:hover{background-color:#4267b2;}.b .p[disabled]:hover{background-color:#4080ff;}.bp{font-size:14px;height:44px;line-height:44px;padding:0 20px;}.m .s{display:inline-block;}.b .m .s{display:inline-block;margin-top:0;vertical-align:middle;}.b a.m::after{content:\"\";display:inline-block;height:100%;vertical-align:middle;}.m .s{line-height:20px;margin-top:4px;}.bp .s{line-height:24px;margin-top:10px;}.m.bo{display:block;width:100%;}a.m.bo,.b label.m.bo{display:block;width:auto;}.b .m{padding:0 8px;}.b a.m{height:26px;line-height:26px;}.b .bp{padding:0 19px;}.b a.bp{font-size:14px;height:42px;line-height:42px;}.b a,.b a:visited{color:#3b5998;text-decoration:none;}.b a:focus,.b a:hover{background-color:#3b5998;color:#fff;}body{text-align:left;direction:ltr;}body,tr,input,textarea,button{font-family:sans-serif;}body,p,figure,h1,h2,h3,h4,h5,h6,ul,ol,li,dl,dd,dt{margin:0;padding:0;}h1,h2,h3,h4,h5,h6{font-size:1em;font-weight:bold;}ul,ol{list-style:none;}article,aside,figcaption,figure,footer,header,nav,section{display:block;}.e{background-color:#fff;}.g{background-color:#3b5998;}.z{background-color:#eceff5;}#page{position:relative;}.b .n span{font-size:14px;}.b a.o,.b a.o:hover{background-color:#69a74e;color:#fff;}.h{padding:2px 3px;}.i{width:100%;}.i .k{text-align:right;}.ci{display:block;font-size:x-small;margin:-3px -3px 1px -3px;padding:3px;}.ck{border:1px solid #90949c;display:block;font-size:x-large;height:20px;line-height:18px;text-align:center;vertical-align:middle;width:20px;}.b .cf input,.b .cf input:visited,.b .cf a,.b .cf a:visited{color:#bec3c9;}.b .cf input:focus,.b .cf input:hover,.b .cf a:focus,.b .cf a:hover{background:#dadde1;color:#1d2129;}.ce{background-color:#444950;font-size:x-small;padding:7px 8px 8px;}.ch{color:#bec3c9;display:block;font-size:x-small;margin:-3px -3px 1px -3px;padding:3px;}.cm{color:#fff;}body,tr,input,textarea,.f{font-size:medium;}.j{border:0;display:inline-block;vertical-align:top;}i.j u{position:absolute;width:0;height:0;overflow:hidden;}/*]]>*/</style><meta content=\"Create an account or log in to Facebook. Connect with friends, family and other people you know. Share photos and videos, send messages and get updates.\" name=\"description\"/><link href=\"https://www.facebook.com/\" rel=\"canonical\"/></head>\n"
     ]
    }
   ],
   "source": [
    "title_tag = soup.title\n",
    "print(title_tag)\n",
    "print(title_tag.parent)"
   ]
  },
  {
   "cell_type": "markdown",
   "metadata": {},
   "source": [
    "If you want to iterate over all of the parents of a tag, you can use .parents"
   ]
  },
  {
   "cell_type": "code",
   "execution_count": 45,
   "metadata": {},
   "outputs": [
    {
     "name": "stdout",
     "output_type": "stream",
     "text": [
      "<a class=\"l m n o p q\" href=\"/reg/?cid=102&amp;refid=8\"><span class=\"s\">Create Account</span></a>\n",
      "td\n",
      "tr\n",
      "tbody\n",
      "table\n",
      "div\n",
      "div\n",
      "div\n",
      "body\n",
      "html\n",
      "[document]\n"
     ]
    }
   ],
   "source": [
    "link = soup.a\n",
    "print(link)\n",
    "for parent in link.parents:\n",
    "    print(parent.name)"
   ]
  },
  {
   "cell_type": "markdown",
   "metadata": {},
   "source": [
    "### Accessing Siblings of Tag\n",
    "You can use .next_sibling and .previous_sibling to access the previous and next sibling of a tag respectively"
   ]
  },
  {
   "cell_type": "code",
   "execution_count": 46,
   "metadata": {},
   "outputs": [
    {
     "name": "stdout",
     "output_type": "stream",
     "text": [
      "<html>\n",
      " <head>\n",
      " </head>\n",
      " <body>\n",
      "  <a>\n",
      "   <b>\n",
      "    text1\n",
      "   </b>\n",
      "   <c>\n",
      "    text2\n",
      "   </c>\n",
      "  </a>\n",
      " </body>\n",
      "</html>\n"
     ]
    }
   ],
   "source": [
    "sibling_soup = bs(\"<a><b>text1</b><c>text2</c></b></a>\", 'html5lib')\n",
    "print(sibling_soup.prettify())"
   ]
  },
  {
   "cell_type": "code",
   "execution_count": 47,
   "metadata": {},
   "outputs": [
    {
     "data": {
      "text/plain": [
       "<c>text2</c>"
      ]
     },
     "execution_count": 47,
     "metadata": {},
     "output_type": "execute_result"
    }
   ],
   "source": [
    "sibling_soup.b.next_sibling"
   ]
  },
  {
   "cell_type": "code",
   "execution_count": 48,
   "metadata": {},
   "outputs": [
    {
     "data": {
      "text/plain": [
       "<b>text1</b>"
      ]
     },
     "execution_count": 48,
     "metadata": {},
     "output_type": "execute_result"
    }
   ],
   "source": [
    "sibling_soup.c.previous_sibling"
   ]
  },
  {
   "cell_type": "markdown",
   "metadata": {},
   "source": [
    "You can iterate over a tag's previous and next siblings using the .next_siblings and\n",
    ".previous_siblings respectively"
   ]
  },
  {
   "cell_type": "code",
   "execution_count": 49,
   "metadata": {},
   "outputs": [
    {
     "name": "stdout",
     "output_type": "stream",
     "text": [
      "<li class=\"bf\"><div><span class=\"bh bi\" id=\"u_0_1\">Password</span><input autocapitalize=\"off\" autocomplete=\"on\" autocorrect=\"off\" class=\"bj bk bm bn\" name=\"pass\" type=\"password\"/></div></li>\n",
      "<li class=\"bf\"><input class=\"l q m bo bp bq\" name=\"login\" type=\"submit\" value=\"Log In\"/></li>\n"
     ]
    }
   ],
   "source": [
    "for sibling in soup.li.next_siblings:\n",
    "    print(sibling)"
   ]
  },
  {
   "cell_type": "markdown",
   "metadata": {},
   "source": [
    "### Traversing the parse tree\n",
    "You can access the next and previous element of tag in the preorder of the parse tree using .next_element and .previous_element respectively"
   ]
  },
  {
   "cell_type": "code",
   "execution_count": 50,
   "metadata": {},
   "outputs": [
    {
     "name": "stdout",
     "output_type": "stream",
     "text": [
      "<a class=\"l m n o p q\" href=\"/reg/?cid=102&amp;refid=8\"><span class=\"s\">Create Account</span></a>\n"
     ]
    }
   ],
   "source": [
    "a = soup.a\n",
    "print(a)"
   ]
  },
  {
   "cell_type": "code",
   "execution_count": 51,
   "metadata": {},
   "outputs": [
    {
     "data": {
      "text/plain": [
       "<td class=\"k\" valign=\"middle\"><a class=\"l m n o p q\" href=\"/reg/?cid=102&amp;refid=8\"><span class=\"s\">Create Account</span></a></td>"
      ]
     },
     "execution_count": 51,
     "metadata": {},
     "output_type": "execute_result"
    }
   ],
   "source": [
    "a.previous_element"
   ]
  },
  {
   "cell_type": "code",
   "execution_count": 52,
   "metadata": {},
   "outputs": [
    {
     "data": {
      "text/plain": [
       "<span class=\"s\">Create Account</span>"
      ]
     },
     "execution_count": 52,
     "metadata": {},
     "output_type": "execute_result"
    }
   ],
   "source": [
    "a.next_element"
   ]
  },
  {
   "cell_type": "markdown",
   "metadata": {},
   "source": [
    "You can iterate over all previous and next elements using the .next_elements and .previous_elements iterators respectively"
   ]
  },
  {
   "cell_type": "code",
   "execution_count": 53,
   "metadata": {},
   "outputs": [
    {
     "name": "stdout",
     "output_type": "stream",
     "text": [
      "24\n"
     ]
    }
   ],
   "source": [
    "previous_elements = [element for element in a.previous_elements]\n",
    "print(len(previous_elements))"
   ]
  },
  {
   "cell_type": "code",
   "execution_count": 54,
   "metadata": {},
   "outputs": [
    {
     "name": "stdout",
     "output_type": "stream",
     "text": [
      "76\n"
     ]
    }
   ],
   "source": [
    "next_elements = [element for element in a.next_elements]\n",
    "print(len(next_elements))"
   ]
  },
  {
   "cell_type": "markdown",
   "metadata": {},
   "source": [
    "### find_all() function\n",
    "The find_all() function is the most important function in BeautifulSoup. It finds tags that fulfill certain criteria."
   ]
  },
  {
   "cell_type": "markdown",
   "metadata": {},
   "source": [
    "#### Finding tag using string\n",
    "Entering the name of the tag in the find_all() function will give a list of all tags matching the condition"
   ]
  },
  {
   "cell_type": "code",
   "execution_count": 55,
   "metadata": {},
   "outputs": [
    {
     "data": {
      "text/plain": [
       "[<a class=\"l m n o p q\" href=\"/reg/?cid=102&amp;refid=8\"><span class=\"s\">Create Account</span></a>,\n",
       " <a href=\"/recover/initiate/?c=https%3A%2F%2Fm.facebook.com%2F%3Fzero_e%3D6%26zero_et%3D1581441669%26refsrc%3Dhttps%253A%252F%252F0.facebook.com%252F&amp;r&amp;cuid&amp;ars=facebook_login&amp;lwv=100&amp;refid=8\" id=\"forgot-password-link\" tabindex=\"0\">Forgotten password?</a>,\n",
       " <a class=\"ci\" href=\"/a/language.php?l=as_IN&amp;lref=https%3A%2F%2Fm.facebook.com%2F%3Fzero_e%3D6%26zero_et%3D1581441669%26refsrc%3Dhttps%253A%252F%252F0.facebook.com%252F&amp;index=2&amp;sref=legacy_mbasic_footer&amp;gfid=AQBOoS6Z1friG7g2&amp;ref_component=mbasic_footer&amp;ref_page=%2Fwap%2Findex.php&amp;refid=8\">\\u0985\\u09b8\\u09ae\\u09c0\\u09af\\u09bc\\u09be</a>,\n",
       " <a class=\"ci\" href=\"/a/language.php?l=pt_BR&amp;lref=https%3A%2F%2Fm.facebook.com%2F%3Fzero_e%3D6%26zero_et%3D1581441669%26refsrc%3Dhttps%253A%252F%252F0.facebook.com%252F&amp;index=4&amp;sref=legacy_mbasic_footer&amp;gfid=AQDK3Eh9WdQjDzE1&amp;ref_component=mbasic_footer&amp;ref_page=%2Fwap%2Findex.php&amp;refid=8\">Portugu\\xeas (Brasil)</a>,\n",
       " <a class=\"ci\" href=\"/a/language.php?l=bn_IN&amp;lref=https%3A%2F%2Fm.facebook.com%2F%3Fzero_e%3D6%26zero_et%3D1581441669%26refsrc%3Dhttps%253A%252F%252F0.facebook.com%252F&amp;index=1&amp;sref=legacy_mbasic_footer&amp;gfid=AQAkXMDY-j913gyY&amp;ref_component=mbasic_footer&amp;ref_page=%2Fwap%2Findex.php&amp;refid=8\">\\u09ac\\u09be\\u0982\\u09b2\\u09be</a>,\n",
       " <a class=\"ci\" href=\"/a/language.php?l=es_LA&amp;lref=https%3A%2F%2Fm.facebook.com%2F%3Fzero_e%3D6%26zero_et%3D1581441669%26refsrc%3Dhttps%253A%252F%252F0.facebook.com%252F&amp;index=3&amp;sref=legacy_mbasic_footer&amp;gfid=AQCIboLU0YhMT-j1&amp;ref_component=mbasic_footer&amp;ref_page=%2Fwap%2Findex.php&amp;refid=8\">Espa\\xf1ol</a>,\n",
       " <a class=\"ci\" href=\"/language.php?n=https%3A%2F%2Fm.facebook.com%2F%3Fzero_e%3D6%26zero_et%3D1581441669%26refsrc%3Dhttps%253A%252F%252F0.facebook.com%252F&amp;ref_component=mbasic_footer&amp;ref_page=%2Fwap%2Findex.php&amp;refid=8\"><div class=\"ck\"> + </div></a>]"
      ]
     },
     "execution_count": 55,
     "metadata": {},
     "output_type": "execute_result"
    }
   ],
   "source": [
    "soup.find_all('a')"
   ]
  },
  {
   "cell_type": "markdown",
   "metadata": {},
   "source": [
    "If you insert a list of strings inside find_all(), you will get a list of tags whose name matches any name inside the list"
   ]
  },
  {
   "cell_type": "code",
   "execution_count": 56,
   "metadata": {},
   "outputs": [
    {
     "data": {
      "text/plain": [
       "[<a class=\"l m n o p q\" href=\"/reg/?cid=102&amp;refid=8\"><span class=\"s\">Create Account</span></a>,\n",
       " <li class=\"bf\"><span class=\"bh bi\" id=\"u_0_0\">Phone number or email address</span><input autocapitalize=\"off\" autocomplete=\"on\" autocorrect=\"off\" class=\"bj bk bl\" id=\"m_login_email\" name=\"email\" type=\"text\"/></li>,\n",
       " <li class=\"bf\"><div><span class=\"bh bi\" id=\"u_0_1\">Password</span><input autocapitalize=\"off\" autocomplete=\"on\" autocorrect=\"off\" class=\"bj bk bm bn\" name=\"pass\" type=\"password\"/></div></li>,\n",
       " <li class=\"bf\"><input class=\"l q m bo bp bq\" name=\"login\" type=\"submit\" value=\"Log In\"/></li>,\n",
       " <li class=\"bf\"><a href=\"/recover/initiate/?c=https%3A%2F%2Fm.facebook.com%2F%3Fzero_e%3D6%26zero_et%3D1581441669%26refsrc%3Dhttps%253A%252F%252F0.facebook.com%252F&amp;r&amp;cuid&amp;ars=facebook_login&amp;lwv=100&amp;refid=8\" id=\"forgot-password-link\" tabindex=\"0\">Forgotten password?</a></li>,\n",
       " <a href=\"/recover/initiate/?c=https%3A%2F%2Fm.facebook.com%2F%3Fzero_e%3D6%26zero_et%3D1581441669%26refsrc%3Dhttps%253A%252F%252F0.facebook.com%252F&amp;r&amp;cuid&amp;ars=facebook_login&amp;lwv=100&amp;refid=8\" id=\"forgot-password-link\" tabindex=\"0\">Forgotten password?</a>,\n",
       " <li class=\"bf\"></li>,\n",
       " <li class=\"bf\"></li>,\n",
       " <a class=\"ci\" href=\"/a/language.php?l=as_IN&amp;lref=https%3A%2F%2Fm.facebook.com%2F%3Fzero_e%3D6%26zero_et%3D1581441669%26refsrc%3Dhttps%253A%252F%252F0.facebook.com%252F&amp;index=2&amp;sref=legacy_mbasic_footer&amp;gfid=AQBOoS6Z1friG7g2&amp;ref_component=mbasic_footer&amp;ref_page=%2Fwap%2Findex.php&amp;refid=8\">\\u0985\\u09b8\\u09ae\\u09c0\\u09af\\u09bc\\u09be</a>,\n",
       " <a class=\"ci\" href=\"/a/language.php?l=pt_BR&amp;lref=https%3A%2F%2Fm.facebook.com%2F%3Fzero_e%3D6%26zero_et%3D1581441669%26refsrc%3Dhttps%253A%252F%252F0.facebook.com%252F&amp;index=4&amp;sref=legacy_mbasic_footer&amp;gfid=AQDK3Eh9WdQjDzE1&amp;ref_component=mbasic_footer&amp;ref_page=%2Fwap%2Findex.php&amp;refid=8\">Portugu\\xeas (Brasil)</a>,\n",
       " <a class=\"ci\" href=\"/a/language.php?l=bn_IN&amp;lref=https%3A%2F%2Fm.facebook.com%2F%3Fzero_e%3D6%26zero_et%3D1581441669%26refsrc%3Dhttps%253A%252F%252F0.facebook.com%252F&amp;index=1&amp;sref=legacy_mbasic_footer&amp;gfid=AQAkXMDY-j913gyY&amp;ref_component=mbasic_footer&amp;ref_page=%2Fwap%2Findex.php&amp;refid=8\">\\u09ac\\u09be\\u0982\\u09b2\\u09be</a>,\n",
       " <a class=\"ci\" href=\"/a/language.php?l=es_LA&amp;lref=https%3A%2F%2Fm.facebook.com%2F%3Fzero_e%3D6%26zero_et%3D1581441669%26refsrc%3Dhttps%253A%252F%252F0.facebook.com%252F&amp;index=3&amp;sref=legacy_mbasic_footer&amp;gfid=AQCIboLU0YhMT-j1&amp;ref_component=mbasic_footer&amp;ref_page=%2Fwap%2Findex.php&amp;refid=8\">Espa\\xf1ol</a>,\n",
       " <a class=\"ci\" href=\"/language.php?n=https%3A%2F%2Fm.facebook.com%2F%3Fzero_e%3D6%26zero_et%3D1581441669%26refsrc%3Dhttps%253A%252F%252F0.facebook.com%252F&amp;ref_component=mbasic_footer&amp;ref_page=%2Fwap%2Findex.php&amp;refid=8\"><div class=\"ck\"> + </div></a>]"
      ]
     },
     "execution_count": 56,
     "metadata": {},
     "output_type": "execute_result"
    }
   ],
   "source": [
    "soup.find_all(['a', 'li'])"
   ]
  },
  {
   "cell_type": "markdown",
   "metadata": {},
   "source": [
    "#### Finding tag using RE\n",
    "You can enter an RE inside find_all() to find all tags whose name is accepted by the RE"
   ]
  },
  {
   "cell_type": "code",
   "execution_count": 57,
   "metadata": {},
   "outputs": [
    {
     "data": {
      "text/plain": [
       "[<body class=\"b c d e\" tabindex=\"0\"><div class=\"f\"><div id=\"viewport\"><div class=\"g h\" id=\"header\"><table cellpadding=\"0\" cellspacing=\"0\" class=\"i\"><tbody><tr><td valign=\"middle\"><h1 style=\"display:block;height:0;overflow:hidden;position:absolute;width:0;padding:0\">Facebook</h1><img alt=\"facebook\" class=\"j\" height=\"16\" src=\"https://static.xx.fbcdn.net/rsrc.php/v3/y8/r/k97pj8-or6s.png\" width=\"77\"/></td><td class=\"k\" valign=\"middle\"><a class=\"l m n o p q\" href=\"/reg/?cid=102&amp;refid=8\"><span class=\"s\">Create Account</span></a></td></tr></tbody></table></div><div id=\"objects_container\"><div class=\"e\" id=\"root\"><table class=\"t\"><tbody><tr><td class=\"u\"><div class=\"v w x\" id=\"login_error\" style=\"display: none;\"><div class=\"y\"></div></div><div class=\"z ba\"><div id=\"login_top_banner\"></div><div class=\"bb\"><form action=\"/login/device-based/regular/login/?refsrc=https%3A%2F%2F0.facebook.com%2F&amp;lwv=100&amp;refid=8\" class=\"bc bd\" id=\"login_form\" method=\"post\" novalidate=\"1\"><input autocomplete=\"off\" name=\"lsd\" type=\"hidden\" value=\"AVoB7ote\"/><input autocomplete=\"off\" name=\"jazoest\" type=\"hidden\" value=\"2711\"/><input name=\"m_ts\" type=\"hidden\" value=\"1581441609\"/><input name=\"li\" type=\"hidden\" value=\"SeJCXoM6n5yMQMdE6mofS0DQ\"/><input name=\"try_number\" type=\"hidden\" value=\"0\"/><input name=\"unrecognized_tries\" type=\"hidden\" value=\"0\"/><ul class=\"be bf bg\"><li class=\"bf\"><span class=\"bh bi\" id=\"u_0_0\">Phone number or email address</span><input autocapitalize=\"off\" autocomplete=\"on\" autocorrect=\"off\" class=\"bj bk bl\" id=\"m_login_email\" name=\"email\" type=\"text\"/></li><li class=\"bf\"><div><span class=\"bh bi\" id=\"u_0_1\">Password</span><input autocapitalize=\"off\" autocomplete=\"on\" autocorrect=\"off\" class=\"bj bk bm bn\" name=\"pass\" type=\"password\"/></div></li><li class=\"bf\"><input class=\"l q m bo bp bq\" name=\"login\" type=\"submit\" value=\"Log In\"/></li></ul><div><div class=\"br\"><span class=\"bs\">or</span></div><div class=\"bt bu\"><div class=\"bt bv bw\" id=\"signup-button\" tabindex=\"0\"><input class=\"l q m bx bp by\" name=\"sign_up\" type=\"submit\" value=\"Create New Account\"/></div></div></div><div></div><noscript><input name=\"_fb_noscript\" type=\"hidden\" value=\"true\"/></noscript></form><div class=\"bz ca\"><span class=\"cb cc\"><ul class=\"be cd\"><li class=\"bf\"><a href=\"/recover/initiate/?c=https%3A%2F%2Fm.facebook.com%2F%3Fzero_e%3D6%26zero_et%3D1581441669%26refsrc%3Dhttps%253A%252F%252F0.facebook.com%252F&amp;r&amp;cuid&amp;ars=facebook_login&amp;lwv=100&amp;refid=8\" id=\"forgot-password-link\" tabindex=\"0\">Forgotten password?</a></li><li class=\"bf\"></li><li class=\"bf\"></li></ul></span></div></div></div></td></tr></tbody></table><div style=\"display:none\"></div><span><img height=\"0\" src=\"https://facebook.com/security/hsts-pixel.gif?c=3.2\" style=\"display:none\" width=\"0\"/></span></div></div><div><div class=\"ce\"><div class=\"cf\"><table class=\"t\"><tbody><tr><td class=\"u cg\" style=\"width:50%\"><b class=\"ch\">English (UK)</b><a class=\"ci\" href=\"/a/language.php?l=as_IN&amp;lref=https%3A%2F%2Fm.facebook.com%2F%3Fzero_e%3D6%26zero_et%3D1581441669%26refsrc%3Dhttps%253A%252F%252F0.facebook.com%252F&amp;index=2&amp;sref=legacy_mbasic_footer&amp;gfid=AQBOoS6Z1friG7g2&amp;ref_component=mbasic_footer&amp;ref_page=%2Fwap%2Findex.php&amp;refid=8\">\\u0985\\u09b8\\u09ae\\u09c0\\u09af\\u09bc\\u09be</a><a class=\"ci\" href=\"/a/language.php?l=pt_BR&amp;lref=https%3A%2F%2Fm.facebook.com%2F%3Fzero_e%3D6%26zero_et%3D1581441669%26refsrc%3Dhttps%253A%252F%252F0.facebook.com%252F&amp;index=4&amp;sref=legacy_mbasic_footer&amp;gfid=AQDK3Eh9WdQjDzE1&amp;ref_component=mbasic_footer&amp;ref_page=%2Fwap%2Findex.php&amp;refid=8\">Portugu\\xeas (Brasil)</a></td><td class=\"u cj\" style=\"width:50%\"><a class=\"ci\" href=\"/a/language.php?l=bn_IN&amp;lref=https%3A%2F%2Fm.facebook.com%2F%3Fzero_e%3D6%26zero_et%3D1581441669%26refsrc%3Dhttps%253A%252F%252F0.facebook.com%252F&amp;index=1&amp;sref=legacy_mbasic_footer&amp;gfid=AQAkXMDY-j913gyY&amp;ref_component=mbasic_footer&amp;ref_page=%2Fwap%2Findex.php&amp;refid=8\">\\u09ac\\u09be\\u0982\\u09b2\\u09be</a><a class=\"ci\" href=\"/a/language.php?l=es_LA&amp;lref=https%3A%2F%2Fm.facebook.com%2F%3Fzero_e%3D6%26zero_et%3D1581441669%26refsrc%3Dhttps%253A%252F%252F0.facebook.com%252F&amp;index=3&amp;sref=legacy_mbasic_footer&amp;gfid=AQCIboLU0YhMT-j1&amp;ref_component=mbasic_footer&amp;ref_page=%2Fwap%2Findex.php&amp;refid=8\">Espa\\xf1ol</a><a class=\"ci\" href=\"/language.php?n=https%3A%2F%2Fm.facebook.com%2F%3Fzero_e%3D6%26zero_et%3D1581441669%26refsrc%3Dhttps%253A%252F%252F0.facebook.com%252F&amp;ref_component=mbasic_footer&amp;ref_page=%2Fwap%2Findex.php&amp;refid=8\"><div class=\"ck\"> + </div></a></td></tr></tbody></table></div><span class=\"bh cl cm\">Facebook Inc.</span></div></div></div></div></body>,\n",
       " <b class=\"ch\">English (UK)</b>]"
      ]
     },
     "execution_count": 57,
     "metadata": {},
     "output_type": "execute_result"
    }
   ],
   "source": [
    "import re\n",
    "\n",
    "soup.find_all(re.compile('^b'))   # Returns list of tags whose name starts with 'b'\n",
    "                                  # e.g. 'b', or 'body'"
   ]
  },
  {
   "cell_type": "markdown",
   "metadata": {},
   "source": [
    "#### Find tag using custom function\n",
    "You can put a custom function with a tag as arguement inside find_all(). Then find_all() will return a list of all tags that return true for the custom function "
   ]
  },
  {
   "cell_type": "code",
   "execution_count": 58,
   "metadata": {},
   "outputs": [
    {
     "data": {
      "text/plain": [
       "[<meta content=\"default\" id=\"meta_referrer\" name=\"referrer\"/>,\n",
       " <div id=\"viewport\"><div class=\"g h\" id=\"header\"><table cellpadding=\"0\" cellspacing=\"0\" class=\"i\"><tbody><tr><td valign=\"middle\"><h1 style=\"display:block;height:0;overflow:hidden;position:absolute;width:0;padding:0\">Facebook</h1><img alt=\"facebook\" class=\"j\" height=\"16\" src=\"https://static.xx.fbcdn.net/rsrc.php/v3/y8/r/k97pj8-or6s.png\" width=\"77\"/></td><td class=\"k\" valign=\"middle\"><a class=\"l m n o p q\" href=\"/reg/?cid=102&amp;refid=8\"><span class=\"s\">Create Account</span></a></td></tr></tbody></table></div><div id=\"objects_container\"><div class=\"e\" id=\"root\"><table class=\"t\"><tbody><tr><td class=\"u\"><div class=\"v w x\" id=\"login_error\" style=\"display: none;\"><div class=\"y\"></div></div><div class=\"z ba\"><div id=\"login_top_banner\"></div><div class=\"bb\"><form action=\"/login/device-based/regular/login/?refsrc=https%3A%2F%2F0.facebook.com%2F&amp;lwv=100&amp;refid=8\" class=\"bc bd\" id=\"login_form\" method=\"post\" novalidate=\"1\"><input autocomplete=\"off\" name=\"lsd\" type=\"hidden\" value=\"AVoB7ote\"/><input autocomplete=\"off\" name=\"jazoest\" type=\"hidden\" value=\"2711\"/><input name=\"m_ts\" type=\"hidden\" value=\"1581441609\"/><input name=\"li\" type=\"hidden\" value=\"SeJCXoM6n5yMQMdE6mofS0DQ\"/><input name=\"try_number\" type=\"hidden\" value=\"0\"/><input name=\"unrecognized_tries\" type=\"hidden\" value=\"0\"/><ul class=\"be bf bg\"><li class=\"bf\"><span class=\"bh bi\" id=\"u_0_0\">Phone number or email address</span><input autocapitalize=\"off\" autocomplete=\"on\" autocorrect=\"off\" class=\"bj bk bl\" id=\"m_login_email\" name=\"email\" type=\"text\"/></li><li class=\"bf\"><div><span class=\"bh bi\" id=\"u_0_1\">Password</span><input autocapitalize=\"off\" autocomplete=\"on\" autocorrect=\"off\" class=\"bj bk bm bn\" name=\"pass\" type=\"password\"/></div></li><li class=\"bf\"><input class=\"l q m bo bp bq\" name=\"login\" type=\"submit\" value=\"Log In\"/></li></ul><div><div class=\"br\"><span class=\"bs\">or</span></div><div class=\"bt bu\"><div class=\"bt bv bw\" id=\"signup-button\" tabindex=\"0\"><input class=\"l q m bx bp by\" name=\"sign_up\" type=\"submit\" value=\"Create New Account\"/></div></div></div><div></div><noscript><input name=\"_fb_noscript\" type=\"hidden\" value=\"true\"/></noscript></form><div class=\"bz ca\"><span class=\"cb cc\"><ul class=\"be cd\"><li class=\"bf\"><a href=\"/recover/initiate/?c=https%3A%2F%2Fm.facebook.com%2F%3Fzero_e%3D6%26zero_et%3D1581441669%26refsrc%3Dhttps%253A%252F%252F0.facebook.com%252F&amp;r&amp;cuid&amp;ars=facebook_login&amp;lwv=100&amp;refid=8\" id=\"forgot-password-link\" tabindex=\"0\">Forgotten password?</a></li><li class=\"bf\"></li><li class=\"bf\"></li></ul></span></div></div></div></td></tr></tbody></table><div style=\"display:none\"></div><span><img height=\"0\" src=\"https://facebook.com/security/hsts-pixel.gif?c=3.2\" style=\"display:none\" width=\"0\"/></span></div></div><div><div class=\"ce\"><div class=\"cf\"><table class=\"t\"><tbody><tr><td class=\"u cg\" style=\"width:50%\"><b class=\"ch\">English (UK)</b><a class=\"ci\" href=\"/a/language.php?l=as_IN&amp;lref=https%3A%2F%2Fm.facebook.com%2F%3Fzero_e%3D6%26zero_et%3D1581441669%26refsrc%3Dhttps%253A%252F%252F0.facebook.com%252F&amp;index=2&amp;sref=legacy_mbasic_footer&amp;gfid=AQBOoS6Z1friG7g2&amp;ref_component=mbasic_footer&amp;ref_page=%2Fwap%2Findex.php&amp;refid=8\">\\u0985\\u09b8\\u09ae\\u09c0\\u09af\\u09bc\\u09be</a><a class=\"ci\" href=\"/a/language.php?l=pt_BR&amp;lref=https%3A%2F%2Fm.facebook.com%2F%3Fzero_e%3D6%26zero_et%3D1581441669%26refsrc%3Dhttps%253A%252F%252F0.facebook.com%252F&amp;index=4&amp;sref=legacy_mbasic_footer&amp;gfid=AQDK3Eh9WdQjDzE1&amp;ref_component=mbasic_footer&amp;ref_page=%2Fwap%2Findex.php&amp;refid=8\">Portugu\\xeas (Brasil)</a></td><td class=\"u cj\" style=\"width:50%\"><a class=\"ci\" href=\"/a/language.php?l=bn_IN&amp;lref=https%3A%2F%2Fm.facebook.com%2F%3Fzero_e%3D6%26zero_et%3D1581441669%26refsrc%3Dhttps%253A%252F%252F0.facebook.com%252F&amp;index=1&amp;sref=legacy_mbasic_footer&amp;gfid=AQAkXMDY-j913gyY&amp;ref_component=mbasic_footer&amp;ref_page=%2Fwap%2Findex.php&amp;refid=8\">\\u09ac\\u09be\\u0982\\u09b2\\u09be</a><a class=\"ci\" href=\"/a/language.php?l=es_LA&amp;lref=https%3A%2F%2Fm.facebook.com%2F%3Fzero_e%3D6%26zero_et%3D1581441669%26refsrc%3Dhttps%253A%252F%252F0.facebook.com%252F&amp;index=3&amp;sref=legacy_mbasic_footer&amp;gfid=AQCIboLU0YhMT-j1&amp;ref_component=mbasic_footer&amp;ref_page=%2Fwap%2Findex.php&amp;refid=8\">Espa\\xf1ol</a><a class=\"ci\" href=\"/language.php?n=https%3A%2F%2Fm.facebook.com%2F%3Fzero_e%3D6%26zero_et%3D1581441669%26refsrc%3Dhttps%253A%252F%252F0.facebook.com%252F&amp;ref_component=mbasic_footer&amp;ref_page=%2Fwap%2Findex.php&amp;refid=8\"><div class=\"ck\"> + </div></a></td></tr></tbody></table></div><span class=\"bh cl cm\">Facebook Inc.</span></div></div></div>,\n",
       " <div id=\"objects_container\"><div class=\"e\" id=\"root\"><table class=\"t\"><tbody><tr><td class=\"u\"><div class=\"v w x\" id=\"login_error\" style=\"display: none;\"><div class=\"y\"></div></div><div class=\"z ba\"><div id=\"login_top_banner\"></div><div class=\"bb\"><form action=\"/login/device-based/regular/login/?refsrc=https%3A%2F%2F0.facebook.com%2F&amp;lwv=100&amp;refid=8\" class=\"bc bd\" id=\"login_form\" method=\"post\" novalidate=\"1\"><input autocomplete=\"off\" name=\"lsd\" type=\"hidden\" value=\"AVoB7ote\"/><input autocomplete=\"off\" name=\"jazoest\" type=\"hidden\" value=\"2711\"/><input name=\"m_ts\" type=\"hidden\" value=\"1581441609\"/><input name=\"li\" type=\"hidden\" value=\"SeJCXoM6n5yMQMdE6mofS0DQ\"/><input name=\"try_number\" type=\"hidden\" value=\"0\"/><input name=\"unrecognized_tries\" type=\"hidden\" value=\"0\"/><ul class=\"be bf bg\"><li class=\"bf\"><span class=\"bh bi\" id=\"u_0_0\">Phone number or email address</span><input autocapitalize=\"off\" autocomplete=\"on\" autocorrect=\"off\" class=\"bj bk bl\" id=\"m_login_email\" name=\"email\" type=\"text\"/></li><li class=\"bf\"><div><span class=\"bh bi\" id=\"u_0_1\">Password</span><input autocapitalize=\"off\" autocomplete=\"on\" autocorrect=\"off\" class=\"bj bk bm bn\" name=\"pass\" type=\"password\"/></div></li><li class=\"bf\"><input class=\"l q m bo bp bq\" name=\"login\" type=\"submit\" value=\"Log In\"/></li></ul><div><div class=\"br\"><span class=\"bs\">or</span></div><div class=\"bt bu\"><div class=\"bt bv bw\" id=\"signup-button\" tabindex=\"0\"><input class=\"l q m bx bp by\" name=\"sign_up\" type=\"submit\" value=\"Create New Account\"/></div></div></div><div></div><noscript><input name=\"_fb_noscript\" type=\"hidden\" value=\"true\"/></noscript></form><div class=\"bz ca\"><span class=\"cb cc\"><ul class=\"be cd\"><li class=\"bf\"><a href=\"/recover/initiate/?c=https%3A%2F%2Fm.facebook.com%2F%3Fzero_e%3D6%26zero_et%3D1581441669%26refsrc%3Dhttps%253A%252F%252F0.facebook.com%252F&amp;r&amp;cuid&amp;ars=facebook_login&amp;lwv=100&amp;refid=8\" id=\"forgot-password-link\" tabindex=\"0\">Forgotten password?</a></li><li class=\"bf\"></li><li class=\"bf\"></li></ul></span></div></div></div></td></tr></tbody></table><div style=\"display:none\"></div><span><img height=\"0\" src=\"https://facebook.com/security/hsts-pixel.gif?c=3.2\" style=\"display:none\" width=\"0\"/></span></div></div>,\n",
       " <div id=\"login_top_banner\"></div>,\n",
       " <a href=\"/recover/initiate/?c=https%3A%2F%2Fm.facebook.com%2F%3Fzero_e%3D6%26zero_et%3D1581441669%26refsrc%3Dhttps%253A%252F%252F0.facebook.com%252F&amp;r&amp;cuid&amp;ars=facebook_login&amp;lwv=100&amp;refid=8\" id=\"forgot-password-link\" tabindex=\"0\">Forgotten password?</a>]"
      ]
     },
     "execution_count": 58,
     "metadata": {},
     "output_type": "execute_result"
    }
   ],
   "source": [
    "soup.find_all(lambda tag: tag.has_attr('id') and not tag.has_attr('class'))"
   ]
  },
  {
   "cell_type": "markdown",
   "metadata": {},
   "source": [
    "If you put True in the body of find_all() it will return all tags in the BeautifulSoup object"
   ]
  },
  {
   "cell_type": "code",
   "execution_count": 59,
   "metadata": {},
   "outputs": [
    {
     "data": {
      "text/plain": [
       "[<html xmlns=\"http://www.w3.org/1999/xhtml\"><head><title>Facebook \\u2013 log in or sign up</title><meta content=\"default\" id=\"meta_referrer\" name=\"referrer\"/><style type=\"text/css\">/*<![CDATA[*/.s{pointer-events:none;}.w{padding:8px;}.ca{padding-bottom:12px;padding-top:12px;}.bz{padding-left:4px;padding-right:4px;}.bu{padding-left:8px;padding-right:8px;}.b .bw{display:block;width:auto;}.b .bw .bx,.b .bw .bx:hover{background-color:#42b72a;color:#fff;height:44px;}.b .br{display:block;margin-bottom:5px;margin-left:3%;margin-top:-3px;overflow:hidden;text-align:center;white-space:nowrap;width:94%;}.b .br>span{display:inline-block;position:relative;}.b .br>span:before,.b .br>span:after{background:#ccd0d5;content:\"\";height:1px;position:absolute;top:50%;width:9999px;}.b .br>span:before{margin-right:15px;right:100%;}.b .br>span:after{left:100%;margin-left:15px;}.b .bs{color:#4b4f56;font-size:14px;}.b .bl{border:solid 1px #999;box-sizing:border-box;width:100%;}.b .t{border:0;border-collapse:collapse;margin:0;padding:0;width:100%;}.b .t tbody{vertical-align:top;}.b .t td{padding:0;}.b .t td.bf{padding:4px;}.b .u{width:100%;}.v{background:#fa3e3e;}.x{color:#fff;}.b .x a,.b .x a:visited{color:#fff;font-weight:bold;}.b .x a:focus,.b .x a:hover{background:#1d2129;}.cc{color:#4b4f56;}.y{font-size:12px;line-height:16px;}.cb{font-size:16px;line-height:20px;}.q{font-weight:normal;}.bh{font-weight:bold;}.bt{text-align:center;}form{margin:0;border:0;}.be{margin:0;}.be li{display:block;list-style:none;}.b .cd{padding:0;}.b .bf{padding:4px;}.b .bi{color:#8d949e;display:block;font-weight:bold;}.b .bk{padding:12px 8px;color:#1c1e21;}.bj{border:0;display:block;margin:0;padding:0;}.bm{box-sizing:border-box;width:100%;}.b .bn{border:solid 1px #999;}.m{appearance:none;background:none;display:inline-block;font-size:12px;height:28px;line-height:28px;margin:0;overflow:visible;padding:0 9px;text-align:center;vertical-align:top;white-space:nowrap;}.b .m{border-radius:2px;}.by,a.by,.b a.by,.b a.by:visited{background-color:#f5f6f7;color:#4b4f56;}.b a.by:hover,.b .by:hover{background-color:#ebedf0;color:#4b4f56;}.b .by{border:1px solid #bec3c9;}.by[disabled]{color:#bec3c9;}.b .by[disabled]:hover{background-color:#f5f6f7;color:#bec3c9;}.bq,.p,a.bq,a.p,html .b a.bq,html .b a.p{color:#fff;}.b .p{background-color:#4080ff;border:1px solid #4476e8;}.b a.p:hover,.b .p:hover{background-color:#4580ef;}.b .bq{background-color:#4267b2;border:1px solid #365899;}.b a.bq:hover,.b .bq:hover{background-color:#465e91;}.bq[disabled]{color:#899bc1;}.p[disabled]{color:#91b4fd;}.b .bq[disabled]:hover{background-color:#4267b2;}.b .p[disabled]:hover{background-color:#4080ff;}.bp{font-size:14px;height:44px;line-height:44px;padding:0 20px;}.m .s{display:inline-block;}.b .m .s{display:inline-block;margin-top:0;vertical-align:middle;}.b a.m::after{content:\"\";display:inline-block;height:100%;vertical-align:middle;}.m .s{line-height:20px;margin-top:4px;}.bp .s{line-height:24px;margin-top:10px;}.m.bo{display:block;width:100%;}a.m.bo,.b label.m.bo{display:block;width:auto;}.b .m{padding:0 8px;}.b a.m{height:26px;line-height:26px;}.b .bp{padding:0 19px;}.b a.bp{font-size:14px;height:42px;line-height:42px;}.b a,.b a:visited{color:#3b5998;text-decoration:none;}.b a:focus,.b a:hover{background-color:#3b5998;color:#fff;}body{text-align:left;direction:ltr;}body,tr,input,textarea,button{font-family:sans-serif;}body,p,figure,h1,h2,h3,h4,h5,h6,ul,ol,li,dl,dd,dt{margin:0;padding:0;}h1,h2,h3,h4,h5,h6{font-size:1em;font-weight:bold;}ul,ol{list-style:none;}article,aside,figcaption,figure,footer,header,nav,section{display:block;}.e{background-color:#fff;}.g{background-color:#3b5998;}.z{background-color:#eceff5;}#page{position:relative;}.b .n span{font-size:14px;}.b a.o,.b a.o:hover{background-color:#69a74e;color:#fff;}.h{padding:2px 3px;}.i{width:100%;}.i .k{text-align:right;}.ci{display:block;font-size:x-small;margin:-3px -3px 1px -3px;padding:3px;}.ck{border:1px solid #90949c;display:block;font-size:x-large;height:20px;line-height:18px;text-align:center;vertical-align:middle;width:20px;}.b .cf input,.b .cf input:visited,.b .cf a,.b .cf a:visited{color:#bec3c9;}.b .cf input:focus,.b .cf input:hover,.b .cf a:focus,.b .cf a:hover{background:#dadde1;color:#1d2129;}.ce{background-color:#444950;font-size:x-small;padding:7px 8px 8px;}.ch{color:#bec3c9;display:block;font-size:x-small;margin:-3px -3px 1px -3px;padding:3px;}.cm{color:#fff;}body,tr,input,textarea,.f{font-size:medium;}.j{border:0;display:inline-block;vertical-align:top;}i.j u{position:absolute;width:0;height:0;overflow:hidden;}/*]]>*/</style><meta content=\"Create an account or log in to Facebook. Connect with friends, family and other people you know. Share photos and videos, send messages and get updates.\" name=\"description\"/><link href=\"https://www.facebook.com/\" rel=\"canonical\"/></head><body class=\"b c d e\" tabindex=\"0\"><div class=\"f\"><div id=\"viewport\"><div class=\"g h\" id=\"header\"><table cellpadding=\"0\" cellspacing=\"0\" class=\"i\"><tbody><tr><td valign=\"middle\"><h1 style=\"display:block;height:0;overflow:hidden;position:absolute;width:0;padding:0\">Facebook</h1><img alt=\"facebook\" class=\"j\" height=\"16\" src=\"https://static.xx.fbcdn.net/rsrc.php/v3/y8/r/k97pj8-or6s.png\" width=\"77\"/></td><td class=\"k\" valign=\"middle\"><a class=\"l m n o p q\" href=\"/reg/?cid=102&amp;refid=8\"><span class=\"s\">Create Account</span></a></td></tr></tbody></table></div><div id=\"objects_container\"><div class=\"e\" id=\"root\"><table class=\"t\"><tbody><tr><td class=\"u\"><div class=\"v w x\" id=\"login_error\" style=\"display: none;\"><div class=\"y\"></div></div><div class=\"z ba\"><div id=\"login_top_banner\"></div><div class=\"bb\"><form action=\"/login/device-based/regular/login/?refsrc=https%3A%2F%2F0.facebook.com%2F&amp;lwv=100&amp;refid=8\" class=\"bc bd\" id=\"login_form\" method=\"post\" novalidate=\"1\"><input autocomplete=\"off\" name=\"lsd\" type=\"hidden\" value=\"AVoB7ote\"/><input autocomplete=\"off\" name=\"jazoest\" type=\"hidden\" value=\"2711\"/><input name=\"m_ts\" type=\"hidden\" value=\"1581441609\"/><input name=\"li\" type=\"hidden\" value=\"SeJCXoM6n5yMQMdE6mofS0DQ\"/><input name=\"try_number\" type=\"hidden\" value=\"0\"/><input name=\"unrecognized_tries\" type=\"hidden\" value=\"0\"/><ul class=\"be bf bg\"><li class=\"bf\"><span class=\"bh bi\" id=\"u_0_0\">Phone number or email address</span><input autocapitalize=\"off\" autocomplete=\"on\" autocorrect=\"off\" class=\"bj bk bl\" id=\"m_login_email\" name=\"email\" type=\"text\"/></li><li class=\"bf\"><div><span class=\"bh bi\" id=\"u_0_1\">Password</span><input autocapitalize=\"off\" autocomplete=\"on\" autocorrect=\"off\" class=\"bj bk bm bn\" name=\"pass\" type=\"password\"/></div></li><li class=\"bf\"><input class=\"l q m bo bp bq\" name=\"login\" type=\"submit\" value=\"Log In\"/></li></ul><div><div class=\"br\"><span class=\"bs\">or</span></div><div class=\"bt bu\"><div class=\"bt bv bw\" id=\"signup-button\" tabindex=\"0\"><input class=\"l q m bx bp by\" name=\"sign_up\" type=\"submit\" value=\"Create New Account\"/></div></div></div><div></div><noscript><input name=\"_fb_noscript\" type=\"hidden\" value=\"true\"/></noscript></form><div class=\"bz ca\"><span class=\"cb cc\"><ul class=\"be cd\"><li class=\"bf\"><a href=\"/recover/initiate/?c=https%3A%2F%2Fm.facebook.com%2F%3Fzero_e%3D6%26zero_et%3D1581441669%26refsrc%3Dhttps%253A%252F%252F0.facebook.com%252F&amp;r&amp;cuid&amp;ars=facebook_login&amp;lwv=100&amp;refid=8\" id=\"forgot-password-link\" tabindex=\"0\">Forgotten password?</a></li><li class=\"bf\"></li><li class=\"bf\"></li></ul></span></div></div></div></td></tr></tbody></table><div style=\"display:none\"></div><span><img height=\"0\" src=\"https://facebook.com/security/hsts-pixel.gif?c=3.2\" style=\"display:none\" width=\"0\"/></span></div></div><div><div class=\"ce\"><div class=\"cf\"><table class=\"t\"><tbody><tr><td class=\"u cg\" style=\"width:50%\"><b class=\"ch\">English (UK)</b><a class=\"ci\" href=\"/a/language.php?l=as_IN&amp;lref=https%3A%2F%2Fm.facebook.com%2F%3Fzero_e%3D6%26zero_et%3D1581441669%26refsrc%3Dhttps%253A%252F%252F0.facebook.com%252F&amp;index=2&amp;sref=legacy_mbasic_footer&amp;gfid=AQBOoS6Z1friG7g2&amp;ref_component=mbasic_footer&amp;ref_page=%2Fwap%2Findex.php&amp;refid=8\">\\u0985\\u09b8\\u09ae\\u09c0\\u09af\\u09bc\\u09be</a><a class=\"ci\" href=\"/a/language.php?l=pt_BR&amp;lref=https%3A%2F%2Fm.facebook.com%2F%3Fzero_e%3D6%26zero_et%3D1581441669%26refsrc%3Dhttps%253A%252F%252F0.facebook.com%252F&amp;index=4&amp;sref=legacy_mbasic_footer&amp;gfid=AQDK3Eh9WdQjDzE1&amp;ref_component=mbasic_footer&amp;ref_page=%2Fwap%2Findex.php&amp;refid=8\">Portugu\\xeas (Brasil)</a></td><td class=\"u cj\" style=\"width:50%\"><a class=\"ci\" href=\"/a/language.php?l=bn_IN&amp;lref=https%3A%2F%2Fm.facebook.com%2F%3Fzero_e%3D6%26zero_et%3D1581441669%26refsrc%3Dhttps%253A%252F%252F0.facebook.com%252F&amp;index=1&amp;sref=legacy_mbasic_footer&amp;gfid=AQAkXMDY-j913gyY&amp;ref_component=mbasic_footer&amp;ref_page=%2Fwap%2Findex.php&amp;refid=8\">\\u09ac\\u09be\\u0982\\u09b2\\u09be</a><a class=\"ci\" href=\"/a/language.php?l=es_LA&amp;lref=https%3A%2F%2Fm.facebook.com%2F%3Fzero_e%3D6%26zero_et%3D1581441669%26refsrc%3Dhttps%253A%252F%252F0.facebook.com%252F&amp;index=3&amp;sref=legacy_mbasic_footer&amp;gfid=AQCIboLU0YhMT-j1&amp;ref_component=mbasic_footer&amp;ref_page=%2Fwap%2Findex.php&amp;refid=8\">Espa\\xf1ol</a><a class=\"ci\" href=\"/language.php?n=https%3A%2F%2Fm.facebook.com%2F%3Fzero_e%3D6%26zero_et%3D1581441669%26refsrc%3Dhttps%253A%252F%252F0.facebook.com%252F&amp;ref_component=mbasic_footer&amp;ref_page=%2Fwap%2Findex.php&amp;refid=8\"><div class=\"ck\"> + </div></a></td></tr></tbody></table></div><span class=\"bh cl cm\">Facebook Inc.</span></div></div></div></div></body></html>,\n",
       " <head><title>Facebook \\u2013 log in or sign up</title><meta content=\"default\" id=\"meta_referrer\" name=\"referrer\"/><style type=\"text/css\">/*<![CDATA[*/.s{pointer-events:none;}.w{padding:8px;}.ca{padding-bottom:12px;padding-top:12px;}.bz{padding-left:4px;padding-right:4px;}.bu{padding-left:8px;padding-right:8px;}.b .bw{display:block;width:auto;}.b .bw .bx,.b .bw .bx:hover{background-color:#42b72a;color:#fff;height:44px;}.b .br{display:block;margin-bottom:5px;margin-left:3%;margin-top:-3px;overflow:hidden;text-align:center;white-space:nowrap;width:94%;}.b .br>span{display:inline-block;position:relative;}.b .br>span:before,.b .br>span:after{background:#ccd0d5;content:\"\";height:1px;position:absolute;top:50%;width:9999px;}.b .br>span:before{margin-right:15px;right:100%;}.b .br>span:after{left:100%;margin-left:15px;}.b .bs{color:#4b4f56;font-size:14px;}.b .bl{border:solid 1px #999;box-sizing:border-box;width:100%;}.b .t{border:0;border-collapse:collapse;margin:0;padding:0;width:100%;}.b .t tbody{vertical-align:top;}.b .t td{padding:0;}.b .t td.bf{padding:4px;}.b .u{width:100%;}.v{background:#fa3e3e;}.x{color:#fff;}.b .x a,.b .x a:visited{color:#fff;font-weight:bold;}.b .x a:focus,.b .x a:hover{background:#1d2129;}.cc{color:#4b4f56;}.y{font-size:12px;line-height:16px;}.cb{font-size:16px;line-height:20px;}.q{font-weight:normal;}.bh{font-weight:bold;}.bt{text-align:center;}form{margin:0;border:0;}.be{margin:0;}.be li{display:block;list-style:none;}.b .cd{padding:0;}.b .bf{padding:4px;}.b .bi{color:#8d949e;display:block;font-weight:bold;}.b .bk{padding:12px 8px;color:#1c1e21;}.bj{border:0;display:block;margin:0;padding:0;}.bm{box-sizing:border-box;width:100%;}.b .bn{border:solid 1px #999;}.m{appearance:none;background:none;display:inline-block;font-size:12px;height:28px;line-height:28px;margin:0;overflow:visible;padding:0 9px;text-align:center;vertical-align:top;white-space:nowrap;}.b .m{border-radius:2px;}.by,a.by,.b a.by,.b a.by:visited{background-color:#f5f6f7;color:#4b4f56;}.b a.by:hover,.b .by:hover{background-color:#ebedf0;color:#4b4f56;}.b .by{border:1px solid #bec3c9;}.by[disabled]{color:#bec3c9;}.b .by[disabled]:hover{background-color:#f5f6f7;color:#bec3c9;}.bq,.p,a.bq,a.p,html .b a.bq,html .b a.p{color:#fff;}.b .p{background-color:#4080ff;border:1px solid #4476e8;}.b a.p:hover,.b .p:hover{background-color:#4580ef;}.b .bq{background-color:#4267b2;border:1px solid #365899;}.b a.bq:hover,.b .bq:hover{background-color:#465e91;}.bq[disabled]{color:#899bc1;}.p[disabled]{color:#91b4fd;}.b .bq[disabled]:hover{background-color:#4267b2;}.b .p[disabled]:hover{background-color:#4080ff;}.bp{font-size:14px;height:44px;line-height:44px;padding:0 20px;}.m .s{display:inline-block;}.b .m .s{display:inline-block;margin-top:0;vertical-align:middle;}.b a.m::after{content:\"\";display:inline-block;height:100%;vertical-align:middle;}.m .s{line-height:20px;margin-top:4px;}.bp .s{line-height:24px;margin-top:10px;}.m.bo{display:block;width:100%;}a.m.bo,.b label.m.bo{display:block;width:auto;}.b .m{padding:0 8px;}.b a.m{height:26px;line-height:26px;}.b .bp{padding:0 19px;}.b a.bp{font-size:14px;height:42px;line-height:42px;}.b a,.b a:visited{color:#3b5998;text-decoration:none;}.b a:focus,.b a:hover{background-color:#3b5998;color:#fff;}body{text-align:left;direction:ltr;}body,tr,input,textarea,button{font-family:sans-serif;}body,p,figure,h1,h2,h3,h4,h5,h6,ul,ol,li,dl,dd,dt{margin:0;padding:0;}h1,h2,h3,h4,h5,h6{font-size:1em;font-weight:bold;}ul,ol{list-style:none;}article,aside,figcaption,figure,footer,header,nav,section{display:block;}.e{background-color:#fff;}.g{background-color:#3b5998;}.z{background-color:#eceff5;}#page{position:relative;}.b .n span{font-size:14px;}.b a.o,.b a.o:hover{background-color:#69a74e;color:#fff;}.h{padding:2px 3px;}.i{width:100%;}.i .k{text-align:right;}.ci{display:block;font-size:x-small;margin:-3px -3px 1px -3px;padding:3px;}.ck{border:1px solid #90949c;display:block;font-size:x-large;height:20px;line-height:18px;text-align:center;vertical-align:middle;width:20px;}.b .cf input,.b .cf input:visited,.b .cf a,.b .cf a:visited{color:#bec3c9;}.b .cf input:focus,.b .cf input:hover,.b .cf a:focus,.b .cf a:hover{background:#dadde1;color:#1d2129;}.ce{background-color:#444950;font-size:x-small;padding:7px 8px 8px;}.ch{color:#bec3c9;display:block;font-size:x-small;margin:-3px -3px 1px -3px;padding:3px;}.cm{color:#fff;}body,tr,input,textarea,.f{font-size:medium;}.j{border:0;display:inline-block;vertical-align:top;}i.j u{position:absolute;width:0;height:0;overflow:hidden;}/*]]>*/</style><meta content=\"Create an account or log in to Facebook. Connect with friends, family and other people you know. Share photos and videos, send messages and get updates.\" name=\"description\"/><link href=\"https://www.facebook.com/\" rel=\"canonical\"/></head>,\n",
       " <title>Facebook \\u2013 log in or sign up</title>,\n",
       " <meta content=\"default\" id=\"meta_referrer\" name=\"referrer\"/>,\n",
       " <style type=\"text/css\">/*<![CDATA[*/.s{pointer-events:none;}.w{padding:8px;}.ca{padding-bottom:12px;padding-top:12px;}.bz{padding-left:4px;padding-right:4px;}.bu{padding-left:8px;padding-right:8px;}.b .bw{display:block;width:auto;}.b .bw .bx,.b .bw .bx:hover{background-color:#42b72a;color:#fff;height:44px;}.b .br{display:block;margin-bottom:5px;margin-left:3%;margin-top:-3px;overflow:hidden;text-align:center;white-space:nowrap;width:94%;}.b .br>span{display:inline-block;position:relative;}.b .br>span:before,.b .br>span:after{background:#ccd0d5;content:\"\";height:1px;position:absolute;top:50%;width:9999px;}.b .br>span:before{margin-right:15px;right:100%;}.b .br>span:after{left:100%;margin-left:15px;}.b .bs{color:#4b4f56;font-size:14px;}.b .bl{border:solid 1px #999;box-sizing:border-box;width:100%;}.b .t{border:0;border-collapse:collapse;margin:0;padding:0;width:100%;}.b .t tbody{vertical-align:top;}.b .t td{padding:0;}.b .t td.bf{padding:4px;}.b .u{width:100%;}.v{background:#fa3e3e;}.x{color:#fff;}.b .x a,.b .x a:visited{color:#fff;font-weight:bold;}.b .x a:focus,.b .x a:hover{background:#1d2129;}.cc{color:#4b4f56;}.y{font-size:12px;line-height:16px;}.cb{font-size:16px;line-height:20px;}.q{font-weight:normal;}.bh{font-weight:bold;}.bt{text-align:center;}form{margin:0;border:0;}.be{margin:0;}.be li{display:block;list-style:none;}.b .cd{padding:0;}.b .bf{padding:4px;}.b .bi{color:#8d949e;display:block;font-weight:bold;}.b .bk{padding:12px 8px;color:#1c1e21;}.bj{border:0;display:block;margin:0;padding:0;}.bm{box-sizing:border-box;width:100%;}.b .bn{border:solid 1px #999;}.m{appearance:none;background:none;display:inline-block;font-size:12px;height:28px;line-height:28px;margin:0;overflow:visible;padding:0 9px;text-align:center;vertical-align:top;white-space:nowrap;}.b .m{border-radius:2px;}.by,a.by,.b a.by,.b a.by:visited{background-color:#f5f6f7;color:#4b4f56;}.b a.by:hover,.b .by:hover{background-color:#ebedf0;color:#4b4f56;}.b .by{border:1px solid #bec3c9;}.by[disabled]{color:#bec3c9;}.b .by[disabled]:hover{background-color:#f5f6f7;color:#bec3c9;}.bq,.p,a.bq,a.p,html .b a.bq,html .b a.p{color:#fff;}.b .p{background-color:#4080ff;border:1px solid #4476e8;}.b a.p:hover,.b .p:hover{background-color:#4580ef;}.b .bq{background-color:#4267b2;border:1px solid #365899;}.b a.bq:hover,.b .bq:hover{background-color:#465e91;}.bq[disabled]{color:#899bc1;}.p[disabled]{color:#91b4fd;}.b .bq[disabled]:hover{background-color:#4267b2;}.b .p[disabled]:hover{background-color:#4080ff;}.bp{font-size:14px;height:44px;line-height:44px;padding:0 20px;}.m .s{display:inline-block;}.b .m .s{display:inline-block;margin-top:0;vertical-align:middle;}.b a.m::after{content:\"\";display:inline-block;height:100%;vertical-align:middle;}.m .s{line-height:20px;margin-top:4px;}.bp .s{line-height:24px;margin-top:10px;}.m.bo{display:block;width:100%;}a.m.bo,.b label.m.bo{display:block;width:auto;}.b .m{padding:0 8px;}.b a.m{height:26px;line-height:26px;}.b .bp{padding:0 19px;}.b a.bp{font-size:14px;height:42px;line-height:42px;}.b a,.b a:visited{color:#3b5998;text-decoration:none;}.b a:focus,.b a:hover{background-color:#3b5998;color:#fff;}body{text-align:left;direction:ltr;}body,tr,input,textarea,button{font-family:sans-serif;}body,p,figure,h1,h2,h3,h4,h5,h6,ul,ol,li,dl,dd,dt{margin:0;padding:0;}h1,h2,h3,h4,h5,h6{font-size:1em;font-weight:bold;}ul,ol{list-style:none;}article,aside,figcaption,figure,footer,header,nav,section{display:block;}.e{background-color:#fff;}.g{background-color:#3b5998;}.z{background-color:#eceff5;}#page{position:relative;}.b .n span{font-size:14px;}.b a.o,.b a.o:hover{background-color:#69a74e;color:#fff;}.h{padding:2px 3px;}.i{width:100%;}.i .k{text-align:right;}.ci{display:block;font-size:x-small;margin:-3px -3px 1px -3px;padding:3px;}.ck{border:1px solid #90949c;display:block;font-size:x-large;height:20px;line-height:18px;text-align:center;vertical-align:middle;width:20px;}.b .cf input,.b .cf input:visited,.b .cf a,.b .cf a:visited{color:#bec3c9;}.b .cf input:focus,.b .cf input:hover,.b .cf a:focus,.b .cf a:hover{background:#dadde1;color:#1d2129;}.ce{background-color:#444950;font-size:x-small;padding:7px 8px 8px;}.ch{color:#bec3c9;display:block;font-size:x-small;margin:-3px -3px 1px -3px;padding:3px;}.cm{color:#fff;}body,tr,input,textarea,.f{font-size:medium;}.j{border:0;display:inline-block;vertical-align:top;}i.j u{position:absolute;width:0;height:0;overflow:hidden;}/*]]>*/</style>,\n",
       " <meta content=\"Create an account or log in to Facebook. Connect with friends, family and other people you know. Share photos and videos, send messages and get updates.\" name=\"description\"/>,\n",
       " <link href=\"https://www.facebook.com/\" rel=\"canonical\"/>,\n",
       " <body class=\"b c d e\" tabindex=\"0\"><div class=\"f\"><div id=\"viewport\"><div class=\"g h\" id=\"header\"><table cellpadding=\"0\" cellspacing=\"0\" class=\"i\"><tbody><tr><td valign=\"middle\"><h1 style=\"display:block;height:0;overflow:hidden;position:absolute;width:0;padding:0\">Facebook</h1><img alt=\"facebook\" class=\"j\" height=\"16\" src=\"https://static.xx.fbcdn.net/rsrc.php/v3/y8/r/k97pj8-or6s.png\" width=\"77\"/></td><td class=\"k\" valign=\"middle\"><a class=\"l m n o p q\" href=\"/reg/?cid=102&amp;refid=8\"><span class=\"s\">Create Account</span></a></td></tr></tbody></table></div><div id=\"objects_container\"><div class=\"e\" id=\"root\"><table class=\"t\"><tbody><tr><td class=\"u\"><div class=\"v w x\" id=\"login_error\" style=\"display: none;\"><div class=\"y\"></div></div><div class=\"z ba\"><div id=\"login_top_banner\"></div><div class=\"bb\"><form action=\"/login/device-based/regular/login/?refsrc=https%3A%2F%2F0.facebook.com%2F&amp;lwv=100&amp;refid=8\" class=\"bc bd\" id=\"login_form\" method=\"post\" novalidate=\"1\"><input autocomplete=\"off\" name=\"lsd\" type=\"hidden\" value=\"AVoB7ote\"/><input autocomplete=\"off\" name=\"jazoest\" type=\"hidden\" value=\"2711\"/><input name=\"m_ts\" type=\"hidden\" value=\"1581441609\"/><input name=\"li\" type=\"hidden\" value=\"SeJCXoM6n5yMQMdE6mofS0DQ\"/><input name=\"try_number\" type=\"hidden\" value=\"0\"/><input name=\"unrecognized_tries\" type=\"hidden\" value=\"0\"/><ul class=\"be bf bg\"><li class=\"bf\"><span class=\"bh bi\" id=\"u_0_0\">Phone number or email address</span><input autocapitalize=\"off\" autocomplete=\"on\" autocorrect=\"off\" class=\"bj bk bl\" id=\"m_login_email\" name=\"email\" type=\"text\"/></li><li class=\"bf\"><div><span class=\"bh bi\" id=\"u_0_1\">Password</span><input autocapitalize=\"off\" autocomplete=\"on\" autocorrect=\"off\" class=\"bj bk bm bn\" name=\"pass\" type=\"password\"/></div></li><li class=\"bf\"><input class=\"l q m bo bp bq\" name=\"login\" type=\"submit\" value=\"Log In\"/></li></ul><div><div class=\"br\"><span class=\"bs\">or</span></div><div class=\"bt bu\"><div class=\"bt bv bw\" id=\"signup-button\" tabindex=\"0\"><input class=\"l q m bx bp by\" name=\"sign_up\" type=\"submit\" value=\"Create New Account\"/></div></div></div><div></div><noscript><input name=\"_fb_noscript\" type=\"hidden\" value=\"true\"/></noscript></form><div class=\"bz ca\"><span class=\"cb cc\"><ul class=\"be cd\"><li class=\"bf\"><a href=\"/recover/initiate/?c=https%3A%2F%2Fm.facebook.com%2F%3Fzero_e%3D6%26zero_et%3D1581441669%26refsrc%3Dhttps%253A%252F%252F0.facebook.com%252F&amp;r&amp;cuid&amp;ars=facebook_login&amp;lwv=100&amp;refid=8\" id=\"forgot-password-link\" tabindex=\"0\">Forgotten password?</a></li><li class=\"bf\"></li><li class=\"bf\"></li></ul></span></div></div></div></td></tr></tbody></table><div style=\"display:none\"></div><span><img height=\"0\" src=\"https://facebook.com/security/hsts-pixel.gif?c=3.2\" style=\"display:none\" width=\"0\"/></span></div></div><div><div class=\"ce\"><div class=\"cf\"><table class=\"t\"><tbody><tr><td class=\"u cg\" style=\"width:50%\"><b class=\"ch\">English (UK)</b><a class=\"ci\" href=\"/a/language.php?l=as_IN&amp;lref=https%3A%2F%2Fm.facebook.com%2F%3Fzero_e%3D6%26zero_et%3D1581441669%26refsrc%3Dhttps%253A%252F%252F0.facebook.com%252F&amp;index=2&amp;sref=legacy_mbasic_footer&amp;gfid=AQBOoS6Z1friG7g2&amp;ref_component=mbasic_footer&amp;ref_page=%2Fwap%2Findex.php&amp;refid=8\">\\u0985\\u09b8\\u09ae\\u09c0\\u09af\\u09bc\\u09be</a><a class=\"ci\" href=\"/a/language.php?l=pt_BR&amp;lref=https%3A%2F%2Fm.facebook.com%2F%3Fzero_e%3D6%26zero_et%3D1581441669%26refsrc%3Dhttps%253A%252F%252F0.facebook.com%252F&amp;index=4&amp;sref=legacy_mbasic_footer&amp;gfid=AQDK3Eh9WdQjDzE1&amp;ref_component=mbasic_footer&amp;ref_page=%2Fwap%2Findex.php&amp;refid=8\">Portugu\\xeas (Brasil)</a></td><td class=\"u cj\" style=\"width:50%\"><a class=\"ci\" href=\"/a/language.php?l=bn_IN&amp;lref=https%3A%2F%2Fm.facebook.com%2F%3Fzero_e%3D6%26zero_et%3D1581441669%26refsrc%3Dhttps%253A%252F%252F0.facebook.com%252F&amp;index=1&amp;sref=legacy_mbasic_footer&amp;gfid=AQAkXMDY-j913gyY&amp;ref_component=mbasic_footer&amp;ref_page=%2Fwap%2Findex.php&amp;refid=8\">\\u09ac\\u09be\\u0982\\u09b2\\u09be</a><a class=\"ci\" href=\"/a/language.php?l=es_LA&amp;lref=https%3A%2F%2Fm.facebook.com%2F%3Fzero_e%3D6%26zero_et%3D1581441669%26refsrc%3Dhttps%253A%252F%252F0.facebook.com%252F&amp;index=3&amp;sref=legacy_mbasic_footer&amp;gfid=AQCIboLU0YhMT-j1&amp;ref_component=mbasic_footer&amp;ref_page=%2Fwap%2Findex.php&amp;refid=8\">Espa\\xf1ol</a><a class=\"ci\" href=\"/language.php?n=https%3A%2F%2Fm.facebook.com%2F%3Fzero_e%3D6%26zero_et%3D1581441669%26refsrc%3Dhttps%253A%252F%252F0.facebook.com%252F&amp;ref_component=mbasic_footer&amp;ref_page=%2Fwap%2Findex.php&amp;refid=8\"><div class=\"ck\"> + </div></a></td></tr></tbody></table></div><span class=\"bh cl cm\">Facebook Inc.</span></div></div></div></div></body>,\n",
       " <div class=\"f\"><div id=\"viewport\"><div class=\"g h\" id=\"header\"><table cellpadding=\"0\" cellspacing=\"0\" class=\"i\"><tbody><tr><td valign=\"middle\"><h1 style=\"display:block;height:0;overflow:hidden;position:absolute;width:0;padding:0\">Facebook</h1><img alt=\"facebook\" class=\"j\" height=\"16\" src=\"https://static.xx.fbcdn.net/rsrc.php/v3/y8/r/k97pj8-or6s.png\" width=\"77\"/></td><td class=\"k\" valign=\"middle\"><a class=\"l m n o p q\" href=\"/reg/?cid=102&amp;refid=8\"><span class=\"s\">Create Account</span></a></td></tr></tbody></table></div><div id=\"objects_container\"><div class=\"e\" id=\"root\"><table class=\"t\"><tbody><tr><td class=\"u\"><div class=\"v w x\" id=\"login_error\" style=\"display: none;\"><div class=\"y\"></div></div><div class=\"z ba\"><div id=\"login_top_banner\"></div><div class=\"bb\"><form action=\"/login/device-based/regular/login/?refsrc=https%3A%2F%2F0.facebook.com%2F&amp;lwv=100&amp;refid=8\" class=\"bc bd\" id=\"login_form\" method=\"post\" novalidate=\"1\"><input autocomplete=\"off\" name=\"lsd\" type=\"hidden\" value=\"AVoB7ote\"/><input autocomplete=\"off\" name=\"jazoest\" type=\"hidden\" value=\"2711\"/><input name=\"m_ts\" type=\"hidden\" value=\"1581441609\"/><input name=\"li\" type=\"hidden\" value=\"SeJCXoM6n5yMQMdE6mofS0DQ\"/><input name=\"try_number\" type=\"hidden\" value=\"0\"/><input name=\"unrecognized_tries\" type=\"hidden\" value=\"0\"/><ul class=\"be bf bg\"><li class=\"bf\"><span class=\"bh bi\" id=\"u_0_0\">Phone number or email address</span><input autocapitalize=\"off\" autocomplete=\"on\" autocorrect=\"off\" class=\"bj bk bl\" id=\"m_login_email\" name=\"email\" type=\"text\"/></li><li class=\"bf\"><div><span class=\"bh bi\" id=\"u_0_1\">Password</span><input autocapitalize=\"off\" autocomplete=\"on\" autocorrect=\"off\" class=\"bj bk bm bn\" name=\"pass\" type=\"password\"/></div></li><li class=\"bf\"><input class=\"l q m bo bp bq\" name=\"login\" type=\"submit\" value=\"Log In\"/></li></ul><div><div class=\"br\"><span class=\"bs\">or</span></div><div class=\"bt bu\"><div class=\"bt bv bw\" id=\"signup-button\" tabindex=\"0\"><input class=\"l q m bx bp by\" name=\"sign_up\" type=\"submit\" value=\"Create New Account\"/></div></div></div><div></div><noscript><input name=\"_fb_noscript\" type=\"hidden\" value=\"true\"/></noscript></form><div class=\"bz ca\"><span class=\"cb cc\"><ul class=\"be cd\"><li class=\"bf\"><a href=\"/recover/initiate/?c=https%3A%2F%2Fm.facebook.com%2F%3Fzero_e%3D6%26zero_et%3D1581441669%26refsrc%3Dhttps%253A%252F%252F0.facebook.com%252F&amp;r&amp;cuid&amp;ars=facebook_login&amp;lwv=100&amp;refid=8\" id=\"forgot-password-link\" tabindex=\"0\">Forgotten password?</a></li><li class=\"bf\"></li><li class=\"bf\"></li></ul></span></div></div></div></td></tr></tbody></table><div style=\"display:none\"></div><span><img height=\"0\" src=\"https://facebook.com/security/hsts-pixel.gif?c=3.2\" style=\"display:none\" width=\"0\"/></span></div></div><div><div class=\"ce\"><div class=\"cf\"><table class=\"t\"><tbody><tr><td class=\"u cg\" style=\"width:50%\"><b class=\"ch\">English (UK)</b><a class=\"ci\" href=\"/a/language.php?l=as_IN&amp;lref=https%3A%2F%2Fm.facebook.com%2F%3Fzero_e%3D6%26zero_et%3D1581441669%26refsrc%3Dhttps%253A%252F%252F0.facebook.com%252F&amp;index=2&amp;sref=legacy_mbasic_footer&amp;gfid=AQBOoS6Z1friG7g2&amp;ref_component=mbasic_footer&amp;ref_page=%2Fwap%2Findex.php&amp;refid=8\">\\u0985\\u09b8\\u09ae\\u09c0\\u09af\\u09bc\\u09be</a><a class=\"ci\" href=\"/a/language.php?l=pt_BR&amp;lref=https%3A%2F%2Fm.facebook.com%2F%3Fzero_e%3D6%26zero_et%3D1581441669%26refsrc%3Dhttps%253A%252F%252F0.facebook.com%252F&amp;index=4&amp;sref=legacy_mbasic_footer&amp;gfid=AQDK3Eh9WdQjDzE1&amp;ref_component=mbasic_footer&amp;ref_page=%2Fwap%2Findex.php&amp;refid=8\">Portugu\\xeas (Brasil)</a></td><td class=\"u cj\" style=\"width:50%\"><a class=\"ci\" href=\"/a/language.php?l=bn_IN&amp;lref=https%3A%2F%2Fm.facebook.com%2F%3Fzero_e%3D6%26zero_et%3D1581441669%26refsrc%3Dhttps%253A%252F%252F0.facebook.com%252F&amp;index=1&amp;sref=legacy_mbasic_footer&amp;gfid=AQAkXMDY-j913gyY&amp;ref_component=mbasic_footer&amp;ref_page=%2Fwap%2Findex.php&amp;refid=8\">\\u09ac\\u09be\\u0982\\u09b2\\u09be</a><a class=\"ci\" href=\"/a/language.php?l=es_LA&amp;lref=https%3A%2F%2Fm.facebook.com%2F%3Fzero_e%3D6%26zero_et%3D1581441669%26refsrc%3Dhttps%253A%252F%252F0.facebook.com%252F&amp;index=3&amp;sref=legacy_mbasic_footer&amp;gfid=AQCIboLU0YhMT-j1&amp;ref_component=mbasic_footer&amp;ref_page=%2Fwap%2Findex.php&amp;refid=8\">Espa\\xf1ol</a><a class=\"ci\" href=\"/language.php?n=https%3A%2F%2Fm.facebook.com%2F%3Fzero_e%3D6%26zero_et%3D1581441669%26refsrc%3Dhttps%253A%252F%252F0.facebook.com%252F&amp;ref_component=mbasic_footer&amp;ref_page=%2Fwap%2Findex.php&amp;refid=8\"><div class=\"ck\"> + </div></a></td></tr></tbody></table></div><span class=\"bh cl cm\">Facebook Inc.</span></div></div></div></div>,\n",
       " <div id=\"viewport\"><div class=\"g h\" id=\"header\"><table cellpadding=\"0\" cellspacing=\"0\" class=\"i\"><tbody><tr><td valign=\"middle\"><h1 style=\"display:block;height:0;overflow:hidden;position:absolute;width:0;padding:0\">Facebook</h1><img alt=\"facebook\" class=\"j\" height=\"16\" src=\"https://static.xx.fbcdn.net/rsrc.php/v3/y8/r/k97pj8-or6s.png\" width=\"77\"/></td><td class=\"k\" valign=\"middle\"><a class=\"l m n o p q\" href=\"/reg/?cid=102&amp;refid=8\"><span class=\"s\">Create Account</span></a></td></tr></tbody></table></div><div id=\"objects_container\"><div class=\"e\" id=\"root\"><table class=\"t\"><tbody><tr><td class=\"u\"><div class=\"v w x\" id=\"login_error\" style=\"display: none;\"><div class=\"y\"></div></div><div class=\"z ba\"><div id=\"login_top_banner\"></div><div class=\"bb\"><form action=\"/login/device-based/regular/login/?refsrc=https%3A%2F%2F0.facebook.com%2F&amp;lwv=100&amp;refid=8\" class=\"bc bd\" id=\"login_form\" method=\"post\" novalidate=\"1\"><input autocomplete=\"off\" name=\"lsd\" type=\"hidden\" value=\"AVoB7ote\"/><input autocomplete=\"off\" name=\"jazoest\" type=\"hidden\" value=\"2711\"/><input name=\"m_ts\" type=\"hidden\" value=\"1581441609\"/><input name=\"li\" type=\"hidden\" value=\"SeJCXoM6n5yMQMdE6mofS0DQ\"/><input name=\"try_number\" type=\"hidden\" value=\"0\"/><input name=\"unrecognized_tries\" type=\"hidden\" value=\"0\"/><ul class=\"be bf bg\"><li class=\"bf\"><span class=\"bh bi\" id=\"u_0_0\">Phone number or email address</span><input autocapitalize=\"off\" autocomplete=\"on\" autocorrect=\"off\" class=\"bj bk bl\" id=\"m_login_email\" name=\"email\" type=\"text\"/></li><li class=\"bf\"><div><span class=\"bh bi\" id=\"u_0_1\">Password</span><input autocapitalize=\"off\" autocomplete=\"on\" autocorrect=\"off\" class=\"bj bk bm bn\" name=\"pass\" type=\"password\"/></div></li><li class=\"bf\"><input class=\"l q m bo bp bq\" name=\"login\" type=\"submit\" value=\"Log In\"/></li></ul><div><div class=\"br\"><span class=\"bs\">or</span></div><div class=\"bt bu\"><div class=\"bt bv bw\" id=\"signup-button\" tabindex=\"0\"><input class=\"l q m bx bp by\" name=\"sign_up\" type=\"submit\" value=\"Create New Account\"/></div></div></div><div></div><noscript><input name=\"_fb_noscript\" type=\"hidden\" value=\"true\"/></noscript></form><div class=\"bz ca\"><span class=\"cb cc\"><ul class=\"be cd\"><li class=\"bf\"><a href=\"/recover/initiate/?c=https%3A%2F%2Fm.facebook.com%2F%3Fzero_e%3D6%26zero_et%3D1581441669%26refsrc%3Dhttps%253A%252F%252F0.facebook.com%252F&amp;r&amp;cuid&amp;ars=facebook_login&amp;lwv=100&amp;refid=8\" id=\"forgot-password-link\" tabindex=\"0\">Forgotten password?</a></li><li class=\"bf\"></li><li class=\"bf\"></li></ul></span></div></div></div></td></tr></tbody></table><div style=\"display:none\"></div><span><img height=\"0\" src=\"https://facebook.com/security/hsts-pixel.gif?c=3.2\" style=\"display:none\" width=\"0\"/></span></div></div><div><div class=\"ce\"><div class=\"cf\"><table class=\"t\"><tbody><tr><td class=\"u cg\" style=\"width:50%\"><b class=\"ch\">English (UK)</b><a class=\"ci\" href=\"/a/language.php?l=as_IN&amp;lref=https%3A%2F%2Fm.facebook.com%2F%3Fzero_e%3D6%26zero_et%3D1581441669%26refsrc%3Dhttps%253A%252F%252F0.facebook.com%252F&amp;index=2&amp;sref=legacy_mbasic_footer&amp;gfid=AQBOoS6Z1friG7g2&amp;ref_component=mbasic_footer&amp;ref_page=%2Fwap%2Findex.php&amp;refid=8\">\\u0985\\u09b8\\u09ae\\u09c0\\u09af\\u09bc\\u09be</a><a class=\"ci\" href=\"/a/language.php?l=pt_BR&amp;lref=https%3A%2F%2Fm.facebook.com%2F%3Fzero_e%3D6%26zero_et%3D1581441669%26refsrc%3Dhttps%253A%252F%252F0.facebook.com%252F&amp;index=4&amp;sref=legacy_mbasic_footer&amp;gfid=AQDK3Eh9WdQjDzE1&amp;ref_component=mbasic_footer&amp;ref_page=%2Fwap%2Findex.php&amp;refid=8\">Portugu\\xeas (Brasil)</a></td><td class=\"u cj\" style=\"width:50%\"><a class=\"ci\" href=\"/a/language.php?l=bn_IN&amp;lref=https%3A%2F%2Fm.facebook.com%2F%3Fzero_e%3D6%26zero_et%3D1581441669%26refsrc%3Dhttps%253A%252F%252F0.facebook.com%252F&amp;index=1&amp;sref=legacy_mbasic_footer&amp;gfid=AQAkXMDY-j913gyY&amp;ref_component=mbasic_footer&amp;ref_page=%2Fwap%2Findex.php&amp;refid=8\">\\u09ac\\u09be\\u0982\\u09b2\\u09be</a><a class=\"ci\" href=\"/a/language.php?l=es_LA&amp;lref=https%3A%2F%2Fm.facebook.com%2F%3Fzero_e%3D6%26zero_et%3D1581441669%26refsrc%3Dhttps%253A%252F%252F0.facebook.com%252F&amp;index=3&amp;sref=legacy_mbasic_footer&amp;gfid=AQCIboLU0YhMT-j1&amp;ref_component=mbasic_footer&amp;ref_page=%2Fwap%2Findex.php&amp;refid=8\">Espa\\xf1ol</a><a class=\"ci\" href=\"/language.php?n=https%3A%2F%2Fm.facebook.com%2F%3Fzero_e%3D6%26zero_et%3D1581441669%26refsrc%3Dhttps%253A%252F%252F0.facebook.com%252F&amp;ref_component=mbasic_footer&amp;ref_page=%2Fwap%2Findex.php&amp;refid=8\"><div class=\"ck\"> + </div></a></td></tr></tbody></table></div><span class=\"bh cl cm\">Facebook Inc.</span></div></div></div>,\n",
       " <div class=\"g h\" id=\"header\"><table cellpadding=\"0\" cellspacing=\"0\" class=\"i\"><tbody><tr><td valign=\"middle\"><h1 style=\"display:block;height:0;overflow:hidden;position:absolute;width:0;padding:0\">Facebook</h1><img alt=\"facebook\" class=\"j\" height=\"16\" src=\"https://static.xx.fbcdn.net/rsrc.php/v3/y8/r/k97pj8-or6s.png\" width=\"77\"/></td><td class=\"k\" valign=\"middle\"><a class=\"l m n o p q\" href=\"/reg/?cid=102&amp;refid=8\"><span class=\"s\">Create Account</span></a></td></tr></tbody></table></div>,\n",
       " <table cellpadding=\"0\" cellspacing=\"0\" class=\"i\"><tbody><tr><td valign=\"middle\"><h1 style=\"display:block;height:0;overflow:hidden;position:absolute;width:0;padding:0\">Facebook</h1><img alt=\"facebook\" class=\"j\" height=\"16\" src=\"https://static.xx.fbcdn.net/rsrc.php/v3/y8/r/k97pj8-or6s.png\" width=\"77\"/></td><td class=\"k\" valign=\"middle\"><a class=\"l m n o p q\" href=\"/reg/?cid=102&amp;refid=8\"><span class=\"s\">Create Account</span></a></td></tr></tbody></table>,\n",
       " <tbody><tr><td valign=\"middle\"><h1 style=\"display:block;height:0;overflow:hidden;position:absolute;width:0;padding:0\">Facebook</h1><img alt=\"facebook\" class=\"j\" height=\"16\" src=\"https://static.xx.fbcdn.net/rsrc.php/v3/y8/r/k97pj8-or6s.png\" width=\"77\"/></td><td class=\"k\" valign=\"middle\"><a class=\"l m n o p q\" href=\"/reg/?cid=102&amp;refid=8\"><span class=\"s\">Create Account</span></a></td></tr></tbody>,\n",
       " <tr><td valign=\"middle\"><h1 style=\"display:block;height:0;overflow:hidden;position:absolute;width:0;padding:0\">Facebook</h1><img alt=\"facebook\" class=\"j\" height=\"16\" src=\"https://static.xx.fbcdn.net/rsrc.php/v3/y8/r/k97pj8-or6s.png\" width=\"77\"/></td><td class=\"k\" valign=\"middle\"><a class=\"l m n o p q\" href=\"/reg/?cid=102&amp;refid=8\"><span class=\"s\">Create Account</span></a></td></tr>,\n",
       " <td valign=\"middle\"><h1 style=\"display:block;height:0;overflow:hidden;position:absolute;width:0;padding:0\">Facebook</h1><img alt=\"facebook\" class=\"j\" height=\"16\" src=\"https://static.xx.fbcdn.net/rsrc.php/v3/y8/r/k97pj8-or6s.png\" width=\"77\"/></td>,\n",
       " <h1 style=\"display:block;height:0;overflow:hidden;position:absolute;width:0;padding:0\">Facebook</h1>,\n",
       " <img alt=\"facebook\" class=\"j\" height=\"16\" src=\"https://static.xx.fbcdn.net/rsrc.php/v3/y8/r/k97pj8-or6s.png\" width=\"77\"/>,\n",
       " <td class=\"k\" valign=\"middle\"><a class=\"l m n o p q\" href=\"/reg/?cid=102&amp;refid=8\"><span class=\"s\">Create Account</span></a></td>,\n",
       " <a class=\"l m n o p q\" href=\"/reg/?cid=102&amp;refid=8\"><span class=\"s\">Create Account</span></a>,\n",
       " <span class=\"s\">Create Account</span>,\n",
       " <div id=\"objects_container\"><div class=\"e\" id=\"root\"><table class=\"t\"><tbody><tr><td class=\"u\"><div class=\"v w x\" id=\"login_error\" style=\"display: none;\"><div class=\"y\"></div></div><div class=\"z ba\"><div id=\"login_top_banner\"></div><div class=\"bb\"><form action=\"/login/device-based/regular/login/?refsrc=https%3A%2F%2F0.facebook.com%2F&amp;lwv=100&amp;refid=8\" class=\"bc bd\" id=\"login_form\" method=\"post\" novalidate=\"1\"><input autocomplete=\"off\" name=\"lsd\" type=\"hidden\" value=\"AVoB7ote\"/><input autocomplete=\"off\" name=\"jazoest\" type=\"hidden\" value=\"2711\"/><input name=\"m_ts\" type=\"hidden\" value=\"1581441609\"/><input name=\"li\" type=\"hidden\" value=\"SeJCXoM6n5yMQMdE6mofS0DQ\"/><input name=\"try_number\" type=\"hidden\" value=\"0\"/><input name=\"unrecognized_tries\" type=\"hidden\" value=\"0\"/><ul class=\"be bf bg\"><li class=\"bf\"><span class=\"bh bi\" id=\"u_0_0\">Phone number or email address</span><input autocapitalize=\"off\" autocomplete=\"on\" autocorrect=\"off\" class=\"bj bk bl\" id=\"m_login_email\" name=\"email\" type=\"text\"/></li><li class=\"bf\"><div><span class=\"bh bi\" id=\"u_0_1\">Password</span><input autocapitalize=\"off\" autocomplete=\"on\" autocorrect=\"off\" class=\"bj bk bm bn\" name=\"pass\" type=\"password\"/></div></li><li class=\"bf\"><input class=\"l q m bo bp bq\" name=\"login\" type=\"submit\" value=\"Log In\"/></li></ul><div><div class=\"br\"><span class=\"bs\">or</span></div><div class=\"bt bu\"><div class=\"bt bv bw\" id=\"signup-button\" tabindex=\"0\"><input class=\"l q m bx bp by\" name=\"sign_up\" type=\"submit\" value=\"Create New Account\"/></div></div></div><div></div><noscript><input name=\"_fb_noscript\" type=\"hidden\" value=\"true\"/></noscript></form><div class=\"bz ca\"><span class=\"cb cc\"><ul class=\"be cd\"><li class=\"bf\"><a href=\"/recover/initiate/?c=https%3A%2F%2Fm.facebook.com%2F%3Fzero_e%3D6%26zero_et%3D1581441669%26refsrc%3Dhttps%253A%252F%252F0.facebook.com%252F&amp;r&amp;cuid&amp;ars=facebook_login&amp;lwv=100&amp;refid=8\" id=\"forgot-password-link\" tabindex=\"0\">Forgotten password?</a></li><li class=\"bf\"></li><li class=\"bf\"></li></ul></span></div></div></div></td></tr></tbody></table><div style=\"display:none\"></div><span><img height=\"0\" src=\"https://facebook.com/security/hsts-pixel.gif?c=3.2\" style=\"display:none\" width=\"0\"/></span></div></div>,\n",
       " <div class=\"e\" id=\"root\"><table class=\"t\"><tbody><tr><td class=\"u\"><div class=\"v w x\" id=\"login_error\" style=\"display: none;\"><div class=\"y\"></div></div><div class=\"z ba\"><div id=\"login_top_banner\"></div><div class=\"bb\"><form action=\"/login/device-based/regular/login/?refsrc=https%3A%2F%2F0.facebook.com%2F&amp;lwv=100&amp;refid=8\" class=\"bc bd\" id=\"login_form\" method=\"post\" novalidate=\"1\"><input autocomplete=\"off\" name=\"lsd\" type=\"hidden\" value=\"AVoB7ote\"/><input autocomplete=\"off\" name=\"jazoest\" type=\"hidden\" value=\"2711\"/><input name=\"m_ts\" type=\"hidden\" value=\"1581441609\"/><input name=\"li\" type=\"hidden\" value=\"SeJCXoM6n5yMQMdE6mofS0DQ\"/><input name=\"try_number\" type=\"hidden\" value=\"0\"/><input name=\"unrecognized_tries\" type=\"hidden\" value=\"0\"/><ul class=\"be bf bg\"><li class=\"bf\"><span class=\"bh bi\" id=\"u_0_0\">Phone number or email address</span><input autocapitalize=\"off\" autocomplete=\"on\" autocorrect=\"off\" class=\"bj bk bl\" id=\"m_login_email\" name=\"email\" type=\"text\"/></li><li class=\"bf\"><div><span class=\"bh bi\" id=\"u_0_1\">Password</span><input autocapitalize=\"off\" autocomplete=\"on\" autocorrect=\"off\" class=\"bj bk bm bn\" name=\"pass\" type=\"password\"/></div></li><li class=\"bf\"><input class=\"l q m bo bp bq\" name=\"login\" type=\"submit\" value=\"Log In\"/></li></ul><div><div class=\"br\"><span class=\"bs\">or</span></div><div class=\"bt bu\"><div class=\"bt bv bw\" id=\"signup-button\" tabindex=\"0\"><input class=\"l q m bx bp by\" name=\"sign_up\" type=\"submit\" value=\"Create New Account\"/></div></div></div><div></div><noscript><input name=\"_fb_noscript\" type=\"hidden\" value=\"true\"/></noscript></form><div class=\"bz ca\"><span class=\"cb cc\"><ul class=\"be cd\"><li class=\"bf\"><a href=\"/recover/initiate/?c=https%3A%2F%2Fm.facebook.com%2F%3Fzero_e%3D6%26zero_et%3D1581441669%26refsrc%3Dhttps%253A%252F%252F0.facebook.com%252F&amp;r&amp;cuid&amp;ars=facebook_login&amp;lwv=100&amp;refid=8\" id=\"forgot-password-link\" tabindex=\"0\">Forgotten password?</a></li><li class=\"bf\"></li><li class=\"bf\"></li></ul></span></div></div></div></td></tr></tbody></table><div style=\"display:none\"></div><span><img height=\"0\" src=\"https://facebook.com/security/hsts-pixel.gif?c=3.2\" style=\"display:none\" width=\"0\"/></span></div>,\n",
       " <table class=\"t\"><tbody><tr><td class=\"u\"><div class=\"v w x\" id=\"login_error\" style=\"display: none;\"><div class=\"y\"></div></div><div class=\"z ba\"><div id=\"login_top_banner\"></div><div class=\"bb\"><form action=\"/login/device-based/regular/login/?refsrc=https%3A%2F%2F0.facebook.com%2F&amp;lwv=100&amp;refid=8\" class=\"bc bd\" id=\"login_form\" method=\"post\" novalidate=\"1\"><input autocomplete=\"off\" name=\"lsd\" type=\"hidden\" value=\"AVoB7ote\"/><input autocomplete=\"off\" name=\"jazoest\" type=\"hidden\" value=\"2711\"/><input name=\"m_ts\" type=\"hidden\" value=\"1581441609\"/><input name=\"li\" type=\"hidden\" value=\"SeJCXoM6n5yMQMdE6mofS0DQ\"/><input name=\"try_number\" type=\"hidden\" value=\"0\"/><input name=\"unrecognized_tries\" type=\"hidden\" value=\"0\"/><ul class=\"be bf bg\"><li class=\"bf\"><span class=\"bh bi\" id=\"u_0_0\">Phone number or email address</span><input autocapitalize=\"off\" autocomplete=\"on\" autocorrect=\"off\" class=\"bj bk bl\" id=\"m_login_email\" name=\"email\" type=\"text\"/></li><li class=\"bf\"><div><span class=\"bh bi\" id=\"u_0_1\">Password</span><input autocapitalize=\"off\" autocomplete=\"on\" autocorrect=\"off\" class=\"bj bk bm bn\" name=\"pass\" type=\"password\"/></div></li><li class=\"bf\"><input class=\"l q m bo bp bq\" name=\"login\" type=\"submit\" value=\"Log In\"/></li></ul><div><div class=\"br\"><span class=\"bs\">or</span></div><div class=\"bt bu\"><div class=\"bt bv bw\" id=\"signup-button\" tabindex=\"0\"><input class=\"l q m bx bp by\" name=\"sign_up\" type=\"submit\" value=\"Create New Account\"/></div></div></div><div></div><noscript><input name=\"_fb_noscript\" type=\"hidden\" value=\"true\"/></noscript></form><div class=\"bz ca\"><span class=\"cb cc\"><ul class=\"be cd\"><li class=\"bf\"><a href=\"/recover/initiate/?c=https%3A%2F%2Fm.facebook.com%2F%3Fzero_e%3D6%26zero_et%3D1581441669%26refsrc%3Dhttps%253A%252F%252F0.facebook.com%252F&amp;r&amp;cuid&amp;ars=facebook_login&amp;lwv=100&amp;refid=8\" id=\"forgot-password-link\" tabindex=\"0\">Forgotten password?</a></li><li class=\"bf\"></li><li class=\"bf\"></li></ul></span></div></div></div></td></tr></tbody></table>,\n",
       " <tbody><tr><td class=\"u\"><div class=\"v w x\" id=\"login_error\" style=\"display: none;\"><div class=\"y\"></div></div><div class=\"z ba\"><div id=\"login_top_banner\"></div><div class=\"bb\"><form action=\"/login/device-based/regular/login/?refsrc=https%3A%2F%2F0.facebook.com%2F&amp;lwv=100&amp;refid=8\" class=\"bc bd\" id=\"login_form\" method=\"post\" novalidate=\"1\"><input autocomplete=\"off\" name=\"lsd\" type=\"hidden\" value=\"AVoB7ote\"/><input autocomplete=\"off\" name=\"jazoest\" type=\"hidden\" value=\"2711\"/><input name=\"m_ts\" type=\"hidden\" value=\"1581441609\"/><input name=\"li\" type=\"hidden\" value=\"SeJCXoM6n5yMQMdE6mofS0DQ\"/><input name=\"try_number\" type=\"hidden\" value=\"0\"/><input name=\"unrecognized_tries\" type=\"hidden\" value=\"0\"/><ul class=\"be bf bg\"><li class=\"bf\"><span class=\"bh bi\" id=\"u_0_0\">Phone number or email address</span><input autocapitalize=\"off\" autocomplete=\"on\" autocorrect=\"off\" class=\"bj bk bl\" id=\"m_login_email\" name=\"email\" type=\"text\"/></li><li class=\"bf\"><div><span class=\"bh bi\" id=\"u_0_1\">Password</span><input autocapitalize=\"off\" autocomplete=\"on\" autocorrect=\"off\" class=\"bj bk bm bn\" name=\"pass\" type=\"password\"/></div></li><li class=\"bf\"><input class=\"l q m bo bp bq\" name=\"login\" type=\"submit\" value=\"Log In\"/></li></ul><div><div class=\"br\"><span class=\"bs\">or</span></div><div class=\"bt bu\"><div class=\"bt bv bw\" id=\"signup-button\" tabindex=\"0\"><input class=\"l q m bx bp by\" name=\"sign_up\" type=\"submit\" value=\"Create New Account\"/></div></div></div><div></div><noscript><input name=\"_fb_noscript\" type=\"hidden\" value=\"true\"/></noscript></form><div class=\"bz ca\"><span class=\"cb cc\"><ul class=\"be cd\"><li class=\"bf\"><a href=\"/recover/initiate/?c=https%3A%2F%2Fm.facebook.com%2F%3Fzero_e%3D6%26zero_et%3D1581441669%26refsrc%3Dhttps%253A%252F%252F0.facebook.com%252F&amp;r&amp;cuid&amp;ars=facebook_login&amp;lwv=100&amp;refid=8\" id=\"forgot-password-link\" tabindex=\"0\">Forgotten password?</a></li><li class=\"bf\"></li><li class=\"bf\"></li></ul></span></div></div></div></td></tr></tbody>,\n",
       " <tr><td class=\"u\"><div class=\"v w x\" id=\"login_error\" style=\"display: none;\"><div class=\"y\"></div></div><div class=\"z ba\"><div id=\"login_top_banner\"></div><div class=\"bb\"><form action=\"/login/device-based/regular/login/?refsrc=https%3A%2F%2F0.facebook.com%2F&amp;lwv=100&amp;refid=8\" class=\"bc bd\" id=\"login_form\" method=\"post\" novalidate=\"1\"><input autocomplete=\"off\" name=\"lsd\" type=\"hidden\" value=\"AVoB7ote\"/><input autocomplete=\"off\" name=\"jazoest\" type=\"hidden\" value=\"2711\"/><input name=\"m_ts\" type=\"hidden\" value=\"1581441609\"/><input name=\"li\" type=\"hidden\" value=\"SeJCXoM6n5yMQMdE6mofS0DQ\"/><input name=\"try_number\" type=\"hidden\" value=\"0\"/><input name=\"unrecognized_tries\" type=\"hidden\" value=\"0\"/><ul class=\"be bf bg\"><li class=\"bf\"><span class=\"bh bi\" id=\"u_0_0\">Phone number or email address</span><input autocapitalize=\"off\" autocomplete=\"on\" autocorrect=\"off\" class=\"bj bk bl\" id=\"m_login_email\" name=\"email\" type=\"text\"/></li><li class=\"bf\"><div><span class=\"bh bi\" id=\"u_0_1\">Password</span><input autocapitalize=\"off\" autocomplete=\"on\" autocorrect=\"off\" class=\"bj bk bm bn\" name=\"pass\" type=\"password\"/></div></li><li class=\"bf\"><input class=\"l q m bo bp bq\" name=\"login\" type=\"submit\" value=\"Log In\"/></li></ul><div><div class=\"br\"><span class=\"bs\">or</span></div><div class=\"bt bu\"><div class=\"bt bv bw\" id=\"signup-button\" tabindex=\"0\"><input class=\"l q m bx bp by\" name=\"sign_up\" type=\"submit\" value=\"Create New Account\"/></div></div></div><div></div><noscript><input name=\"_fb_noscript\" type=\"hidden\" value=\"true\"/></noscript></form><div class=\"bz ca\"><span class=\"cb cc\"><ul class=\"be cd\"><li class=\"bf\"><a href=\"/recover/initiate/?c=https%3A%2F%2Fm.facebook.com%2F%3Fzero_e%3D6%26zero_et%3D1581441669%26refsrc%3Dhttps%253A%252F%252F0.facebook.com%252F&amp;r&amp;cuid&amp;ars=facebook_login&amp;lwv=100&amp;refid=8\" id=\"forgot-password-link\" tabindex=\"0\">Forgotten password?</a></li><li class=\"bf\"></li><li class=\"bf\"></li></ul></span></div></div></div></td></tr>,\n",
       " <td class=\"u\"><div class=\"v w x\" id=\"login_error\" style=\"display: none;\"><div class=\"y\"></div></div><div class=\"z ba\"><div id=\"login_top_banner\"></div><div class=\"bb\"><form action=\"/login/device-based/regular/login/?refsrc=https%3A%2F%2F0.facebook.com%2F&amp;lwv=100&amp;refid=8\" class=\"bc bd\" id=\"login_form\" method=\"post\" novalidate=\"1\"><input autocomplete=\"off\" name=\"lsd\" type=\"hidden\" value=\"AVoB7ote\"/><input autocomplete=\"off\" name=\"jazoest\" type=\"hidden\" value=\"2711\"/><input name=\"m_ts\" type=\"hidden\" value=\"1581441609\"/><input name=\"li\" type=\"hidden\" value=\"SeJCXoM6n5yMQMdE6mofS0DQ\"/><input name=\"try_number\" type=\"hidden\" value=\"0\"/><input name=\"unrecognized_tries\" type=\"hidden\" value=\"0\"/><ul class=\"be bf bg\"><li class=\"bf\"><span class=\"bh bi\" id=\"u_0_0\">Phone number or email address</span><input autocapitalize=\"off\" autocomplete=\"on\" autocorrect=\"off\" class=\"bj bk bl\" id=\"m_login_email\" name=\"email\" type=\"text\"/></li><li class=\"bf\"><div><span class=\"bh bi\" id=\"u_0_1\">Password</span><input autocapitalize=\"off\" autocomplete=\"on\" autocorrect=\"off\" class=\"bj bk bm bn\" name=\"pass\" type=\"password\"/></div></li><li class=\"bf\"><input class=\"l q m bo bp bq\" name=\"login\" type=\"submit\" value=\"Log In\"/></li></ul><div><div class=\"br\"><span class=\"bs\">or</span></div><div class=\"bt bu\"><div class=\"bt bv bw\" id=\"signup-button\" tabindex=\"0\"><input class=\"l q m bx bp by\" name=\"sign_up\" type=\"submit\" value=\"Create New Account\"/></div></div></div><div></div><noscript><input name=\"_fb_noscript\" type=\"hidden\" value=\"true\"/></noscript></form><div class=\"bz ca\"><span class=\"cb cc\"><ul class=\"be cd\"><li class=\"bf\"><a href=\"/recover/initiate/?c=https%3A%2F%2Fm.facebook.com%2F%3Fzero_e%3D6%26zero_et%3D1581441669%26refsrc%3Dhttps%253A%252F%252F0.facebook.com%252F&amp;r&amp;cuid&amp;ars=facebook_login&amp;lwv=100&amp;refid=8\" id=\"forgot-password-link\" tabindex=\"0\">Forgotten password?</a></li><li class=\"bf\"></li><li class=\"bf\"></li></ul></span></div></div></div></td>,\n",
       " <div class=\"v w x\" id=\"login_error\" style=\"display: none;\"><div class=\"y\"></div></div>,\n",
       " <div class=\"y\"></div>,\n",
       " <div class=\"z ba\"><div id=\"login_top_banner\"></div><div class=\"bb\"><form action=\"/login/device-based/regular/login/?refsrc=https%3A%2F%2F0.facebook.com%2F&amp;lwv=100&amp;refid=8\" class=\"bc bd\" id=\"login_form\" method=\"post\" novalidate=\"1\"><input autocomplete=\"off\" name=\"lsd\" type=\"hidden\" value=\"AVoB7ote\"/><input autocomplete=\"off\" name=\"jazoest\" type=\"hidden\" value=\"2711\"/><input name=\"m_ts\" type=\"hidden\" value=\"1581441609\"/><input name=\"li\" type=\"hidden\" value=\"SeJCXoM6n5yMQMdE6mofS0DQ\"/><input name=\"try_number\" type=\"hidden\" value=\"0\"/><input name=\"unrecognized_tries\" type=\"hidden\" value=\"0\"/><ul class=\"be bf bg\"><li class=\"bf\"><span class=\"bh bi\" id=\"u_0_0\">Phone number or email address</span><input autocapitalize=\"off\" autocomplete=\"on\" autocorrect=\"off\" class=\"bj bk bl\" id=\"m_login_email\" name=\"email\" type=\"text\"/></li><li class=\"bf\"><div><span class=\"bh bi\" id=\"u_0_1\">Password</span><input autocapitalize=\"off\" autocomplete=\"on\" autocorrect=\"off\" class=\"bj bk bm bn\" name=\"pass\" type=\"password\"/></div></li><li class=\"bf\"><input class=\"l q m bo bp bq\" name=\"login\" type=\"submit\" value=\"Log In\"/></li></ul><div><div class=\"br\"><span class=\"bs\">or</span></div><div class=\"bt bu\"><div class=\"bt bv bw\" id=\"signup-button\" tabindex=\"0\"><input class=\"l q m bx bp by\" name=\"sign_up\" type=\"submit\" value=\"Create New Account\"/></div></div></div><div></div><noscript><input name=\"_fb_noscript\" type=\"hidden\" value=\"true\"/></noscript></form><div class=\"bz ca\"><span class=\"cb cc\"><ul class=\"be cd\"><li class=\"bf\"><a href=\"/recover/initiate/?c=https%3A%2F%2Fm.facebook.com%2F%3Fzero_e%3D6%26zero_et%3D1581441669%26refsrc%3Dhttps%253A%252F%252F0.facebook.com%252F&amp;r&amp;cuid&amp;ars=facebook_login&amp;lwv=100&amp;refid=8\" id=\"forgot-password-link\" tabindex=\"0\">Forgotten password?</a></li><li class=\"bf\"></li><li class=\"bf\"></li></ul></span></div></div></div>,\n",
       " <div id=\"login_top_banner\"></div>,\n",
       " <div class=\"bb\"><form action=\"/login/device-based/regular/login/?refsrc=https%3A%2F%2F0.facebook.com%2F&amp;lwv=100&amp;refid=8\" class=\"bc bd\" id=\"login_form\" method=\"post\" novalidate=\"1\"><input autocomplete=\"off\" name=\"lsd\" type=\"hidden\" value=\"AVoB7ote\"/><input autocomplete=\"off\" name=\"jazoest\" type=\"hidden\" value=\"2711\"/><input name=\"m_ts\" type=\"hidden\" value=\"1581441609\"/><input name=\"li\" type=\"hidden\" value=\"SeJCXoM6n5yMQMdE6mofS0DQ\"/><input name=\"try_number\" type=\"hidden\" value=\"0\"/><input name=\"unrecognized_tries\" type=\"hidden\" value=\"0\"/><ul class=\"be bf bg\"><li class=\"bf\"><span class=\"bh bi\" id=\"u_0_0\">Phone number or email address</span><input autocapitalize=\"off\" autocomplete=\"on\" autocorrect=\"off\" class=\"bj bk bl\" id=\"m_login_email\" name=\"email\" type=\"text\"/></li><li class=\"bf\"><div><span class=\"bh bi\" id=\"u_0_1\">Password</span><input autocapitalize=\"off\" autocomplete=\"on\" autocorrect=\"off\" class=\"bj bk bm bn\" name=\"pass\" type=\"password\"/></div></li><li class=\"bf\"><input class=\"l q m bo bp bq\" name=\"login\" type=\"submit\" value=\"Log In\"/></li></ul><div><div class=\"br\"><span class=\"bs\">or</span></div><div class=\"bt bu\"><div class=\"bt bv bw\" id=\"signup-button\" tabindex=\"0\"><input class=\"l q m bx bp by\" name=\"sign_up\" type=\"submit\" value=\"Create New Account\"/></div></div></div><div></div><noscript><input name=\"_fb_noscript\" type=\"hidden\" value=\"true\"/></noscript></form><div class=\"bz ca\"><span class=\"cb cc\"><ul class=\"be cd\"><li class=\"bf\"><a href=\"/recover/initiate/?c=https%3A%2F%2Fm.facebook.com%2F%3Fzero_e%3D6%26zero_et%3D1581441669%26refsrc%3Dhttps%253A%252F%252F0.facebook.com%252F&amp;r&amp;cuid&amp;ars=facebook_login&amp;lwv=100&amp;refid=8\" id=\"forgot-password-link\" tabindex=\"0\">Forgotten password?</a></li><li class=\"bf\"></li><li class=\"bf\"></li></ul></span></div></div>,\n",
       " <form action=\"/login/device-based/regular/login/?refsrc=https%3A%2F%2F0.facebook.com%2F&amp;lwv=100&amp;refid=8\" class=\"bc bd\" id=\"login_form\" method=\"post\" novalidate=\"1\"><input autocomplete=\"off\" name=\"lsd\" type=\"hidden\" value=\"AVoB7ote\"/><input autocomplete=\"off\" name=\"jazoest\" type=\"hidden\" value=\"2711\"/><input name=\"m_ts\" type=\"hidden\" value=\"1581441609\"/><input name=\"li\" type=\"hidden\" value=\"SeJCXoM6n5yMQMdE6mofS0DQ\"/><input name=\"try_number\" type=\"hidden\" value=\"0\"/><input name=\"unrecognized_tries\" type=\"hidden\" value=\"0\"/><ul class=\"be bf bg\"><li class=\"bf\"><span class=\"bh bi\" id=\"u_0_0\">Phone number or email address</span><input autocapitalize=\"off\" autocomplete=\"on\" autocorrect=\"off\" class=\"bj bk bl\" id=\"m_login_email\" name=\"email\" type=\"text\"/></li><li class=\"bf\"><div><span class=\"bh bi\" id=\"u_0_1\">Password</span><input autocapitalize=\"off\" autocomplete=\"on\" autocorrect=\"off\" class=\"bj bk bm bn\" name=\"pass\" type=\"password\"/></div></li><li class=\"bf\"><input class=\"l q m bo bp bq\" name=\"login\" type=\"submit\" value=\"Log In\"/></li></ul><div><div class=\"br\"><span class=\"bs\">or</span></div><div class=\"bt bu\"><div class=\"bt bv bw\" id=\"signup-button\" tabindex=\"0\"><input class=\"l q m bx bp by\" name=\"sign_up\" type=\"submit\" value=\"Create New Account\"/></div></div></div><div></div><noscript><input name=\"_fb_noscript\" type=\"hidden\" value=\"true\"/></noscript></form>,\n",
       " <input autocomplete=\"off\" name=\"lsd\" type=\"hidden\" value=\"AVoB7ote\"/>,\n",
       " <input autocomplete=\"off\" name=\"jazoest\" type=\"hidden\" value=\"2711\"/>,\n",
       " <input name=\"m_ts\" type=\"hidden\" value=\"1581441609\"/>,\n",
       " <input name=\"li\" type=\"hidden\" value=\"SeJCXoM6n5yMQMdE6mofS0DQ\"/>,\n",
       " <input name=\"try_number\" type=\"hidden\" value=\"0\"/>,\n",
       " <input name=\"unrecognized_tries\" type=\"hidden\" value=\"0\"/>,\n",
       " <ul class=\"be bf bg\"><li class=\"bf\"><span class=\"bh bi\" id=\"u_0_0\">Phone number or email address</span><input autocapitalize=\"off\" autocomplete=\"on\" autocorrect=\"off\" class=\"bj bk bl\" id=\"m_login_email\" name=\"email\" type=\"text\"/></li><li class=\"bf\"><div><span class=\"bh bi\" id=\"u_0_1\">Password</span><input autocapitalize=\"off\" autocomplete=\"on\" autocorrect=\"off\" class=\"bj bk bm bn\" name=\"pass\" type=\"password\"/></div></li><li class=\"bf\"><input class=\"l q m bo bp bq\" name=\"login\" type=\"submit\" value=\"Log In\"/></li></ul>,\n",
       " <li class=\"bf\"><span class=\"bh bi\" id=\"u_0_0\">Phone number or email address</span><input autocapitalize=\"off\" autocomplete=\"on\" autocorrect=\"off\" class=\"bj bk bl\" id=\"m_login_email\" name=\"email\" type=\"text\"/></li>,\n",
       " <span class=\"bh bi\" id=\"u_0_0\">Phone number or email address</span>,\n",
       " <input autocapitalize=\"off\" autocomplete=\"on\" autocorrect=\"off\" class=\"bj bk bl\" id=\"m_login_email\" name=\"email\" type=\"text\"/>,\n",
       " <li class=\"bf\"><div><span class=\"bh bi\" id=\"u_0_1\">Password</span><input autocapitalize=\"off\" autocomplete=\"on\" autocorrect=\"off\" class=\"bj bk bm bn\" name=\"pass\" type=\"password\"/></div></li>,\n",
       " <div><span class=\"bh bi\" id=\"u_0_1\">Password</span><input autocapitalize=\"off\" autocomplete=\"on\" autocorrect=\"off\" class=\"bj bk bm bn\" name=\"pass\" type=\"password\"/></div>,\n",
       " <span class=\"bh bi\" id=\"u_0_1\">Password</span>,\n",
       " <input autocapitalize=\"off\" autocomplete=\"on\" autocorrect=\"off\" class=\"bj bk bm bn\" name=\"pass\" type=\"password\"/>,\n",
       " <li class=\"bf\"><input class=\"l q m bo bp bq\" name=\"login\" type=\"submit\" value=\"Log In\"/></li>,\n",
       " <input class=\"l q m bo bp bq\" name=\"login\" type=\"submit\" value=\"Log In\"/>,\n",
       " <div><div class=\"br\"><span class=\"bs\">or</span></div><div class=\"bt bu\"><div class=\"bt bv bw\" id=\"signup-button\" tabindex=\"0\"><input class=\"l q m bx bp by\" name=\"sign_up\" type=\"submit\" value=\"Create New Account\"/></div></div></div>,\n",
       " <div class=\"br\"><span class=\"bs\">or</span></div>,\n",
       " <span class=\"bs\">or</span>,\n",
       " <div class=\"bt bu\"><div class=\"bt bv bw\" id=\"signup-button\" tabindex=\"0\"><input class=\"l q m bx bp by\" name=\"sign_up\" type=\"submit\" value=\"Create New Account\"/></div></div>,\n",
       " <div class=\"bt bv bw\" id=\"signup-button\" tabindex=\"0\"><input class=\"l q m bx bp by\" name=\"sign_up\" type=\"submit\" value=\"Create New Account\"/></div>,\n",
       " <input class=\"l q m bx bp by\" name=\"sign_up\" type=\"submit\" value=\"Create New Account\"/>,\n",
       " <div></div>,\n",
       " <noscript><input name=\"_fb_noscript\" type=\"hidden\" value=\"true\"/></noscript>,\n",
       " <input name=\"_fb_noscript\" type=\"hidden\" value=\"true\"/>,\n",
       " <div class=\"bz ca\"><span class=\"cb cc\"><ul class=\"be cd\"><li class=\"bf\"><a href=\"/recover/initiate/?c=https%3A%2F%2Fm.facebook.com%2F%3Fzero_e%3D6%26zero_et%3D1581441669%26refsrc%3Dhttps%253A%252F%252F0.facebook.com%252F&amp;r&amp;cuid&amp;ars=facebook_login&amp;lwv=100&amp;refid=8\" id=\"forgot-password-link\" tabindex=\"0\">Forgotten password?</a></li><li class=\"bf\"></li><li class=\"bf\"></li></ul></span></div>,\n",
       " <span class=\"cb cc\"><ul class=\"be cd\"><li class=\"bf\"><a href=\"/recover/initiate/?c=https%3A%2F%2Fm.facebook.com%2F%3Fzero_e%3D6%26zero_et%3D1581441669%26refsrc%3Dhttps%253A%252F%252F0.facebook.com%252F&amp;r&amp;cuid&amp;ars=facebook_login&amp;lwv=100&amp;refid=8\" id=\"forgot-password-link\" tabindex=\"0\">Forgotten password?</a></li><li class=\"bf\"></li><li class=\"bf\"></li></ul></span>,\n",
       " <ul class=\"be cd\"><li class=\"bf\"><a href=\"/recover/initiate/?c=https%3A%2F%2Fm.facebook.com%2F%3Fzero_e%3D6%26zero_et%3D1581441669%26refsrc%3Dhttps%253A%252F%252F0.facebook.com%252F&amp;r&amp;cuid&amp;ars=facebook_login&amp;lwv=100&amp;refid=8\" id=\"forgot-password-link\" tabindex=\"0\">Forgotten password?</a></li><li class=\"bf\"></li><li class=\"bf\"></li></ul>,\n",
       " <li class=\"bf\"><a href=\"/recover/initiate/?c=https%3A%2F%2Fm.facebook.com%2F%3Fzero_e%3D6%26zero_et%3D1581441669%26refsrc%3Dhttps%253A%252F%252F0.facebook.com%252F&amp;r&amp;cuid&amp;ars=facebook_login&amp;lwv=100&amp;refid=8\" id=\"forgot-password-link\" tabindex=\"0\">Forgotten password?</a></li>,\n",
       " <a href=\"/recover/initiate/?c=https%3A%2F%2Fm.facebook.com%2F%3Fzero_e%3D6%26zero_et%3D1581441669%26refsrc%3Dhttps%253A%252F%252F0.facebook.com%252F&amp;r&amp;cuid&amp;ars=facebook_login&amp;lwv=100&amp;refid=8\" id=\"forgot-password-link\" tabindex=\"0\">Forgotten password?</a>,\n",
       " <li class=\"bf\"></li>,\n",
       " <li class=\"bf\"></li>,\n",
       " <div style=\"display:none\"></div>,\n",
       " <span><img height=\"0\" src=\"https://facebook.com/security/hsts-pixel.gif?c=3.2\" style=\"display:none\" width=\"0\"/></span>,\n",
       " <img height=\"0\" src=\"https://facebook.com/security/hsts-pixel.gif?c=3.2\" style=\"display:none\" width=\"0\"/>,\n",
       " <div><div class=\"ce\"><div class=\"cf\"><table class=\"t\"><tbody><tr><td class=\"u cg\" style=\"width:50%\"><b class=\"ch\">English (UK)</b><a class=\"ci\" href=\"/a/language.php?l=as_IN&amp;lref=https%3A%2F%2Fm.facebook.com%2F%3Fzero_e%3D6%26zero_et%3D1581441669%26refsrc%3Dhttps%253A%252F%252F0.facebook.com%252F&amp;index=2&amp;sref=legacy_mbasic_footer&amp;gfid=AQBOoS6Z1friG7g2&amp;ref_component=mbasic_footer&amp;ref_page=%2Fwap%2Findex.php&amp;refid=8\">\\u0985\\u09b8\\u09ae\\u09c0\\u09af\\u09bc\\u09be</a><a class=\"ci\" href=\"/a/language.php?l=pt_BR&amp;lref=https%3A%2F%2Fm.facebook.com%2F%3Fzero_e%3D6%26zero_et%3D1581441669%26refsrc%3Dhttps%253A%252F%252F0.facebook.com%252F&amp;index=4&amp;sref=legacy_mbasic_footer&amp;gfid=AQDK3Eh9WdQjDzE1&amp;ref_component=mbasic_footer&amp;ref_page=%2Fwap%2Findex.php&amp;refid=8\">Portugu\\xeas (Brasil)</a></td><td class=\"u cj\" style=\"width:50%\"><a class=\"ci\" href=\"/a/language.php?l=bn_IN&amp;lref=https%3A%2F%2Fm.facebook.com%2F%3Fzero_e%3D6%26zero_et%3D1581441669%26refsrc%3Dhttps%253A%252F%252F0.facebook.com%252F&amp;index=1&amp;sref=legacy_mbasic_footer&amp;gfid=AQAkXMDY-j913gyY&amp;ref_component=mbasic_footer&amp;ref_page=%2Fwap%2Findex.php&amp;refid=8\">\\u09ac\\u09be\\u0982\\u09b2\\u09be</a><a class=\"ci\" href=\"/a/language.php?l=es_LA&amp;lref=https%3A%2F%2Fm.facebook.com%2F%3Fzero_e%3D6%26zero_et%3D1581441669%26refsrc%3Dhttps%253A%252F%252F0.facebook.com%252F&amp;index=3&amp;sref=legacy_mbasic_footer&amp;gfid=AQCIboLU0YhMT-j1&amp;ref_component=mbasic_footer&amp;ref_page=%2Fwap%2Findex.php&amp;refid=8\">Espa\\xf1ol</a><a class=\"ci\" href=\"/language.php?n=https%3A%2F%2Fm.facebook.com%2F%3Fzero_e%3D6%26zero_et%3D1581441669%26refsrc%3Dhttps%253A%252F%252F0.facebook.com%252F&amp;ref_component=mbasic_footer&amp;ref_page=%2Fwap%2Findex.php&amp;refid=8\"><div class=\"ck\"> + </div></a></td></tr></tbody></table></div><span class=\"bh cl cm\">Facebook Inc.</span></div></div>,\n",
       " <div class=\"ce\"><div class=\"cf\"><table class=\"t\"><tbody><tr><td class=\"u cg\" style=\"width:50%\"><b class=\"ch\">English (UK)</b><a class=\"ci\" href=\"/a/language.php?l=as_IN&amp;lref=https%3A%2F%2Fm.facebook.com%2F%3Fzero_e%3D6%26zero_et%3D1581441669%26refsrc%3Dhttps%253A%252F%252F0.facebook.com%252F&amp;index=2&amp;sref=legacy_mbasic_footer&amp;gfid=AQBOoS6Z1friG7g2&amp;ref_component=mbasic_footer&amp;ref_page=%2Fwap%2Findex.php&amp;refid=8\">\\u0985\\u09b8\\u09ae\\u09c0\\u09af\\u09bc\\u09be</a><a class=\"ci\" href=\"/a/language.php?l=pt_BR&amp;lref=https%3A%2F%2Fm.facebook.com%2F%3Fzero_e%3D6%26zero_et%3D1581441669%26refsrc%3Dhttps%253A%252F%252F0.facebook.com%252F&amp;index=4&amp;sref=legacy_mbasic_footer&amp;gfid=AQDK3Eh9WdQjDzE1&amp;ref_component=mbasic_footer&amp;ref_page=%2Fwap%2Findex.php&amp;refid=8\">Portugu\\xeas (Brasil)</a></td><td class=\"u cj\" style=\"width:50%\"><a class=\"ci\" href=\"/a/language.php?l=bn_IN&amp;lref=https%3A%2F%2Fm.facebook.com%2F%3Fzero_e%3D6%26zero_et%3D1581441669%26refsrc%3Dhttps%253A%252F%252F0.facebook.com%252F&amp;index=1&amp;sref=legacy_mbasic_footer&amp;gfid=AQAkXMDY-j913gyY&amp;ref_component=mbasic_footer&amp;ref_page=%2Fwap%2Findex.php&amp;refid=8\">\\u09ac\\u09be\\u0982\\u09b2\\u09be</a><a class=\"ci\" href=\"/a/language.php?l=es_LA&amp;lref=https%3A%2F%2Fm.facebook.com%2F%3Fzero_e%3D6%26zero_et%3D1581441669%26refsrc%3Dhttps%253A%252F%252F0.facebook.com%252F&amp;index=3&amp;sref=legacy_mbasic_footer&amp;gfid=AQCIboLU0YhMT-j1&amp;ref_component=mbasic_footer&amp;ref_page=%2Fwap%2Findex.php&amp;refid=8\">Espa\\xf1ol</a><a class=\"ci\" href=\"/language.php?n=https%3A%2F%2Fm.facebook.com%2F%3Fzero_e%3D6%26zero_et%3D1581441669%26refsrc%3Dhttps%253A%252F%252F0.facebook.com%252F&amp;ref_component=mbasic_footer&amp;ref_page=%2Fwap%2Findex.php&amp;refid=8\"><div class=\"ck\"> + </div></a></td></tr></tbody></table></div><span class=\"bh cl cm\">Facebook Inc.</span></div>,\n",
       " <div class=\"cf\"><table class=\"t\"><tbody><tr><td class=\"u cg\" style=\"width:50%\"><b class=\"ch\">English (UK)</b><a class=\"ci\" href=\"/a/language.php?l=as_IN&amp;lref=https%3A%2F%2Fm.facebook.com%2F%3Fzero_e%3D6%26zero_et%3D1581441669%26refsrc%3Dhttps%253A%252F%252F0.facebook.com%252F&amp;index=2&amp;sref=legacy_mbasic_footer&amp;gfid=AQBOoS6Z1friG7g2&amp;ref_component=mbasic_footer&amp;ref_page=%2Fwap%2Findex.php&amp;refid=8\">\\u0985\\u09b8\\u09ae\\u09c0\\u09af\\u09bc\\u09be</a><a class=\"ci\" href=\"/a/language.php?l=pt_BR&amp;lref=https%3A%2F%2Fm.facebook.com%2F%3Fzero_e%3D6%26zero_et%3D1581441669%26refsrc%3Dhttps%253A%252F%252F0.facebook.com%252F&amp;index=4&amp;sref=legacy_mbasic_footer&amp;gfid=AQDK3Eh9WdQjDzE1&amp;ref_component=mbasic_footer&amp;ref_page=%2Fwap%2Findex.php&amp;refid=8\">Portugu\\xeas (Brasil)</a></td><td class=\"u cj\" style=\"width:50%\"><a class=\"ci\" href=\"/a/language.php?l=bn_IN&amp;lref=https%3A%2F%2Fm.facebook.com%2F%3Fzero_e%3D6%26zero_et%3D1581441669%26refsrc%3Dhttps%253A%252F%252F0.facebook.com%252F&amp;index=1&amp;sref=legacy_mbasic_footer&amp;gfid=AQAkXMDY-j913gyY&amp;ref_component=mbasic_footer&amp;ref_page=%2Fwap%2Findex.php&amp;refid=8\">\\u09ac\\u09be\\u0982\\u09b2\\u09be</a><a class=\"ci\" href=\"/a/language.php?l=es_LA&amp;lref=https%3A%2F%2Fm.facebook.com%2F%3Fzero_e%3D6%26zero_et%3D1581441669%26refsrc%3Dhttps%253A%252F%252F0.facebook.com%252F&amp;index=3&amp;sref=legacy_mbasic_footer&amp;gfid=AQCIboLU0YhMT-j1&amp;ref_component=mbasic_footer&amp;ref_page=%2Fwap%2Findex.php&amp;refid=8\">Espa\\xf1ol</a><a class=\"ci\" href=\"/language.php?n=https%3A%2F%2Fm.facebook.com%2F%3Fzero_e%3D6%26zero_et%3D1581441669%26refsrc%3Dhttps%253A%252F%252F0.facebook.com%252F&amp;ref_component=mbasic_footer&amp;ref_page=%2Fwap%2Findex.php&amp;refid=8\"><div class=\"ck\"> + </div></a></td></tr></tbody></table></div>,\n",
       " <table class=\"t\"><tbody><tr><td class=\"u cg\" style=\"width:50%\"><b class=\"ch\">English (UK)</b><a class=\"ci\" href=\"/a/language.php?l=as_IN&amp;lref=https%3A%2F%2Fm.facebook.com%2F%3Fzero_e%3D6%26zero_et%3D1581441669%26refsrc%3Dhttps%253A%252F%252F0.facebook.com%252F&amp;index=2&amp;sref=legacy_mbasic_footer&amp;gfid=AQBOoS6Z1friG7g2&amp;ref_component=mbasic_footer&amp;ref_page=%2Fwap%2Findex.php&amp;refid=8\">\\u0985\\u09b8\\u09ae\\u09c0\\u09af\\u09bc\\u09be</a><a class=\"ci\" href=\"/a/language.php?l=pt_BR&amp;lref=https%3A%2F%2Fm.facebook.com%2F%3Fzero_e%3D6%26zero_et%3D1581441669%26refsrc%3Dhttps%253A%252F%252F0.facebook.com%252F&amp;index=4&amp;sref=legacy_mbasic_footer&amp;gfid=AQDK3Eh9WdQjDzE1&amp;ref_component=mbasic_footer&amp;ref_page=%2Fwap%2Findex.php&amp;refid=8\">Portugu\\xeas (Brasil)</a></td><td class=\"u cj\" style=\"width:50%\"><a class=\"ci\" href=\"/a/language.php?l=bn_IN&amp;lref=https%3A%2F%2Fm.facebook.com%2F%3Fzero_e%3D6%26zero_et%3D1581441669%26refsrc%3Dhttps%253A%252F%252F0.facebook.com%252F&amp;index=1&amp;sref=legacy_mbasic_footer&amp;gfid=AQAkXMDY-j913gyY&amp;ref_component=mbasic_footer&amp;ref_page=%2Fwap%2Findex.php&amp;refid=8\">\\u09ac\\u09be\\u0982\\u09b2\\u09be</a><a class=\"ci\" href=\"/a/language.php?l=es_LA&amp;lref=https%3A%2F%2Fm.facebook.com%2F%3Fzero_e%3D6%26zero_et%3D1581441669%26refsrc%3Dhttps%253A%252F%252F0.facebook.com%252F&amp;index=3&amp;sref=legacy_mbasic_footer&amp;gfid=AQCIboLU0YhMT-j1&amp;ref_component=mbasic_footer&amp;ref_page=%2Fwap%2Findex.php&amp;refid=8\">Espa\\xf1ol</a><a class=\"ci\" href=\"/language.php?n=https%3A%2F%2Fm.facebook.com%2F%3Fzero_e%3D6%26zero_et%3D1581441669%26refsrc%3Dhttps%253A%252F%252F0.facebook.com%252F&amp;ref_component=mbasic_footer&amp;ref_page=%2Fwap%2Findex.php&amp;refid=8\"><div class=\"ck\"> + </div></a></td></tr></tbody></table>,\n",
       " <tbody><tr><td class=\"u cg\" style=\"width:50%\"><b class=\"ch\">English (UK)</b><a class=\"ci\" href=\"/a/language.php?l=as_IN&amp;lref=https%3A%2F%2Fm.facebook.com%2F%3Fzero_e%3D6%26zero_et%3D1581441669%26refsrc%3Dhttps%253A%252F%252F0.facebook.com%252F&amp;index=2&amp;sref=legacy_mbasic_footer&amp;gfid=AQBOoS6Z1friG7g2&amp;ref_component=mbasic_footer&amp;ref_page=%2Fwap%2Findex.php&amp;refid=8\">\\u0985\\u09b8\\u09ae\\u09c0\\u09af\\u09bc\\u09be</a><a class=\"ci\" href=\"/a/language.php?l=pt_BR&amp;lref=https%3A%2F%2Fm.facebook.com%2F%3Fzero_e%3D6%26zero_et%3D1581441669%26refsrc%3Dhttps%253A%252F%252F0.facebook.com%252F&amp;index=4&amp;sref=legacy_mbasic_footer&amp;gfid=AQDK3Eh9WdQjDzE1&amp;ref_component=mbasic_footer&amp;ref_page=%2Fwap%2Findex.php&amp;refid=8\">Portugu\\xeas (Brasil)</a></td><td class=\"u cj\" style=\"width:50%\"><a class=\"ci\" href=\"/a/language.php?l=bn_IN&amp;lref=https%3A%2F%2Fm.facebook.com%2F%3Fzero_e%3D6%26zero_et%3D1581441669%26refsrc%3Dhttps%253A%252F%252F0.facebook.com%252F&amp;index=1&amp;sref=legacy_mbasic_footer&amp;gfid=AQAkXMDY-j913gyY&amp;ref_component=mbasic_footer&amp;ref_page=%2Fwap%2Findex.php&amp;refid=8\">\\u09ac\\u09be\\u0982\\u09b2\\u09be</a><a class=\"ci\" href=\"/a/language.php?l=es_LA&amp;lref=https%3A%2F%2Fm.facebook.com%2F%3Fzero_e%3D6%26zero_et%3D1581441669%26refsrc%3Dhttps%253A%252F%252F0.facebook.com%252F&amp;index=3&amp;sref=legacy_mbasic_footer&amp;gfid=AQCIboLU0YhMT-j1&amp;ref_component=mbasic_footer&amp;ref_page=%2Fwap%2Findex.php&amp;refid=8\">Espa\\xf1ol</a><a class=\"ci\" href=\"/language.php?n=https%3A%2F%2Fm.facebook.com%2F%3Fzero_e%3D6%26zero_et%3D1581441669%26refsrc%3Dhttps%253A%252F%252F0.facebook.com%252F&amp;ref_component=mbasic_footer&amp;ref_page=%2Fwap%2Findex.php&amp;refid=8\"><div class=\"ck\"> + </div></a></td></tr></tbody>,\n",
       " <tr><td class=\"u cg\" style=\"width:50%\"><b class=\"ch\">English (UK)</b><a class=\"ci\" href=\"/a/language.php?l=as_IN&amp;lref=https%3A%2F%2Fm.facebook.com%2F%3Fzero_e%3D6%26zero_et%3D1581441669%26refsrc%3Dhttps%253A%252F%252F0.facebook.com%252F&amp;index=2&amp;sref=legacy_mbasic_footer&amp;gfid=AQBOoS6Z1friG7g2&amp;ref_component=mbasic_footer&amp;ref_page=%2Fwap%2Findex.php&amp;refid=8\">\\u0985\\u09b8\\u09ae\\u09c0\\u09af\\u09bc\\u09be</a><a class=\"ci\" href=\"/a/language.php?l=pt_BR&amp;lref=https%3A%2F%2Fm.facebook.com%2F%3Fzero_e%3D6%26zero_et%3D1581441669%26refsrc%3Dhttps%253A%252F%252F0.facebook.com%252F&amp;index=4&amp;sref=legacy_mbasic_footer&amp;gfid=AQDK3Eh9WdQjDzE1&amp;ref_component=mbasic_footer&amp;ref_page=%2Fwap%2Findex.php&amp;refid=8\">Portugu\\xeas (Brasil)</a></td><td class=\"u cj\" style=\"width:50%\"><a class=\"ci\" href=\"/a/language.php?l=bn_IN&amp;lref=https%3A%2F%2Fm.facebook.com%2F%3Fzero_e%3D6%26zero_et%3D1581441669%26refsrc%3Dhttps%253A%252F%252F0.facebook.com%252F&amp;index=1&amp;sref=legacy_mbasic_footer&amp;gfid=AQAkXMDY-j913gyY&amp;ref_component=mbasic_footer&amp;ref_page=%2Fwap%2Findex.php&amp;refid=8\">\\u09ac\\u09be\\u0982\\u09b2\\u09be</a><a class=\"ci\" href=\"/a/language.php?l=es_LA&amp;lref=https%3A%2F%2Fm.facebook.com%2F%3Fzero_e%3D6%26zero_et%3D1581441669%26refsrc%3Dhttps%253A%252F%252F0.facebook.com%252F&amp;index=3&amp;sref=legacy_mbasic_footer&amp;gfid=AQCIboLU0YhMT-j1&amp;ref_component=mbasic_footer&amp;ref_page=%2Fwap%2Findex.php&amp;refid=8\">Espa\\xf1ol</a><a class=\"ci\" href=\"/language.php?n=https%3A%2F%2Fm.facebook.com%2F%3Fzero_e%3D6%26zero_et%3D1581441669%26refsrc%3Dhttps%253A%252F%252F0.facebook.com%252F&amp;ref_component=mbasic_footer&amp;ref_page=%2Fwap%2Findex.php&amp;refid=8\"><div class=\"ck\"> + </div></a></td></tr>,\n",
       " <td class=\"u cg\" style=\"width:50%\"><b class=\"ch\">English (UK)</b><a class=\"ci\" href=\"/a/language.php?l=as_IN&amp;lref=https%3A%2F%2Fm.facebook.com%2F%3Fzero_e%3D6%26zero_et%3D1581441669%26refsrc%3Dhttps%253A%252F%252F0.facebook.com%252F&amp;index=2&amp;sref=legacy_mbasic_footer&amp;gfid=AQBOoS6Z1friG7g2&amp;ref_component=mbasic_footer&amp;ref_page=%2Fwap%2Findex.php&amp;refid=8\">\\u0985\\u09b8\\u09ae\\u09c0\\u09af\\u09bc\\u09be</a><a class=\"ci\" href=\"/a/language.php?l=pt_BR&amp;lref=https%3A%2F%2Fm.facebook.com%2F%3Fzero_e%3D6%26zero_et%3D1581441669%26refsrc%3Dhttps%253A%252F%252F0.facebook.com%252F&amp;index=4&amp;sref=legacy_mbasic_footer&amp;gfid=AQDK3Eh9WdQjDzE1&amp;ref_component=mbasic_footer&amp;ref_page=%2Fwap%2Findex.php&amp;refid=8\">Portugu\\xeas (Brasil)</a></td>,\n",
       " <b class=\"ch\">English (UK)</b>,\n",
       " <a class=\"ci\" href=\"/a/language.php?l=as_IN&amp;lref=https%3A%2F%2Fm.facebook.com%2F%3Fzero_e%3D6%26zero_et%3D1581441669%26refsrc%3Dhttps%253A%252F%252F0.facebook.com%252F&amp;index=2&amp;sref=legacy_mbasic_footer&amp;gfid=AQBOoS6Z1friG7g2&amp;ref_component=mbasic_footer&amp;ref_page=%2Fwap%2Findex.php&amp;refid=8\">\\u0985\\u09b8\\u09ae\\u09c0\\u09af\\u09bc\\u09be</a>,\n",
       " <a class=\"ci\" href=\"/a/language.php?l=pt_BR&amp;lref=https%3A%2F%2Fm.facebook.com%2F%3Fzero_e%3D6%26zero_et%3D1581441669%26refsrc%3Dhttps%253A%252F%252F0.facebook.com%252F&amp;index=4&amp;sref=legacy_mbasic_footer&amp;gfid=AQDK3Eh9WdQjDzE1&amp;ref_component=mbasic_footer&amp;ref_page=%2Fwap%2Findex.php&amp;refid=8\">Portugu\\xeas (Brasil)</a>,\n",
       " <td class=\"u cj\" style=\"width:50%\"><a class=\"ci\" href=\"/a/language.php?l=bn_IN&amp;lref=https%3A%2F%2Fm.facebook.com%2F%3Fzero_e%3D6%26zero_et%3D1581441669%26refsrc%3Dhttps%253A%252F%252F0.facebook.com%252F&amp;index=1&amp;sref=legacy_mbasic_footer&amp;gfid=AQAkXMDY-j913gyY&amp;ref_component=mbasic_footer&amp;ref_page=%2Fwap%2Findex.php&amp;refid=8\">\\u09ac\\u09be\\u0982\\u09b2\\u09be</a><a class=\"ci\" href=\"/a/language.php?l=es_LA&amp;lref=https%3A%2F%2Fm.facebook.com%2F%3Fzero_e%3D6%26zero_et%3D1581441669%26refsrc%3Dhttps%253A%252F%252F0.facebook.com%252F&amp;index=3&amp;sref=legacy_mbasic_footer&amp;gfid=AQCIboLU0YhMT-j1&amp;ref_component=mbasic_footer&amp;ref_page=%2Fwap%2Findex.php&amp;refid=8\">Espa\\xf1ol</a><a class=\"ci\" href=\"/language.php?n=https%3A%2F%2Fm.facebook.com%2F%3Fzero_e%3D6%26zero_et%3D1581441669%26refsrc%3Dhttps%253A%252F%252F0.facebook.com%252F&amp;ref_component=mbasic_footer&amp;ref_page=%2Fwap%2Findex.php&amp;refid=8\"><div class=\"ck\"> + </div></a></td>,\n",
       " <a class=\"ci\" href=\"/a/language.php?l=bn_IN&amp;lref=https%3A%2F%2Fm.facebook.com%2F%3Fzero_e%3D6%26zero_et%3D1581441669%26refsrc%3Dhttps%253A%252F%252F0.facebook.com%252F&amp;index=1&amp;sref=legacy_mbasic_footer&amp;gfid=AQAkXMDY-j913gyY&amp;ref_component=mbasic_footer&amp;ref_page=%2Fwap%2Findex.php&amp;refid=8\">\\u09ac\\u09be\\u0982\\u09b2\\u09be</a>,\n",
       " <a class=\"ci\" href=\"/a/language.php?l=es_LA&amp;lref=https%3A%2F%2Fm.facebook.com%2F%3Fzero_e%3D6%26zero_et%3D1581441669%26refsrc%3Dhttps%253A%252F%252F0.facebook.com%252F&amp;index=3&amp;sref=legacy_mbasic_footer&amp;gfid=AQCIboLU0YhMT-j1&amp;ref_component=mbasic_footer&amp;ref_page=%2Fwap%2Findex.php&amp;refid=8\">Espa\\xf1ol</a>,\n",
       " <a class=\"ci\" href=\"/language.php?n=https%3A%2F%2Fm.facebook.com%2F%3Fzero_e%3D6%26zero_et%3D1581441669%26refsrc%3Dhttps%253A%252F%252F0.facebook.com%252F&amp;ref_component=mbasic_footer&amp;ref_page=%2Fwap%2Findex.php&amp;refid=8\"><div class=\"ck\"> + </div></a>,\n",
       " <div class=\"ck\"> + </div>,\n",
       " <span class=\"bh cl cm\">Facebook Inc.</span>]"
      ]
     },
     "execution_count": 59,
     "metadata": {},
     "output_type": "execute_result"
    }
   ],
   "source": [
    "soup.find_all(True)"
   ]
  },
  {
   "cell_type": "markdown",
   "metadata": {},
   "source": [
    "#### Find tags based on attribute values\n",
    "You can get list of all tags that have a particular value in a particular attribute by placing a keyword 'attribute=value' in find_all()"
   ]
  },
  {
   "cell_type": "code",
   "execution_count": 60,
   "metadata": {},
   "outputs": [
    {
     "data": {
      "text/plain": [
       "[<div class=\"v w x\" id=\"login_error\" style=\"display: none;\"><div class=\"y\"></div></div>]"
      ]
     },
     "execution_count": 60,
     "metadata": {},
     "output_type": "execute_result"
    }
   ],
   "source": [
    "soup.find_all(id='login_error') # Find all tags that have login_error as id"
   ]
  },
  {
   "cell_type": "code",
   "execution_count": 61,
   "metadata": {},
   "outputs": [
    {
     "data": {
      "text/plain": [
       "[<li class=\"bf\"><span class=\"bh bi\" id=\"u_0_0\">Phone number or email address</span><input autocapitalize=\"off\" autocomplete=\"on\" autocorrect=\"off\" class=\"bj bk bl\" id=\"m_login_email\" name=\"email\" type=\"text\"/></li>,\n",
       " <li class=\"bf\"><div><span class=\"bh bi\" id=\"u_0_1\">Password</span><input autocapitalize=\"off\" autocomplete=\"on\" autocorrect=\"off\" class=\"bj bk bm bn\" name=\"pass\" type=\"password\"/></div></li>,\n",
       " <li class=\"bf\"><input class=\"l q m bo bp bq\" name=\"login\" type=\"submit\" value=\"Log In\"/></li>,\n",
       " <li class=\"bf\"><a href=\"/recover/initiate/?c=https%3A%2F%2Fm.facebook.com%2F%3Fzero_e%3D6%26zero_et%3D1581441669%26refsrc%3Dhttps%253A%252F%252F0.facebook.com%252F&amp;r&amp;cuid&amp;ars=facebook_login&amp;lwv=100&amp;refid=8\" id=\"forgot-password-link\" tabindex=\"0\">Forgotten password?</a></li>,\n",
       " <li class=\"bf\"></li>,\n",
       " <li class=\"bf\"></li>]"
      ]
     },
     "execution_count": 61,
     "metadata": {},
     "output_type": "execute_result"
    }
   ],
   "source": [
    "soup.find_all('li', class_='bf') # Find all tags that have class bf"
   ]
  },
  {
   "cell_type": "markdown",
   "metadata": {},
   "source": [
    "#### Other arguements of find_all()\n",
    "You can search for string in the HTML file using the string arguement inside find_all()"
   ]
  },
  {
   "cell_type": "code",
   "execution_count": 62,
   "metadata": {},
   "outputs": [
    {
     "data": {
      "text/plain": [
       "[u'Password']"
      ]
     },
     "execution_count": 62,
     "metadata": {},
     "output_type": "execute_result"
    }
   ],
   "source": [
    "soup.find_all(string='Password')"
   ]
  },
  {
   "cell_type": "markdown",
   "metadata": {},
   "source": [
    "You can also combine it with tag names to find tags which have a particular string in its inner text"
   ]
  },
  {
   "cell_type": "code",
   "execution_count": 63,
   "metadata": {},
   "outputs": [
    {
     "data": {
      "text/plain": [
       "[<span class=\"bh bi\" id=\"u_0_1\">Password</span>]"
      ]
     },
     "execution_count": 63,
     "metadata": {},
     "output_type": "execute_result"
    }
   ],
   "source": [
    "soup.find_all('span', string='Password')"
   ]
  },
  {
   "cell_type": "markdown",
   "metadata": {},
   "source": [
    "By putting 'recursive=False' inside find_all() you can only search among direct descendants instead of all descendants of a HTML tag"
   ]
  },
  {
   "cell_type": "code",
   "execution_count": 64,
   "metadata": {},
   "outputs": [
    {
     "data": {
      "text/plain": [
       "[<title>Facebook \\u2013 log in or sign up</title>]"
      ]
     },
     "execution_count": 64,
     "metadata": {},
     "output_type": "execute_result"
    }
   ],
   "source": [
    "soup.html.find_all('title')"
   ]
  },
  {
   "cell_type": "code",
   "execution_count": 65,
   "metadata": {},
   "outputs": [
    {
     "data": {
      "text/plain": [
       "[]"
      ]
     },
     "execution_count": 65,
     "metadata": {},
     "output_type": "execute_result"
    }
   ],
   "source": [
    "soup.html.find_all('title', recursive=False) # Will return empty list becuase <title> is \n",
    "                                             # is not a direct descendant of <html>"
   ]
  },
  {
   "cell_type": "markdown",
   "metadata": {},
   "source": [
    "You can get only the first n elements matching a condition in find_all() using limit=n"
   ]
  },
  {
   "cell_type": "code",
   "execution_count": 66,
   "metadata": {},
   "outputs": [
    {
     "data": {
      "text/plain": [
       "[<li class=\"bf\"><span class=\"bh bi\" id=\"u_0_0\">Phone number or email address</span><input autocapitalize=\"off\" autocomplete=\"on\" autocorrect=\"off\" class=\"bj bk bl\" id=\"m_login_email\" name=\"email\" type=\"text\"/></li>,\n",
       " <li class=\"bf\"><div><span class=\"bh bi\" id=\"u_0_1\">Password</span><input autocapitalize=\"off\" autocomplete=\"on\" autocorrect=\"off\" class=\"bj bk bm bn\" name=\"pass\" type=\"password\"/></div></li>]"
      ]
     },
     "execution_count": 66,
     "metadata": {},
     "output_type": "execute_result"
    }
   ],
   "source": [
    "soup.find_all('li', limit=2)"
   ]
  },
  {
   "cell_type": "markdown",
   "metadata": {},
   "source": [
    "### find()\n",
    "Find is like find_all() but with limit=1, a.k.a. it returns only the first element fulfilling a condition"
   ]
  },
  {
   "cell_type": "code",
   "execution_count": 67,
   "metadata": {},
   "outputs": [
    {
     "data": {
      "text/plain": [
       "<li class=\"bf\"><span class=\"bh bi\" id=\"u_0_0\">Phone number or email address</span><input autocapitalize=\"off\" autocomplete=\"on\" autocorrect=\"off\" class=\"bj bk bl\" id=\"m_login_email\" name=\"email\" type=\"text\"/></li>"
      ]
     },
     "execution_count": 67,
     "metadata": {},
     "output_type": "execute_result"
    }
   ],
   "source": [
    "soup.find('li', class_='bf')"
   ]
  },
  {
   "cell_type": "markdown",
   "metadata": {},
   "source": [
    "### find_parents(), find_parent(), find_next_siblings(), find_next_sibling(), find_previous_siblings(), find_previous_sibling(), find_all_next(), find_next(), find_all_previous(), find_previous()"
   ]
  },
  {
   "cell_type": "markdown",
   "metadata": {},
   "source": [
    "find_parents() is like find_all() and find_parent() is like find(), but they search only among all parents of a tag"
   ]
  },
  {
   "cell_type": "code",
   "execution_count": 68,
   "metadata": {},
   "outputs": [
    {
     "data": {
      "text/plain": [
       "[<div class=\"g h\" id=\"header\"><table cellpadding=\"0\" cellspacing=\"0\" class=\"i\"><tbody><tr><td valign=\"middle\"><h1 style=\"display:block;height:0;overflow:hidden;position:absolute;width:0;padding:0\">Facebook</h1><img alt=\"facebook\" class=\"j\" height=\"16\" src=\"https://static.xx.fbcdn.net/rsrc.php/v3/y8/r/k97pj8-or6s.png\" width=\"77\"/></td><td class=\"k\" valign=\"middle\"><a class=\"l m n o p q\" href=\"/reg/?cid=102&amp;refid=8\"><span class=\"s\">Create Account</span></a></td></tr></tbody></table></div>,\n",
       " <div id=\"viewport\"><div class=\"g h\" id=\"header\"><table cellpadding=\"0\" cellspacing=\"0\" class=\"i\"><tbody><tr><td valign=\"middle\"><h1 style=\"display:block;height:0;overflow:hidden;position:absolute;width:0;padding:0\">Facebook</h1><img alt=\"facebook\" class=\"j\" height=\"16\" src=\"https://static.xx.fbcdn.net/rsrc.php/v3/y8/r/k97pj8-or6s.png\" width=\"77\"/></td><td class=\"k\" valign=\"middle\"><a class=\"l m n o p q\" href=\"/reg/?cid=102&amp;refid=8\"><span class=\"s\">Create Account</span></a></td></tr></tbody></table></div><div id=\"objects_container\"><div class=\"e\" id=\"root\"><table class=\"t\"><tbody><tr><td class=\"u\"><div class=\"v w x\" id=\"login_error\" style=\"display: none;\"><div class=\"y\"></div></div><div class=\"z ba\"><div id=\"login_top_banner\"></div><div class=\"bb\"><form action=\"/login/device-based/regular/login/?refsrc=https%3A%2F%2F0.facebook.com%2F&amp;lwv=100&amp;refid=8\" class=\"bc bd\" id=\"login_form\" method=\"post\" novalidate=\"1\"><input autocomplete=\"off\" name=\"lsd\" type=\"hidden\" value=\"AVoB7ote\"/><input autocomplete=\"off\" name=\"jazoest\" type=\"hidden\" value=\"2711\"/><input name=\"m_ts\" type=\"hidden\" value=\"1581441609\"/><input name=\"li\" type=\"hidden\" value=\"SeJCXoM6n5yMQMdE6mofS0DQ\"/><input name=\"try_number\" type=\"hidden\" value=\"0\"/><input name=\"unrecognized_tries\" type=\"hidden\" value=\"0\"/><ul class=\"be bf bg\"><li class=\"bf\"><span class=\"bh bi\" id=\"u_0_0\">Phone number or email address</span><input autocapitalize=\"off\" autocomplete=\"on\" autocorrect=\"off\" class=\"bj bk bl\" id=\"m_login_email\" name=\"email\" type=\"text\"/></li><li class=\"bf\"><div><span class=\"bh bi\" id=\"u_0_1\">Password</span><input autocapitalize=\"off\" autocomplete=\"on\" autocorrect=\"off\" class=\"bj bk bm bn\" name=\"pass\" type=\"password\"/></div></li><li class=\"bf\"><input class=\"l q m bo bp bq\" name=\"login\" type=\"submit\" value=\"Log In\"/></li></ul><div><div class=\"br\"><span class=\"bs\">or</span></div><div class=\"bt bu\"><div class=\"bt bv bw\" id=\"signup-button\" tabindex=\"0\"><input class=\"l q m bx bp by\" name=\"sign_up\" type=\"submit\" value=\"Create New Account\"/></div></div></div><div></div><noscript><input name=\"_fb_noscript\" type=\"hidden\" value=\"true\"/></noscript></form><div class=\"bz ca\"><span class=\"cb cc\"><ul class=\"be cd\"><li class=\"bf\"><a href=\"/recover/initiate/?c=https%3A%2F%2Fm.facebook.com%2F%3Fzero_e%3D6%26zero_et%3D1581441669%26refsrc%3Dhttps%253A%252F%252F0.facebook.com%252F&amp;r&amp;cuid&amp;ars=facebook_login&amp;lwv=100&amp;refid=8\" id=\"forgot-password-link\" tabindex=\"0\">Forgotten password?</a></li><li class=\"bf\"></li><li class=\"bf\"></li></ul></span></div></div></div></td></tr></tbody></table><div style=\"display:none\"></div><span><img height=\"0\" src=\"https://facebook.com/security/hsts-pixel.gif?c=3.2\" style=\"display:none\" width=\"0\"/></span></div></div><div><div class=\"ce\"><div class=\"cf\"><table class=\"t\"><tbody><tr><td class=\"u cg\" style=\"width:50%\"><b class=\"ch\">English (UK)</b><a class=\"ci\" href=\"/a/language.php?l=as_IN&amp;lref=https%3A%2F%2Fm.facebook.com%2F%3Fzero_e%3D6%26zero_et%3D1581441669%26refsrc%3Dhttps%253A%252F%252F0.facebook.com%252F&amp;index=2&amp;sref=legacy_mbasic_footer&amp;gfid=AQBOoS6Z1friG7g2&amp;ref_component=mbasic_footer&amp;ref_page=%2Fwap%2Findex.php&amp;refid=8\">\\u0985\\u09b8\\u09ae\\u09c0\\u09af\\u09bc\\u09be</a><a class=\"ci\" href=\"/a/language.php?l=pt_BR&amp;lref=https%3A%2F%2Fm.facebook.com%2F%3Fzero_e%3D6%26zero_et%3D1581441669%26refsrc%3Dhttps%253A%252F%252F0.facebook.com%252F&amp;index=4&amp;sref=legacy_mbasic_footer&amp;gfid=AQDK3Eh9WdQjDzE1&amp;ref_component=mbasic_footer&amp;ref_page=%2Fwap%2Findex.php&amp;refid=8\">Portugu\\xeas (Brasil)</a></td><td class=\"u cj\" style=\"width:50%\"><a class=\"ci\" href=\"/a/language.php?l=bn_IN&amp;lref=https%3A%2F%2Fm.facebook.com%2F%3Fzero_e%3D6%26zero_et%3D1581441669%26refsrc%3Dhttps%253A%252F%252F0.facebook.com%252F&amp;index=1&amp;sref=legacy_mbasic_footer&amp;gfid=AQAkXMDY-j913gyY&amp;ref_component=mbasic_footer&amp;ref_page=%2Fwap%2Findex.php&amp;refid=8\">\\u09ac\\u09be\\u0982\\u09b2\\u09be</a><a class=\"ci\" href=\"/a/language.php?l=es_LA&amp;lref=https%3A%2F%2Fm.facebook.com%2F%3Fzero_e%3D6%26zero_et%3D1581441669%26refsrc%3Dhttps%253A%252F%252F0.facebook.com%252F&amp;index=3&amp;sref=legacy_mbasic_footer&amp;gfid=AQCIboLU0YhMT-j1&amp;ref_component=mbasic_footer&amp;ref_page=%2Fwap%2Findex.php&amp;refid=8\">Espa\\xf1ol</a><a class=\"ci\" href=\"/language.php?n=https%3A%2F%2Fm.facebook.com%2F%3Fzero_e%3D6%26zero_et%3D1581441669%26refsrc%3Dhttps%253A%252F%252F0.facebook.com%252F&amp;ref_component=mbasic_footer&amp;ref_page=%2Fwap%2Findex.php&amp;refid=8\"><div class=\"ck\"> + </div></a></td></tr></tbody></table></div><span class=\"bh cl cm\">Facebook Inc.</span></div></div></div>]"
      ]
     },
     "execution_count": 68,
     "metadata": {},
     "output_type": "execute_result"
    }
   ],
   "source": [
    "a = soup.a\n",
    "a.find_parents(lambda tag: tag.has_attr('id'))"
   ]
  },
  {
   "cell_type": "code",
   "execution_count": 69,
   "metadata": {},
   "outputs": [
    {
     "data": {
      "text/plain": [
       "<div class=\"g h\" id=\"header\"><table cellpadding=\"0\" cellspacing=\"0\" class=\"i\"><tbody><tr><td valign=\"middle\"><h1 style=\"display:block;height:0;overflow:hidden;position:absolute;width:0;padding:0\">Facebook</h1><img alt=\"facebook\" class=\"j\" height=\"16\" src=\"https://static.xx.fbcdn.net/rsrc.php/v3/y8/r/k97pj8-or6s.png\" width=\"77\"/></td><td class=\"k\" valign=\"middle\"><a class=\"l m n o p q\" href=\"/reg/?cid=102&amp;refid=8\"><span class=\"s\">Create Account</span></a></td></tr></tbody></table></div>"
      ]
     },
     "execution_count": 69,
     "metadata": {},
     "output_type": "execute_result"
    }
   ],
   "source": [
    "a.find_parent(lambda tag: tag.has_attr('id'))"
   ]
  },
  {
   "cell_type": "markdown",
   "metadata": {},
   "source": [
    "find_next_siblings() and find_previous_siblings() is like find_all() but they search in previous and next siblings respectively.\n",
    "\n",
    "Similarly find_next_sibling() and find_previous_sibling() returns only the first tag fulfilling the condition"
   ]
  },
  {
   "cell_type": "code",
   "execution_count": 70,
   "metadata": {},
   "outputs": [
    {
     "data": {
      "text/plain": [
       "<div id=\"objects_container\"><div class=\"e\" id=\"root\"><table class=\"t\"><tbody><tr><td class=\"u\"><div class=\"v w x\" id=\"login_error\" style=\"display: none;\"><div class=\"y\"></div></div><div class=\"z ba\"><div id=\"login_top_banner\"></div><div class=\"bb\"><form action=\"/login/device-based/regular/login/?refsrc=https%3A%2F%2F0.facebook.com%2F&amp;lwv=100&amp;refid=8\" class=\"bc bd\" id=\"login_form\" method=\"post\" novalidate=\"1\"><input autocomplete=\"off\" name=\"lsd\" type=\"hidden\" value=\"AVoB7ote\"/><input autocomplete=\"off\" name=\"jazoest\" type=\"hidden\" value=\"2711\"/><input name=\"m_ts\" type=\"hidden\" value=\"1581441609\"/><input name=\"li\" type=\"hidden\" value=\"SeJCXoM6n5yMQMdE6mofS0DQ\"/><input name=\"try_number\" type=\"hidden\" value=\"0\"/><input name=\"unrecognized_tries\" type=\"hidden\" value=\"0\"/><ul class=\"be bf bg\"><li class=\"bf\"><span class=\"bh bi\" id=\"u_0_0\">Phone number or email address</span><input autocapitalize=\"off\" autocomplete=\"on\" autocorrect=\"off\" class=\"bj bk bl\" id=\"m_login_email\" name=\"email\" type=\"text\"/></li><li class=\"bf\"><div><span class=\"bh bi\" id=\"u_0_1\">Password</span><input autocapitalize=\"off\" autocomplete=\"on\" autocorrect=\"off\" class=\"bj bk bm bn\" name=\"pass\" type=\"password\"/></div></li><li class=\"bf\"><input class=\"l q m bo bp bq\" name=\"login\" type=\"submit\" value=\"Log In\"/></li></ul><div><div class=\"br\"><span class=\"bs\">or</span></div><div class=\"bt bu\"><div class=\"bt bv bw\" id=\"signup-button\" tabindex=\"0\"><input class=\"l q m bx bp by\" name=\"sign_up\" type=\"submit\" value=\"Create New Account\"/></div></div></div><div></div><noscript><input name=\"_fb_noscript\" type=\"hidden\" value=\"true\"/></noscript></form><div class=\"bz ca\"><span class=\"cb cc\"><ul class=\"be cd\"><li class=\"bf\"><a href=\"/recover/initiate/?c=https%3A%2F%2Fm.facebook.com%2F%3Fzero_e%3D6%26zero_et%3D1581441669%26refsrc%3Dhttps%253A%252F%252F0.facebook.com%252F&amp;r&amp;cuid&amp;ars=facebook_login&amp;lwv=100&amp;refid=8\" id=\"forgot-password-link\" tabindex=\"0\">Forgotten password?</a></li><li class=\"bf\"></li><li class=\"bf\"></li></ul></span></div></div></div></td></tr></tbody></table><div style=\"display:none\"></div><span><img height=\"0\" src=\"https://facebook.com/security/hsts-pixel.gif?c=3.2\" style=\"display:none\" width=\"0\"/></span></div></div>"
      ]
     },
     "execution_count": 70,
     "metadata": {},
     "output_type": "execute_result"
    }
   ],
   "source": [
    "soup.find('div', class_='g').find_next_sibling()"
   ]
  },
  {
   "cell_type": "code",
   "execution_count": 71,
   "metadata": {},
   "outputs": [
    {
     "data": {
      "text/plain": [
       "[<b class=\"ch\">English (UK)</b>]"
      ]
     },
     "execution_count": 71,
     "metadata": {},
     "output_type": "execute_result"
    }
   ],
   "source": [
    "soup.find('a', string=re.compile('Por')).find_previous_siblings('b')"
   ]
  },
  {
   "cell_type": "markdown",
   "metadata": {},
   "source": [
    "find_all_next() and find_all_previous() is like find_all() but they search the previous and next tags in the parse tree of the HTML file respectively.\n",
    "\n",
    "Similarly find_next() and find_previous() returns only the first tag fulfilling the conditions\n"
   ]
  },
  {
   "cell_type": "code",
   "execution_count": 72,
   "metadata": {},
   "outputs": [
    {
     "data": {
      "text/plain": [
       "[<table cellpadding=\"0\" cellspacing=\"0\" class=\"i\"><tbody><tr><td valign=\"middle\"><h1 style=\"display:block;height:0;overflow:hidden;position:absolute;width:0;padding:0\">Facebook</h1><img alt=\"facebook\" class=\"j\" height=\"16\" src=\"https://static.xx.fbcdn.net/rsrc.php/v3/y8/r/k97pj8-or6s.png\" width=\"77\"/></td><td class=\"k\" valign=\"middle\"><a class=\"l m n o p q\" href=\"/reg/?cid=102&amp;refid=8\"><span class=\"s\">Create Account</span></a></td></tr></tbody></table>,\n",
       " <table class=\"t\"><tbody><tr><td class=\"u\"><div class=\"v w x\" id=\"login_error\" style=\"display: none;\"><div class=\"y\"></div></div><div class=\"z ba\"><div id=\"login_top_banner\"></div><div class=\"bb\"><form action=\"/login/device-based/regular/login/?refsrc=https%3A%2F%2F0.facebook.com%2F&amp;lwv=100&amp;refid=8\" class=\"bc bd\" id=\"login_form\" method=\"post\" novalidate=\"1\"><input autocomplete=\"off\" name=\"lsd\" type=\"hidden\" value=\"AVoB7ote\"/><input autocomplete=\"off\" name=\"jazoest\" type=\"hidden\" value=\"2711\"/><input name=\"m_ts\" type=\"hidden\" value=\"1581441609\"/><input name=\"li\" type=\"hidden\" value=\"SeJCXoM6n5yMQMdE6mofS0DQ\"/><input name=\"try_number\" type=\"hidden\" value=\"0\"/><input name=\"unrecognized_tries\" type=\"hidden\" value=\"0\"/><ul class=\"be bf bg\"><li class=\"bf\"><span class=\"bh bi\" id=\"u_0_0\">Phone number or email address</span><input autocapitalize=\"off\" autocomplete=\"on\" autocorrect=\"off\" class=\"bj bk bl\" id=\"m_login_email\" name=\"email\" type=\"text\"/></li><li class=\"bf\"><div><span class=\"bh bi\" id=\"u_0_1\">Password</span><input autocapitalize=\"off\" autocomplete=\"on\" autocorrect=\"off\" class=\"bj bk bm bn\" name=\"pass\" type=\"password\"/></div></li><li class=\"bf\"><input class=\"l q m bo bp bq\" name=\"login\" type=\"submit\" value=\"Log In\"/></li></ul><div><div class=\"br\"><span class=\"bs\">or</span></div><div class=\"bt bu\"><div class=\"bt bv bw\" id=\"signup-button\" tabindex=\"0\"><input class=\"l q m bx bp by\" name=\"sign_up\" type=\"submit\" value=\"Create New Account\"/></div></div></div><div></div><noscript><input name=\"_fb_noscript\" type=\"hidden\" value=\"true\"/></noscript></form><div class=\"bz ca\"><span class=\"cb cc\"><ul class=\"be cd\"><li class=\"bf\"><a href=\"/recover/initiate/?c=https%3A%2F%2Fm.facebook.com%2F%3Fzero_e%3D6%26zero_et%3D1581441669%26refsrc%3Dhttps%253A%252F%252F0.facebook.com%252F&amp;r&amp;cuid&amp;ars=facebook_login&amp;lwv=100&amp;refid=8\" id=\"forgot-password-link\" tabindex=\"0\">Forgotten password?</a></li><li class=\"bf\"></li><li class=\"bf\"></li></ul></span></div></div></div></td></tr></tbody></table>,\n",
       " <table class=\"t\"><tbody><tr><td class=\"u cg\" style=\"width:50%\"><b class=\"ch\">English (UK)</b><a class=\"ci\" href=\"/a/language.php?l=as_IN&amp;lref=https%3A%2F%2Fm.facebook.com%2F%3Fzero_e%3D6%26zero_et%3D1581441669%26refsrc%3Dhttps%253A%252F%252F0.facebook.com%252F&amp;index=2&amp;sref=legacy_mbasic_footer&amp;gfid=AQBOoS6Z1friG7g2&amp;ref_component=mbasic_footer&amp;ref_page=%2Fwap%2Findex.php&amp;refid=8\">\\u0985\\u09b8\\u09ae\\u09c0\\u09af\\u09bc\\u09be</a><a class=\"ci\" href=\"/a/language.php?l=pt_BR&amp;lref=https%3A%2F%2Fm.facebook.com%2F%3Fzero_e%3D6%26zero_et%3D1581441669%26refsrc%3Dhttps%253A%252F%252F0.facebook.com%252F&amp;index=4&amp;sref=legacy_mbasic_footer&amp;gfid=AQDK3Eh9WdQjDzE1&amp;ref_component=mbasic_footer&amp;ref_page=%2Fwap%2Findex.php&amp;refid=8\">Portugu\\xeas (Brasil)</a></td><td class=\"u cj\" style=\"width:50%\"><a class=\"ci\" href=\"/a/language.php?l=bn_IN&amp;lref=https%3A%2F%2Fm.facebook.com%2F%3Fzero_e%3D6%26zero_et%3D1581441669%26refsrc%3Dhttps%253A%252F%252F0.facebook.com%252F&amp;index=1&amp;sref=legacy_mbasic_footer&amp;gfid=AQAkXMDY-j913gyY&amp;ref_component=mbasic_footer&amp;ref_page=%2Fwap%2Findex.php&amp;refid=8\">\\u09ac\\u09be\\u0982\\u09b2\\u09be</a><a class=\"ci\" href=\"/a/language.php?l=es_LA&amp;lref=https%3A%2F%2Fm.facebook.com%2F%3Fzero_e%3D6%26zero_et%3D1581441669%26refsrc%3Dhttps%253A%252F%252F0.facebook.com%252F&amp;index=3&amp;sref=legacy_mbasic_footer&amp;gfid=AQCIboLU0YhMT-j1&amp;ref_component=mbasic_footer&amp;ref_page=%2Fwap%2Findex.php&amp;refid=8\">Espa\\xf1ol</a><a class=\"ci\" href=\"/language.php?n=https%3A%2F%2Fm.facebook.com%2F%3Fzero_e%3D6%26zero_et%3D1581441669%26refsrc%3Dhttps%253A%252F%252F0.facebook.com%252F&amp;ref_component=mbasic_footer&amp;ref_page=%2Fwap%2Findex.php&amp;refid=8\"><div class=\"ck\"> + </div></a></td></tr></tbody></table>]"
      ]
     },
     "execution_count": 72,
     "metadata": {},
     "output_type": "execute_result"
    }
   ],
   "source": [
    "soup.find('div', class_='g').find_all_next('table')"
   ]
  },
  {
   "cell_type": "code",
   "execution_count": 73,
   "metadata": {},
   "outputs": [
    {
     "data": {
      "text/plain": [
       "<div class=\"f\"><div id=\"viewport\"><div class=\"g h\" id=\"header\"><table cellpadding=\"0\" cellspacing=\"0\" class=\"i\"><tbody><tr><td valign=\"middle\"><h1 style=\"display:block;height:0;overflow:hidden;position:absolute;width:0;padding:0\">Facebook</h1><img alt=\"facebook\" class=\"j\" height=\"16\" src=\"https://static.xx.fbcdn.net/rsrc.php/v3/y8/r/k97pj8-or6s.png\" width=\"77\"/></td><td class=\"k\" valign=\"middle\"><a class=\"l m n o p q\" href=\"/reg/?cid=102&amp;refid=8\"><span class=\"s\">Create Account</span></a></td></tr></tbody></table></div><div id=\"objects_container\"><div class=\"e\" id=\"root\"><table class=\"t\"><tbody><tr><td class=\"u\"><div class=\"v w x\" id=\"login_error\" style=\"display: none;\"><div class=\"y\"></div></div><div class=\"z ba\"><div id=\"login_top_banner\"></div><div class=\"bb\"><form action=\"/login/device-based/regular/login/?refsrc=https%3A%2F%2F0.facebook.com%2F&amp;lwv=100&amp;refid=8\" class=\"bc bd\" id=\"login_form\" method=\"post\" novalidate=\"1\"><input autocomplete=\"off\" name=\"lsd\" type=\"hidden\" value=\"AVoB7ote\"/><input autocomplete=\"off\" name=\"jazoest\" type=\"hidden\" value=\"2711\"/><input name=\"m_ts\" type=\"hidden\" value=\"1581441609\"/><input name=\"li\" type=\"hidden\" value=\"SeJCXoM6n5yMQMdE6mofS0DQ\"/><input name=\"try_number\" type=\"hidden\" value=\"0\"/><input name=\"unrecognized_tries\" type=\"hidden\" value=\"0\"/><ul class=\"be bf bg\"><li class=\"bf\"><span class=\"bh bi\" id=\"u_0_0\">Phone number or email address</span><input autocapitalize=\"off\" autocomplete=\"on\" autocorrect=\"off\" class=\"bj bk bl\" id=\"m_login_email\" name=\"email\" type=\"text\"/></li><li class=\"bf\"><div><span class=\"bh bi\" id=\"u_0_1\">Password</span><input autocapitalize=\"off\" autocomplete=\"on\" autocorrect=\"off\" class=\"bj bk bm bn\" name=\"pass\" type=\"password\"/></div></li><li class=\"bf\"><input class=\"l q m bo bp bq\" name=\"login\" type=\"submit\" value=\"Log In\"/></li></ul><div><div class=\"br\"><span class=\"bs\">or</span></div><div class=\"bt bu\"><div class=\"bt bv bw\" id=\"signup-button\" tabindex=\"0\"><input class=\"l q m bx bp by\" name=\"sign_up\" type=\"submit\" value=\"Create New Account\"/></div></div></div><div></div><noscript><input name=\"_fb_noscript\" type=\"hidden\" value=\"true\"/></noscript></form><div class=\"bz ca\"><span class=\"cb cc\"><ul class=\"be cd\"><li class=\"bf\"><a href=\"/recover/initiate/?c=https%3A%2F%2Fm.facebook.com%2F%3Fzero_e%3D6%26zero_et%3D1581441669%26refsrc%3Dhttps%253A%252F%252F0.facebook.com%252F&amp;r&amp;cuid&amp;ars=facebook_login&amp;lwv=100&amp;refid=8\" id=\"forgot-password-link\" tabindex=\"0\">Forgotten password?</a></li><li class=\"bf\"></li><li class=\"bf\"></li></ul></span></div></div></div></td></tr></tbody></table><div style=\"display:none\"></div><span><img height=\"0\" src=\"https://facebook.com/security/hsts-pixel.gif?c=3.2\" style=\"display:none\" width=\"0\"/></span></div></div><div><div class=\"ce\"><div class=\"cf\"><table class=\"t\"><tbody><tr><td class=\"u cg\" style=\"width:50%\"><b class=\"ch\">English (UK)</b><a class=\"ci\" href=\"/a/language.php?l=as_IN&amp;lref=https%3A%2F%2Fm.facebook.com%2F%3Fzero_e%3D6%26zero_et%3D1581441669%26refsrc%3Dhttps%253A%252F%252F0.facebook.com%252F&amp;index=2&amp;sref=legacy_mbasic_footer&amp;gfid=AQBOoS6Z1friG7g2&amp;ref_component=mbasic_footer&amp;ref_page=%2Fwap%2Findex.php&amp;refid=8\">\\u0985\\u09b8\\u09ae\\u09c0\\u09af\\u09bc\\u09be</a><a class=\"ci\" href=\"/a/language.php?l=pt_BR&amp;lref=https%3A%2F%2Fm.facebook.com%2F%3Fzero_e%3D6%26zero_et%3D1581441669%26refsrc%3Dhttps%253A%252F%252F0.facebook.com%252F&amp;index=4&amp;sref=legacy_mbasic_footer&amp;gfid=AQDK3Eh9WdQjDzE1&amp;ref_component=mbasic_footer&amp;ref_page=%2Fwap%2Findex.php&amp;refid=8\">Portugu\\xeas (Brasil)</a></td><td class=\"u cj\" style=\"width:50%\"><a class=\"ci\" href=\"/a/language.php?l=bn_IN&amp;lref=https%3A%2F%2Fm.facebook.com%2F%3Fzero_e%3D6%26zero_et%3D1581441669%26refsrc%3Dhttps%253A%252F%252F0.facebook.com%252F&amp;index=1&amp;sref=legacy_mbasic_footer&amp;gfid=AQAkXMDY-j913gyY&amp;ref_component=mbasic_footer&amp;ref_page=%2Fwap%2Findex.php&amp;refid=8\">\\u09ac\\u09be\\u0982\\u09b2\\u09be</a><a class=\"ci\" href=\"/a/language.php?l=es_LA&amp;lref=https%3A%2F%2Fm.facebook.com%2F%3Fzero_e%3D6%26zero_et%3D1581441669%26refsrc%3Dhttps%253A%252F%252F0.facebook.com%252F&amp;index=3&amp;sref=legacy_mbasic_footer&amp;gfid=AQCIboLU0YhMT-j1&amp;ref_component=mbasic_footer&amp;ref_page=%2Fwap%2Findex.php&amp;refid=8\">Espa\\xf1ol</a><a class=\"ci\" href=\"/language.php?n=https%3A%2F%2Fm.facebook.com%2F%3Fzero_e%3D6%26zero_et%3D1581441669%26refsrc%3Dhttps%253A%252F%252F0.facebook.com%252F&amp;ref_component=mbasic_footer&amp;ref_page=%2Fwap%2Findex.php&amp;refid=8\"><div class=\"ck\"> + </div></a></td></tr></tbody></table></div><span class=\"bh cl cm\">Facebook Inc.</span></div></div></div></div>"
      ]
     },
     "execution_count": 73,
     "metadata": {},
     "output_type": "execute_result"
    }
   ],
   "source": [
    "soup.find('div', class_='g').find_previous(class_='f')"
   ]
  },
  {
   "cell_type": "markdown",
   "metadata": {},
   "source": [
    "### CSS Selectors\n",
    "BeautifulSoup has a .select() method which can be used to enter CSS selectors, which is similar to the method CSS uses to select elements for styling"
   ]
  },
  {
   "cell_type": "code",
   "execution_count": 74,
   "metadata": {},
   "outputs": [
    {
     "data": {
      "text/plain": [
       "[<title>Facebook \\u2013 log in or sign up</title>]"
      ]
     },
     "execution_count": 74,
     "metadata": {},
     "output_type": "execute_result"
    }
   ],
   "source": [
    "soup.select('title')"
   ]
  },
  {
   "cell_type": "markdown",
   "metadata": {},
   "source": [
    "You can select tags inside other tags"
   ]
  },
  {
   "cell_type": "code",
   "execution_count": 75,
   "metadata": {},
   "outputs": [
    {
     "data": {
      "text/plain": [
       "[<table cellpadding=\"0\" cellspacing=\"0\" class=\"i\"><tbody><tr><td valign=\"middle\"><h1 style=\"display:block;height:0;overflow:hidden;position:absolute;width:0;padding:0\">Facebook</h1><img alt=\"facebook\" class=\"j\" height=\"16\" src=\"https://static.xx.fbcdn.net/rsrc.php/v3/y8/r/k97pj8-or6s.png\" width=\"77\"/></td><td class=\"k\" valign=\"middle\"><a class=\"l m n o p q\" href=\"/reg/?cid=102&amp;refid=8\"><span class=\"s\">Create Account</span></a></td></tr></tbody></table>,\n",
       " <table class=\"t\"><tbody><tr><td class=\"u\"><div class=\"v w x\" id=\"login_error\" style=\"display: none;\"><div class=\"y\"></div></div><div class=\"z ba\"><div id=\"login_top_banner\"></div><div class=\"bb\"><form action=\"/login/device-based/regular/login/?refsrc=https%3A%2F%2F0.facebook.com%2F&amp;lwv=100&amp;refid=8\" class=\"bc bd\" id=\"login_form\" method=\"post\" novalidate=\"1\"><input autocomplete=\"off\" name=\"lsd\" type=\"hidden\" value=\"AVoB7ote\"/><input autocomplete=\"off\" name=\"jazoest\" type=\"hidden\" value=\"2711\"/><input name=\"m_ts\" type=\"hidden\" value=\"1581441609\"/><input name=\"li\" type=\"hidden\" value=\"SeJCXoM6n5yMQMdE6mofS0DQ\"/><input name=\"try_number\" type=\"hidden\" value=\"0\"/><input name=\"unrecognized_tries\" type=\"hidden\" value=\"0\"/><ul class=\"be bf bg\"><li class=\"bf\"><span class=\"bh bi\" id=\"u_0_0\">Phone number or email address</span><input autocapitalize=\"off\" autocomplete=\"on\" autocorrect=\"off\" class=\"bj bk bl\" id=\"m_login_email\" name=\"email\" type=\"text\"/></li><li class=\"bf\"><div><span class=\"bh bi\" id=\"u_0_1\">Password</span><input autocapitalize=\"off\" autocomplete=\"on\" autocorrect=\"off\" class=\"bj bk bm bn\" name=\"pass\" type=\"password\"/></div></li><li class=\"bf\"><input class=\"l q m bo bp bq\" name=\"login\" type=\"submit\" value=\"Log In\"/></li></ul><div><div class=\"br\"><span class=\"bs\">or</span></div><div class=\"bt bu\"><div class=\"bt bv bw\" id=\"signup-button\" tabindex=\"0\"><input class=\"l q m bx bp by\" name=\"sign_up\" type=\"submit\" value=\"Create New Account\"/></div></div></div><div></div><noscript><input name=\"_fb_noscript\" type=\"hidden\" value=\"true\"/></noscript></form><div class=\"bz ca\"><span class=\"cb cc\"><ul class=\"be cd\"><li class=\"bf\"><a href=\"/recover/initiate/?c=https%3A%2F%2Fm.facebook.com%2F%3Fzero_e%3D6%26zero_et%3D1581441669%26refsrc%3Dhttps%253A%252F%252F0.facebook.com%252F&amp;r&amp;cuid&amp;ars=facebook_login&amp;lwv=100&amp;refid=8\" id=\"forgot-password-link\" tabindex=\"0\">Forgotten password?</a></li><li class=\"bf\"></li><li class=\"bf\"></li></ul></span></div></div></div></td></tr></tbody></table>,\n",
       " <table class=\"t\"><tbody><tr><td class=\"u cg\" style=\"width:50%\"><b class=\"ch\">English (UK)</b><a class=\"ci\" href=\"/a/language.php?l=as_IN&amp;lref=https%3A%2F%2Fm.facebook.com%2F%3Fzero_e%3D6%26zero_et%3D1581441669%26refsrc%3Dhttps%253A%252F%252F0.facebook.com%252F&amp;index=2&amp;sref=legacy_mbasic_footer&amp;gfid=AQBOoS6Z1friG7g2&amp;ref_component=mbasic_footer&amp;ref_page=%2Fwap%2Findex.php&amp;refid=8\">\\u0985\\u09b8\\u09ae\\u09c0\\u09af\\u09bc\\u09be</a><a class=\"ci\" href=\"/a/language.php?l=pt_BR&amp;lref=https%3A%2F%2Fm.facebook.com%2F%3Fzero_e%3D6%26zero_et%3D1581441669%26refsrc%3Dhttps%253A%252F%252F0.facebook.com%252F&amp;index=4&amp;sref=legacy_mbasic_footer&amp;gfid=AQDK3Eh9WdQjDzE1&amp;ref_component=mbasic_footer&amp;ref_page=%2Fwap%2Findex.php&amp;refid=8\">Portugu\\xeas (Brasil)</a></td><td class=\"u cj\" style=\"width:50%\"><a class=\"ci\" href=\"/a/language.php?l=bn_IN&amp;lref=https%3A%2F%2Fm.facebook.com%2F%3Fzero_e%3D6%26zero_et%3D1581441669%26refsrc%3Dhttps%253A%252F%252F0.facebook.com%252F&amp;index=1&amp;sref=legacy_mbasic_footer&amp;gfid=AQAkXMDY-j913gyY&amp;ref_component=mbasic_footer&amp;ref_page=%2Fwap%2Findex.php&amp;refid=8\">\\u09ac\\u09be\\u0982\\u09b2\\u09be</a><a class=\"ci\" href=\"/a/language.php?l=es_LA&amp;lref=https%3A%2F%2Fm.facebook.com%2F%3Fzero_e%3D6%26zero_et%3D1581441669%26refsrc%3Dhttps%253A%252F%252F0.facebook.com%252F&amp;index=3&amp;sref=legacy_mbasic_footer&amp;gfid=AQCIboLU0YhMT-j1&amp;ref_component=mbasic_footer&amp;ref_page=%2Fwap%2Findex.php&amp;refid=8\">Espa\\xf1ol</a><a class=\"ci\" href=\"/language.php?n=https%3A%2F%2Fm.facebook.com%2F%3Fzero_e%3D6%26zero_et%3D1581441669%26refsrc%3Dhttps%253A%252F%252F0.facebook.com%252F&amp;ref_component=mbasic_footer&amp;ref_page=%2Fwap%2Findex.php&amp;refid=8\"><div class=\"ck\"> + </div></a></td></tr></tbody></table>]"
      ]
     },
     "execution_count": 75,
     "metadata": {},
     "output_type": "execute_result"
    }
   ],
   "source": [
    "soup.select('body div div table')"
   ]
  },
  {
   "cell_type": "markdown",
   "metadata": {},
   "source": [
    "You can select direct descendants"
   ]
  },
  {
   "cell_type": "code",
   "execution_count": 76,
   "metadata": {},
   "outputs": [
    {
     "data": {
      "text/plain": [
       "[<title>Facebook \\u2013 log in or sign up</title>]"
      ]
     },
     "execution_count": 76,
     "metadata": {},
     "output_type": "execute_result"
    }
   ],
   "source": [
    "soup.select('head > title')"
   ]
  },
  {
   "cell_type": "markdown",
   "metadata": {},
   "source": [
    "You can find tags by id"
   ]
  },
  {
   "cell_type": "code",
   "execution_count": 77,
   "metadata": {},
   "outputs": [
    {
     "data": {
      "text/plain": [
       "[<div id=\"login_top_banner\"></div>]"
      ]
     },
     "execution_count": 77,
     "metadata": {},
     "output_type": "execute_result"
    }
   ],
   "source": [
    "soup.select('div#login_top_banner')"
   ]
  },
  {
   "cell_type": "markdown",
   "metadata": {},
   "source": [
    "You can find tags by CSS class"
   ]
  },
  {
   "cell_type": "code",
   "execution_count": 78,
   "metadata": {},
   "outputs": [
    {
     "data": {
      "text/plain": [
       "[<table class=\"t\"><tbody><tr><td class=\"u\"><div class=\"v w x\" id=\"login_error\" style=\"display: none;\"><div class=\"y\"></div></div><div class=\"z ba\"><div id=\"login_top_banner\"></div><div class=\"bb\"><form action=\"/login/device-based/regular/login/?refsrc=https%3A%2F%2F0.facebook.com%2F&amp;lwv=100&amp;refid=8\" class=\"bc bd\" id=\"login_form\" method=\"post\" novalidate=\"1\"><input autocomplete=\"off\" name=\"lsd\" type=\"hidden\" value=\"AVoB7ote\"/><input autocomplete=\"off\" name=\"jazoest\" type=\"hidden\" value=\"2711\"/><input name=\"m_ts\" type=\"hidden\" value=\"1581441609\"/><input name=\"li\" type=\"hidden\" value=\"SeJCXoM6n5yMQMdE6mofS0DQ\"/><input name=\"try_number\" type=\"hidden\" value=\"0\"/><input name=\"unrecognized_tries\" type=\"hidden\" value=\"0\"/><ul class=\"be bf bg\"><li class=\"bf\"><span class=\"bh bi\" id=\"u_0_0\">Phone number or email address</span><input autocapitalize=\"off\" autocomplete=\"on\" autocorrect=\"off\" class=\"bj bk bl\" id=\"m_login_email\" name=\"email\" type=\"text\"/></li><li class=\"bf\"><div><span class=\"bh bi\" id=\"u_0_1\">Password</span><input autocapitalize=\"off\" autocomplete=\"on\" autocorrect=\"off\" class=\"bj bk bm bn\" name=\"pass\" type=\"password\"/></div></li><li class=\"bf\"><input class=\"l q m bo bp bq\" name=\"login\" type=\"submit\" value=\"Log In\"/></li></ul><div><div class=\"br\"><span class=\"bs\">or</span></div><div class=\"bt bu\"><div class=\"bt bv bw\" id=\"signup-button\" tabindex=\"0\"><input class=\"l q m bx bp by\" name=\"sign_up\" type=\"submit\" value=\"Create New Account\"/></div></div></div><div></div><noscript><input name=\"_fb_noscript\" type=\"hidden\" value=\"true\"/></noscript></form><div class=\"bz ca\"><span class=\"cb cc\"><ul class=\"be cd\"><li class=\"bf\"><a href=\"/recover/initiate/?c=https%3A%2F%2Fm.facebook.com%2F%3Fzero_e%3D6%26zero_et%3D1581441669%26refsrc%3Dhttps%253A%252F%252F0.facebook.com%252F&amp;r&amp;cuid&amp;ars=facebook_login&amp;lwv=100&amp;refid=8\" id=\"forgot-password-link\" tabindex=\"0\">Forgotten password?</a></li><li class=\"bf\"></li><li class=\"bf\"></li></ul></span></div></div></div></td></tr></tbody></table>,\n",
       " <table class=\"t\"><tbody><tr><td class=\"u cg\" style=\"width:50%\"><b class=\"ch\">English (UK)</b><a class=\"ci\" href=\"/a/language.php?l=as_IN&amp;lref=https%3A%2F%2Fm.facebook.com%2F%3Fzero_e%3D6%26zero_et%3D1581441669%26refsrc%3Dhttps%253A%252F%252F0.facebook.com%252F&amp;index=2&amp;sref=legacy_mbasic_footer&amp;gfid=AQBOoS6Z1friG7g2&amp;ref_component=mbasic_footer&amp;ref_page=%2Fwap%2Findex.php&amp;refid=8\">\\u0985\\u09b8\\u09ae\\u09c0\\u09af\\u09bc\\u09be</a><a class=\"ci\" href=\"/a/language.php?l=pt_BR&amp;lref=https%3A%2F%2Fm.facebook.com%2F%3Fzero_e%3D6%26zero_et%3D1581441669%26refsrc%3Dhttps%253A%252F%252F0.facebook.com%252F&amp;index=4&amp;sref=legacy_mbasic_footer&amp;gfid=AQDK3Eh9WdQjDzE1&amp;ref_component=mbasic_footer&amp;ref_page=%2Fwap%2Findex.php&amp;refid=8\">Portugu\\xeas (Brasil)</a></td><td class=\"u cj\" style=\"width:50%\"><a class=\"ci\" href=\"/a/language.php?l=bn_IN&amp;lref=https%3A%2F%2Fm.facebook.com%2F%3Fzero_e%3D6%26zero_et%3D1581441669%26refsrc%3Dhttps%253A%252F%252F0.facebook.com%252F&amp;index=1&amp;sref=legacy_mbasic_footer&amp;gfid=AQAkXMDY-j913gyY&amp;ref_component=mbasic_footer&amp;ref_page=%2Fwap%2Findex.php&amp;refid=8\">\\u09ac\\u09be\\u0982\\u09b2\\u09be</a><a class=\"ci\" href=\"/a/language.php?l=es_LA&amp;lref=https%3A%2F%2Fm.facebook.com%2F%3Fzero_e%3D6%26zero_et%3D1581441669%26refsrc%3Dhttps%253A%252F%252F0.facebook.com%252F&amp;index=3&amp;sref=legacy_mbasic_footer&amp;gfid=AQCIboLU0YhMT-j1&amp;ref_component=mbasic_footer&amp;ref_page=%2Fwap%2Findex.php&amp;refid=8\">Espa\\xf1ol</a><a class=\"ci\" href=\"/language.php?n=https%3A%2F%2Fm.facebook.com%2F%3Fzero_e%3D6%26zero_et%3D1581441669%26refsrc%3Dhttps%253A%252F%252F0.facebook.com%252F&amp;ref_component=mbasic_footer&amp;ref_page=%2Fwap%2Findex.php&amp;refid=8\"><div class=\"ck\"> + </div></a></td></tr></tbody></table>]"
      ]
     },
     "execution_count": 78,
     "metadata": {},
     "output_type": "execute_result"
    }
   ],
   "source": [
    "soup.select('.t')"
   ]
  },
  {
   "cell_type": "markdown",
   "metadata": {},
   "source": [
    "You can select siblings of tags"
   ]
  },
  {
   "cell_type": "code",
   "execution_count": 79,
   "metadata": {},
   "outputs": [
    {
     "data": {
      "text/plain": [
       "[<div id=\"objects_container\"><div class=\"e\" id=\"root\"><table class=\"t\"><tbody><tr><td class=\"u\"><div class=\"v w x\" id=\"login_error\" style=\"display: none;\"><div class=\"y\"></div></div><div class=\"z ba\"><div id=\"login_top_banner\"></div><div class=\"bb\"><form action=\"/login/device-based/regular/login/?refsrc=https%3A%2F%2F0.facebook.com%2F&amp;lwv=100&amp;refid=8\" class=\"bc bd\" id=\"login_form\" method=\"post\" novalidate=\"1\"><input autocomplete=\"off\" name=\"lsd\" type=\"hidden\" value=\"AVoB7ote\"/><input autocomplete=\"off\" name=\"jazoest\" type=\"hidden\" value=\"2711\"/><input name=\"m_ts\" type=\"hidden\" value=\"1581441609\"/><input name=\"li\" type=\"hidden\" value=\"SeJCXoM6n5yMQMdE6mofS0DQ\"/><input name=\"try_number\" type=\"hidden\" value=\"0\"/><input name=\"unrecognized_tries\" type=\"hidden\" value=\"0\"/><ul class=\"be bf bg\"><li class=\"bf\"><span class=\"bh bi\" id=\"u_0_0\">Phone number or email address</span><input autocapitalize=\"off\" autocomplete=\"on\" autocorrect=\"off\" class=\"bj bk bl\" id=\"m_login_email\" name=\"email\" type=\"text\"/></li><li class=\"bf\"><div><span class=\"bh bi\" id=\"u_0_1\">Password</span><input autocapitalize=\"off\" autocomplete=\"on\" autocorrect=\"off\" class=\"bj bk bm bn\" name=\"pass\" type=\"password\"/></div></li><li class=\"bf\"><input class=\"l q m bo bp bq\" name=\"login\" type=\"submit\" value=\"Log In\"/></li></ul><div><div class=\"br\"><span class=\"bs\">or</span></div><div class=\"bt bu\"><div class=\"bt bv bw\" id=\"signup-button\" tabindex=\"0\"><input class=\"l q m bx bp by\" name=\"sign_up\" type=\"submit\" value=\"Create New Account\"/></div></div></div><div></div><noscript><input name=\"_fb_noscript\" type=\"hidden\" value=\"true\"/></noscript></form><div class=\"bz ca\"><span class=\"cb cc\"><ul class=\"be cd\"><li class=\"bf\"><a href=\"/recover/initiate/?c=https%3A%2F%2Fm.facebook.com%2F%3Fzero_e%3D6%26zero_et%3D1581441669%26refsrc%3Dhttps%253A%252F%252F0.facebook.com%252F&amp;r&amp;cuid&amp;ars=facebook_login&amp;lwv=100&amp;refid=8\" id=\"forgot-password-link\" tabindex=\"0\">Forgotten password?</a></li><li class=\"bf\"></li><li class=\"bf\"></li></ul></span></div></div></div></td></tr></tbody></table><div style=\"display:none\"></div><span><img height=\"0\" src=\"https://facebook.com/security/hsts-pixel.gif?c=3.2\" style=\"display:none\" width=\"0\"/></span></div></div>]"
      ]
     },
     "execution_count": 79,
     "metadata": {},
     "output_type": "execute_result"
    }
   ],
   "source": [
    "soup.select('div.g + div')"
   ]
  },
  {
   "cell_type": "code",
   "execution_count": 80,
   "metadata": {},
   "outputs": [
    {
     "data": {
      "text/plain": [
       "[<meta content=\"default\" id=\"meta_referrer\" name=\"referrer\"/>,\n",
       " <meta content=\"Create an account or log in to Facebook. Connect with friends, family and other people you know. Share photos and videos, send messages and get updates.\" name=\"description\"/>]"
      ]
     },
     "execution_count": 80,
     "metadata": {},
     "output_type": "execute_result"
    }
   ],
   "source": [
    "soup.select('head title ~ meta')"
   ]
  },
  {
   "cell_type": "markdown",
   "metadata": {},
   "source": [
    "You can find tags having certain attributes and having certain values"
   ]
  },
  {
   "cell_type": "code",
   "execution_count": 81,
   "metadata": {},
   "outputs": [
    {
     "data": {
      "text/plain": [
       "[<a class=\"l m n o p q\" href=\"/reg/?cid=102&amp;refid=8\"><span class=\"s\">Create Account</span></a>,\n",
       " <a href=\"/recover/initiate/?c=https%3A%2F%2Fm.facebook.com%2F%3Fzero_e%3D6%26zero_et%3D1581441669%26refsrc%3Dhttps%253A%252F%252F0.facebook.com%252F&amp;r&amp;cuid&amp;ars=facebook_login&amp;lwv=100&amp;refid=8\" id=\"forgot-password-link\" tabindex=\"0\">Forgotten password?</a>,\n",
       " <a class=\"ci\" href=\"/a/language.php?l=as_IN&amp;lref=https%3A%2F%2Fm.facebook.com%2F%3Fzero_e%3D6%26zero_et%3D1581441669%26refsrc%3Dhttps%253A%252F%252F0.facebook.com%252F&amp;index=2&amp;sref=legacy_mbasic_footer&amp;gfid=AQBOoS6Z1friG7g2&amp;ref_component=mbasic_footer&amp;ref_page=%2Fwap%2Findex.php&amp;refid=8\">\\u0985\\u09b8\\u09ae\\u09c0\\u09af\\u09bc\\u09be</a>,\n",
       " <a class=\"ci\" href=\"/a/language.php?l=pt_BR&amp;lref=https%3A%2F%2Fm.facebook.com%2F%3Fzero_e%3D6%26zero_et%3D1581441669%26refsrc%3Dhttps%253A%252F%252F0.facebook.com%252F&amp;index=4&amp;sref=legacy_mbasic_footer&amp;gfid=AQDK3Eh9WdQjDzE1&amp;ref_component=mbasic_footer&amp;ref_page=%2Fwap%2Findex.php&amp;refid=8\">Portugu\\xeas (Brasil)</a>,\n",
       " <a class=\"ci\" href=\"/a/language.php?l=bn_IN&amp;lref=https%3A%2F%2Fm.facebook.com%2F%3Fzero_e%3D6%26zero_et%3D1581441669%26refsrc%3Dhttps%253A%252F%252F0.facebook.com%252F&amp;index=1&amp;sref=legacy_mbasic_footer&amp;gfid=AQAkXMDY-j913gyY&amp;ref_component=mbasic_footer&amp;ref_page=%2Fwap%2Findex.php&amp;refid=8\">\\u09ac\\u09be\\u0982\\u09b2\\u09be</a>,\n",
       " <a class=\"ci\" href=\"/a/language.php?l=es_LA&amp;lref=https%3A%2F%2Fm.facebook.com%2F%3Fzero_e%3D6%26zero_et%3D1581441669%26refsrc%3Dhttps%253A%252F%252F0.facebook.com%252F&amp;index=3&amp;sref=legacy_mbasic_footer&amp;gfid=AQCIboLU0YhMT-j1&amp;ref_component=mbasic_footer&amp;ref_page=%2Fwap%2Findex.php&amp;refid=8\">Espa\\xf1ol</a>,\n",
       " <a class=\"ci\" href=\"/language.php?n=https%3A%2F%2Fm.facebook.com%2F%3Fzero_e%3D6%26zero_et%3D1581441669%26refsrc%3Dhttps%253A%252F%252F0.facebook.com%252F&amp;ref_component=mbasic_footer&amp;ref_page=%2Fwap%2Findex.php&amp;refid=8\"><div class=\"ck\"> + </div></a>]"
      ]
     },
     "execution_count": 81,
     "metadata": {},
     "output_type": "execute_result"
    }
   ],
   "source": [
    "soup.select('a[href]')"
   ]
  },
  {
   "cell_type": "code",
   "execution_count": 82,
   "metadata": {},
   "outputs": [
    {
     "data": {
      "text/plain": [
       "[]"
      ]
     },
     "execution_count": 82,
     "metadata": {},
     "output_type": "execute_result"
    }
   ],
   "source": [
    "soup.select('input[value=2699]')"
   ]
  },
  {
   "cell_type": "markdown",
   "metadata": {},
   "source": [
    "You can use the select_one() method to select the first tag that matches a CSS selector"
   ]
  },
  {
   "cell_type": "code",
   "execution_count": 83,
   "metadata": {},
   "outputs": [
    {
     "data": {
      "text/plain": [
       "<a class=\"l m n o p q\" href=\"/reg/?cid=102&amp;refid=8\"><span class=\"s\">Create Account</span></a>"
      ]
     },
     "execution_count": 83,
     "metadata": {},
     "output_type": "execute_result"
    }
   ],
   "source": [
    "soup.select_one('a')"
   ]
  },
  {
   "cell_type": "markdown",
   "metadata": {},
   "source": [
    "# JSON\n",
    "JSON is a popular format for sending and receiving data through the web. \n",
    "\n",
    "JSON stands for JavaScript Object Notation\n",
    "\n",
    "It is text which is written in the format a JS object is written\n",
    "\n",
    "Python has built-in support for JSON."
   ]
  },
  {
   "cell_type": "code",
   "execution_count": 84,
   "metadata": {},
   "outputs": [],
   "source": [
    "import json"
   ]
  },
  {
   "cell_type": "markdown",
   "metadata": {},
   "source": [
    "## Parsing JSON - Converting from JSON to Python\n",
    "If you have a JSON file or string, you can parse it by calling the json.loads() method"
   ]
  },
  {
   "cell_type": "code",
   "execution_count": 85,
   "metadata": {},
   "outputs": [],
   "source": [
    "x = '{ \"name\": \"John\", \"age\": 30, \"hobbies\": [\"Gaming\", \"Cycling\"] }'    # A JSON text\n",
    "\n",
    "y = json.loads(x)                                          # Parse x"
   ]
  },
  {
   "cell_type": "markdown",
   "metadata": {},
   "source": [
    "The result will be a Python dictionary"
   ]
  },
  {
   "cell_type": "code",
   "execution_count": 86,
   "metadata": {},
   "outputs": [
    {
     "name": "stdout",
     "output_type": "stream",
     "text": [
      "{u'age': 30, u'name': u'John', u'hobbies': [u'Gaming', u'Cycling']}\n",
      "[u'Gaming', u'Cycling']\n"
     ]
    }
   ],
   "source": [
    "print(y)\n",
    "\n",
    "print(y[\"hobbies\"])     # You can access elements like a normal Python dictionary"
   ]
  },
  {
   "cell_type": "markdown",
   "metadata": {},
   "source": [
    "## Converting from Python to JSON\n",
    "Conversely, if you have a Python object, you can convert it into a JSON string using the json.dumps() methond"
   ]
  },
  {
   "cell_type": "code",
   "execution_count": 87,
   "metadata": {},
   "outputs": [
    {
     "name": "stdout",
     "output_type": "stream",
     "text": [
      "{\"age\": 30, \"name\": \"John\", \"hobbies\": [\"Gaming\", \"Cycling\"]}\n"
     ]
    }
   ],
   "source": [
    "x = {                                  # x is a Python dictionary\n",
    "    \"name\": \"John\",\n",
    "    \"age\": 30,\n",
    "    \"hobbies\": [\"Gaming\", \"Cycling\"]\n",
    "}\n",
    "\n",
    "y = json.dumps(x)                       # Convert x to JSON string\n",
    "\n",
    "print(y)                               # y is a JSON string"
   ]
  },
  {
   "cell_type": "markdown",
   "metadata": {},
   "source": [
    "## Formatting the result\n",
    "Normally json.dumps() will put all the text in one line, which may be difficult to read.\n",
    "If you want to make the JSON string easier to read, you can use the indent parameter in json.dumps()"
   ]
  },
  {
   "cell_type": "code",
   "execution_count": 88,
   "metadata": {},
   "outputs": [
    {
     "name": "stdout",
     "output_type": "stream",
     "text": [
      "{\n",
      "    \"age\": 30, \n",
      "    \"name\": \"John\", \n",
      "    \"hobbies\": [\n",
      "        \"Gaming\", \n",
      "        \"Cycling\"\n",
      "    ]\n",
      "}\n"
     ]
    }
   ],
   "source": [
    "print(json.dumps(x, indent=4))"
   ]
  },
  {
   "cell_type": "markdown",
   "metadata": {},
   "source": [
    "If you want to order all the keys in the result, you can use the sort_keys parameter to specify if the keys should be sorted or not"
   ]
  },
  {
   "cell_type": "code",
   "execution_count": 89,
   "metadata": {},
   "outputs": [
    {
     "name": "stdout",
     "output_type": "stream",
     "text": [
      "{\n",
      "    \"age\": 30, \n",
      "    \"hobbies\": [\n",
      "        \"Gaming\", \n",
      "        \"Cycling\"\n",
      "    ], \n",
      "    \"name\": \"John\"\n",
      "}\n"
     ]
    }
   ],
   "source": [
    "print(json.dumps(x, indent=4, sort_keys=True))"
   ]
  }
 ],
 "metadata": {
  "kernelspec": {
   "display_name": "Python 3",
   "language": "python",
   "name": "python3"
  },
  "language_info": {
   "codemirror_mode": {
    "name": "ipython",
    "version": 2
   },
   "file_extension": ".py",
   "mimetype": "text/x-python",
   "name": "python",
   "nbconvert_exporter": "python",
   "pygments_lexer": "ipython2",
   "version": "2.7.17"
  }
 },
 "nbformat": 4,
 "nbformat_minor": 2
}
